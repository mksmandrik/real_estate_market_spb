{
 "cells": [
  {
   "cell_type": "markdown",
   "metadata": {},
   "source": [
    "    ПРОЕКТ \n",
    "    Мини-проект по Airflow будет проверяться нами вручную, поэтому на этом шаге - полное описание всех этапов его выполнения.\n",
    "\n",
    "    1. Прочитайте csv файл, который находится по этой ссылке, при помощи библиотеки pandas\n",
    "\n",
    "        https://docs.google.com/spreadsheets/d/e/2PACX-1vR-ti6Su94955DZ4Tky8EbwifpgZf_dTjpBdiVH0Ukhsq94jZdqoHuUytZsFZKfwpXEUCKRFteJRc9P/pub?gid=889004448&single=true&output=csv\n",
    "    2. В данных вы найдете информацию о событиях, которые произошли с объявлением 121288 за два дня. Рассчитайте следующие метрики в разрезе каждого дня: количество показов, количество кликов, CTR, сумма потраченных денег. То есть для каждой метрики у вас должно получиться две цифры, за 2019-04-01 и 2019-04-02.\n",
    "\n",
    "    Рассчитать сумму потраченных денег можно по следующей формуле:\n",
    "    Значение из колонки ad_cost разделить на 1000 и умножить на количество показов объявления.\n",
    "\n",
    "    3. Теперь найдите процентную разницу между этими метриками. То есть найдите, насколько процентов каждая метрика увеличилась/уменьшилась 2 апреля по сравнению с 1 апреля.\n",
    "\n",
    "    4. Создайте текстовый файл, в котором будет собрана информация о том, какие метрики наблюдаются 2 апреля (представьте, что 2 апреля это сегодня, условно, вы отправляете отчет за сегодня, сравнивая данные со вчера), а также, на сколько процентов они уменьшились по сравнению со вчера. То есть в текстовом файле должен быть список метрик, их значения 2 апреля и процентное отличие от 1 апреля. Вариант текстового отчета:\n",
    "\n",
    "    Отчет по объявлению 121288 за 2 апреля\n",
    "    Траты: Х рублей (+Y%)\n",
    "    Показы: X (+Y%)\n",
    "    Клики: X (-Y%)\n",
    "    CTR: X (-Y%)\n",
    "\n",
    "    5. Отправьте получившийся текст к себе в личные сообщения во ВКонтакте в виде сообщения со сводкой метрик. \n",
    "\n",
    "    6. Все предыдущие шаги оформите в виде исполняемого скрипта (скриптов) и скрипта для DAG-а, в котором при помощи BashOperator-а (или других операторов на ваше усмотрение) будет вызываться исполняемый скрипт (скрипты).\n",
    "\n",
    "    7. В расписании для крона укажите каждый понедельник в 12 утра. Так, чтобы ваш скрипт с рассчетом дневных метрик отправлялся вам в личку каждый понедельник в 12 утра из Airflow.\n",
    "\n",
    "    8. После того как убедитесь, что все работает, отправьте Merge Request с вашей папкой (которая должна быть названа вашем именем), в которой лежат все нужные скрипты, в мастер https://git.lab.karpov.courses/lab/airflow/-/blob/master/dags/. Перед этим удалите ваш токен из скрипта, мы вставим свой для проверки.\n",
    "\n",
    "    9. Ссылку на MR прикрепите на следующем шаге.\n"
   ]
  },
  {
   "cell_type": "code",
   "execution_count": null,
   "metadata": {},
   "outputs": [],
   "source": [
    "import pandas as pd\n",
    "import os\n",
    "import vk_api\n",
    "import json\n",
    "import random\n",
    "import requests"
   ]
  },
  {
   "cell_type": "markdown",
   "metadata": {},
   "source": [
    "### Откроем файл и произведем необходимые расчеты"
   ]
  },
  {
   "cell_type": "code",
   "execution_count": 4,
   "metadata": {},
   "outputs": [
    {
     "data": {
      "text/html": [
       "<div>\n",
       "<style scoped>\n",
       "    .dataframe tbody tr th:only-of-type {\n",
       "        vertical-align: middle;\n",
       "    }\n",
       "\n",
       "    .dataframe tbody tr th {\n",
       "        vertical-align: top;\n",
       "    }\n",
       "\n",
       "    .dataframe thead th {\n",
       "        text-align: right;\n",
       "    }\n",
       "</style>\n",
       "<table border=\"1\" class=\"dataframe\">\n",
       "  <thead>\n",
       "    <tr style=\"text-align: right;\">\n",
       "      <th></th>\n",
       "      <th>date</th>\n",
       "      <th>time</th>\n",
       "      <th>event</th>\n",
       "      <th>platform</th>\n",
       "      <th>ad_id</th>\n",
       "      <th>ad_cost_type</th>\n",
       "      <th>ad_cost</th>\n",
       "    </tr>\n",
       "  </thead>\n",
       "  <tbody>\n",
       "    <tr>\n",
       "      <th>0</th>\n",
       "      <td>2019-04-01</td>\n",
       "      <td>2019-04-01 0:00:48</td>\n",
       "      <td>view</td>\n",
       "      <td>web</td>\n",
       "      <td>121288</td>\n",
       "      <td>CPM</td>\n",
       "      <td>187.4</td>\n",
       "    </tr>\n",
       "    <tr>\n",
       "      <th>1</th>\n",
       "      <td>2019-04-01</td>\n",
       "      <td>2019-04-01 0:04:41</td>\n",
       "      <td>view</td>\n",
       "      <td>ios</td>\n",
       "      <td>121288</td>\n",
       "      <td>CPM</td>\n",
       "      <td>187.4</td>\n",
       "    </tr>\n",
       "    <tr>\n",
       "      <th>2</th>\n",
       "      <td>2019-04-01</td>\n",
       "      <td>2019-04-01 0:07:50</td>\n",
       "      <td>view</td>\n",
       "      <td>android</td>\n",
       "      <td>121288</td>\n",
       "      <td>CPM</td>\n",
       "      <td>187.4</td>\n",
       "    </tr>\n",
       "    <tr>\n",
       "      <th>3</th>\n",
       "      <td>2019-04-01</td>\n",
       "      <td>2019-04-01 0:07:50</td>\n",
       "      <td>view</td>\n",
       "      <td>android</td>\n",
       "      <td>121288</td>\n",
       "      <td>CPM</td>\n",
       "      <td>187.4</td>\n",
       "    </tr>\n",
       "    <tr>\n",
       "      <th>4</th>\n",
       "      <td>2019-04-01</td>\n",
       "      <td>2019-04-01 0:08:46</td>\n",
       "      <td>view</td>\n",
       "      <td>ios</td>\n",
       "      <td>121288</td>\n",
       "      <td>CPM</td>\n",
       "      <td>187.4</td>\n",
       "    </tr>\n",
       "    <tr>\n",
       "      <th>...</th>\n",
       "      <td>...</td>\n",
       "      <td>...</td>\n",
       "      <td>...</td>\n",
       "      <td>...</td>\n",
       "      <td>...</td>\n",
       "      <td>...</td>\n",
       "      <td>...</td>\n",
       "    </tr>\n",
       "    <tr>\n",
       "      <th>602</th>\n",
       "      <td>2019-04-02</td>\n",
       "      <td>2019-04-01 22:39:16</td>\n",
       "      <td>click</td>\n",
       "      <td>android</td>\n",
       "      <td>121288</td>\n",
       "      <td>CPM</td>\n",
       "      <td>187.4</td>\n",
       "    </tr>\n",
       "    <tr>\n",
       "      <th>603</th>\n",
       "      <td>2019-04-02</td>\n",
       "      <td>2019-04-01 22:40:29</td>\n",
       "      <td>click</td>\n",
       "      <td>android</td>\n",
       "      <td>121288</td>\n",
       "      <td>CPM</td>\n",
       "      <td>187.4</td>\n",
       "    </tr>\n",
       "    <tr>\n",
       "      <th>604</th>\n",
       "      <td>2019-04-02</td>\n",
       "      <td>2019-04-01 22:40:31</td>\n",
       "      <td>click</td>\n",
       "      <td>web</td>\n",
       "      <td>121288</td>\n",
       "      <td>CPM</td>\n",
       "      <td>187.4</td>\n",
       "    </tr>\n",
       "    <tr>\n",
       "      <th>605</th>\n",
       "      <td>2019-04-02</td>\n",
       "      <td>2019-04-01 22:44:14</td>\n",
       "      <td>click</td>\n",
       "      <td>ios</td>\n",
       "      <td>121288</td>\n",
       "      <td>CPM</td>\n",
       "      <td>187.4</td>\n",
       "    </tr>\n",
       "    <tr>\n",
       "      <th>606</th>\n",
       "      <td>2019-04-02</td>\n",
       "      <td>2019-04-01 22:48:26</td>\n",
       "      <td>click</td>\n",
       "      <td>android</td>\n",
       "      <td>121288</td>\n",
       "      <td>CPM</td>\n",
       "      <td>187.4</td>\n",
       "    </tr>\n",
       "  </tbody>\n",
       "</table>\n",
       "<p>607 rows × 7 columns</p>\n",
       "</div>"
      ],
      "text/plain": [
       "           date                 time  event platform   ad_id ad_cost_type  \\\n",
       "0    2019-04-01   2019-04-01 0:00:48   view      web  121288          CPM   \n",
       "1    2019-04-01   2019-04-01 0:04:41   view      ios  121288          CPM   \n",
       "2    2019-04-01   2019-04-01 0:07:50   view  android  121288          CPM   \n",
       "3    2019-04-01   2019-04-01 0:07:50   view  android  121288          CPM   \n",
       "4    2019-04-01   2019-04-01 0:08:46   view      ios  121288          CPM   \n",
       "..          ...                  ...    ...      ...     ...          ...   \n",
       "602  2019-04-02  2019-04-01 22:39:16  click  android  121288          CPM   \n",
       "603  2019-04-02  2019-04-01 22:40:29  click  android  121288          CPM   \n",
       "604  2019-04-02  2019-04-01 22:40:31  click      web  121288          CPM   \n",
       "605  2019-04-02  2019-04-01 22:44:14  click      ios  121288          CPM   \n",
       "606  2019-04-02  2019-04-01 22:48:26  click  android  121288          CPM   \n",
       "\n",
       "     ad_cost  \n",
       "0      187.4  \n",
       "1      187.4  \n",
       "2      187.4  \n",
       "3      187.4  \n",
       "4      187.4  \n",
       "..       ...  \n",
       "602    187.4  \n",
       "603    187.4  \n",
       "604    187.4  \n",
       "605    187.4  \n",
       "606    187.4  \n",
       "\n",
       "[607 rows x 7 columns]"
      ]
     },
     "execution_count": 4,
     "metadata": {},
     "output_type": "execute_result"
    }
   ],
   "source": [
    "df"
   ]
  },
  {
   "cell_type": "code",
   "execution_count": 7,
   "metadata": {},
   "outputs": [],
   "source": [
    "df_grp = df.groupby(['date', 'event'], as_index=False).agg({'time': 'count'})"
   ]
  },
  {
   "cell_type": "code",
   "execution_count": 8,
   "metadata": {},
   "outputs": [
    {
     "data": {
      "text/html": [
       "<div>\n",
       "<style scoped>\n",
       "    .dataframe tbody tr th:only-of-type {\n",
       "        vertical-align: middle;\n",
       "    }\n",
       "\n",
       "    .dataframe tbody tr th {\n",
       "        vertical-align: top;\n",
       "    }\n",
       "\n",
       "    .dataframe thead th {\n",
       "        text-align: right;\n",
       "    }\n",
       "</style>\n",
       "<table border=\"1\" class=\"dataframe\">\n",
       "  <thead>\n",
       "    <tr style=\"text-align: right;\">\n",
       "      <th></th>\n",
       "      <th>date</th>\n",
       "      <th>event</th>\n",
       "      <th>time</th>\n",
       "    </tr>\n",
       "  </thead>\n",
       "  <tbody>\n",
       "    <tr>\n",
       "      <th>0</th>\n",
       "      <td>2019-04-01</td>\n",
       "      <td>click</td>\n",
       "      <td>17</td>\n",
       "    </tr>\n",
       "    <tr>\n",
       "      <th>1</th>\n",
       "      <td>2019-04-01</td>\n",
       "      <td>view</td>\n",
       "      <td>491</td>\n",
       "    </tr>\n",
       "    <tr>\n",
       "      <th>2</th>\n",
       "      <td>2019-04-02</td>\n",
       "      <td>click</td>\n",
       "      <td>6</td>\n",
       "    </tr>\n",
       "    <tr>\n",
       "      <th>3</th>\n",
       "      <td>2019-04-02</td>\n",
       "      <td>view</td>\n",
       "      <td>93</td>\n",
       "    </tr>\n",
       "  </tbody>\n",
       "</table>\n",
       "</div>"
      ],
      "text/plain": [
       "         date  event  time\n",
       "0  2019-04-01  click    17\n",
       "1  2019-04-01   view   491\n",
       "2  2019-04-02  click     6\n",
       "3  2019-04-02   view    93"
      ]
     },
     "execution_count": 8,
     "metadata": {},
     "output_type": "execute_result"
    }
   ],
   "source": [
    "df_grp"
   ]
  },
  {
   "cell_type": "code",
   "execution_count": null,
   "metadata": {},
   "outputs": [],
   "source": []
  },
  {
   "cell_type": "code",
   "execution_count": null,
   "metadata": {},
   "outputs": [],
   "source": []
  },
  {
   "cell_type": "code",
   "execution_count": null,
   "metadata": {},
   "outputs": [],
   "source": []
  },
  {
   "cell_type": "code",
   "execution_count": 3,
   "metadata": {},
   "outputs": [],
   "source": [
    "df = pd.read_csv('https://docs.google.com/spreadsheets/d/e/2PACX-1vR-ti6Su94955DZ4Tky8EbwifpgZf_dTjpBdiVH0Ukhsq94jZdqoHuUytZsFZKfwpXEUCKRFteJRc9P/pub?gid=889004448&single=true&output=csv')"
   ]
  },
  {
   "cell_type": "code",
   "execution_count": 14,
   "metadata": {},
   "outputs": [],
   "source": [
    "df_grp_pivot = df_grp.pivot(index='date', columns='event', values='time').reset_index()"
   ]
  },
  {
   "cell_type": "code",
   "execution_count": 15,
   "metadata": {},
   "outputs": [
    {
     "data": {
      "text/html": [
       "<div>\n",
       "<style scoped>\n",
       "    .dataframe tbody tr th:only-of-type {\n",
       "        vertical-align: middle;\n",
       "    }\n",
       "\n",
       "    .dataframe tbody tr th {\n",
       "        vertical-align: top;\n",
       "    }\n",
       "\n",
       "    .dataframe thead th {\n",
       "        text-align: right;\n",
       "    }\n",
       "</style>\n",
       "<table border=\"1\" class=\"dataframe\">\n",
       "  <thead>\n",
       "    <tr style=\"text-align: right;\">\n",
       "      <th>event</th>\n",
       "      <th>date</th>\n",
       "      <th>click</th>\n",
       "      <th>view</th>\n",
       "    </tr>\n",
       "  </thead>\n",
       "  <tbody>\n",
       "    <tr>\n",
       "      <th>0</th>\n",
       "      <td>2019-04-01</td>\n",
       "      <td>17</td>\n",
       "      <td>491</td>\n",
       "    </tr>\n",
       "    <tr>\n",
       "      <th>1</th>\n",
       "      <td>2019-04-02</td>\n",
       "      <td>6</td>\n",
       "      <td>93</td>\n",
       "    </tr>\n",
       "  </tbody>\n",
       "</table>\n",
       "</div>"
      ],
      "text/plain": [
       "event        date  click  view\n",
       "0      2019-04-01     17   491\n",
       "1      2019-04-02      6    93"
      ]
     },
     "execution_count": 15,
     "metadata": {},
     "output_type": "execute_result"
    }
   ],
   "source": [
    "df_grp_pivot"
   ]
  },
  {
   "cell_type": "code",
   "execution_count": 16,
   "metadata": {},
   "outputs": [],
   "source": [
    "df_grp_pivot['ctr'] = df_grp_pivot['click'] / df_grp_pivot['view']"
   ]
  },
  {
   "cell_type": "code",
   "execution_count": 40,
   "metadata": {},
   "outputs": [
    {
     "data": {
      "text/html": [
       "<div>\n",
       "<style scoped>\n",
       "    .dataframe tbody tr th:only-of-type {\n",
       "        vertical-align: middle;\n",
       "    }\n",
       "\n",
       "    .dataframe tbody tr th {\n",
       "        vertical-align: top;\n",
       "    }\n",
       "\n",
       "    .dataframe thead th {\n",
       "        text-align: right;\n",
       "    }\n",
       "</style>\n",
       "<table border=\"1\" class=\"dataframe\">\n",
       "  <thead>\n",
       "    <tr style=\"text-align: right;\">\n",
       "      <th>event</th>\n",
       "      <th>date</th>\n",
       "      <th>click</th>\n",
       "      <th>view</th>\n",
       "      <th>ctr</th>\n",
       "    </tr>\n",
       "  </thead>\n",
       "  <tbody>\n",
       "    <tr>\n",
       "      <th>0</th>\n",
       "      <td>2019-04-01</td>\n",
       "      <td>17</td>\n",
       "      <td>491</td>\n",
       "      <td>0.034623</td>\n",
       "    </tr>\n",
       "    <tr>\n",
       "      <th>1</th>\n",
       "      <td>2019-04-02</td>\n",
       "      <td>6</td>\n",
       "      <td>93</td>\n",
       "      <td>0.064516</td>\n",
       "    </tr>\n",
       "  </tbody>\n",
       "</table>\n",
       "</div>"
      ],
      "text/plain": [
       "event        date  click  view       ctr\n",
       "0      2019-04-01     17   491  0.034623\n",
       "1      2019-04-02      6    93  0.064516"
      ]
     },
     "execution_count": 40,
     "metadata": {},
     "output_type": "execute_result"
    }
   ],
   "source": [
    "df_grp_pivot"
   ]
  },
  {
   "cell_type": "code",
   "execution_count": 38,
   "metadata": {},
   "outputs": [
    {
     "data": {
      "text/plain": [
       "-64.70588235294117"
      ]
     },
     "execution_count": 38,
     "metadata": {},
     "output_type": "execute_result"
    }
   ],
   "source": [
    "(6-17)/17*100"
   ]
  },
  {
   "cell_type": "code",
   "execution_count": null,
   "metadata": {},
   "outputs": [],
   "source": [
    "#df_grp_pivot['ctr'] = df_grp_pivot['click'] / df_grp_pivot['view']"
   ]
  },
  {
   "cell_type": "code",
   "execution_count": 50,
   "metadata": {},
   "outputs": [
    {
     "data": {
      "text/plain": [
       "17"
      ]
     },
     "execution_count": 50,
     "metadata": {},
     "output_type": "execute_result"
    }
   ],
   "source": [
    "df_grp_pivot.loc[df_grp_pivot.index == 0,'click'].values[0]"
   ]
  },
  {
   "cell_type": "code",
   "execution_count": 51,
   "metadata": {},
   "outputs": [
    {
     "data": {
      "text/plain": [
       "6"
      ]
     },
     "execution_count": 51,
     "metadata": {},
     "output_type": "execute_result"
    }
   ],
   "source": [
    "df_grp_pivot.loc[df_grp_pivot.index == 1,'click'].values[0]"
   ]
  },
  {
   "cell_type": "code",
   "execution_count": 61,
   "metadata": {},
   "outputs": [],
   "source": [
    "df_click_percent_var = (df_grp_pivot.loc[df_grp_pivot.index == 1,'click'].values[0] \\\n",
    "               - df_grp_pivot.loc[df_grp_pivot.index == 0,'click'].values[0]) \\\n",
    "                / df_grp_pivot.loc[df_grp_pivot.index == 0,'click'].values[0] \\\n",
    "                * 100"
   ]
  },
  {
   "cell_type": "code",
   "execution_count": 62,
   "metadata": {},
   "outputs": [],
   "source": [
    "df_view_percent_var = (df_grp_pivot.loc[df_grp_pivot.index == 1,'view'].values[0] \\\n",
    "               - df_grp_pivot.loc[df_grp_pivot.index == 0,'view'].values[0]) \\\n",
    "                / df_grp_pivot.loc[df_grp_pivot.index == 0,'view'].values[0] \\\n",
    "                * 100"
   ]
  },
  {
   "cell_type": "code",
   "execution_count": 63,
   "metadata": {},
   "outputs": [],
   "source": [
    "df_ctr_percent_var = (df_grp_pivot.loc[df_grp_pivot.index == 1,'ctr'].values[0] \\\n",
    "               - df_grp_pivot.loc[df_grp_pivot.index == 0,'ctr'].values[0]) \\\n",
    "                / df_grp_pivot.loc[df_grp_pivot.index == 0,'ctr'].values[0] \\\n",
    "                * 100"
   ]
  },
  {
   "cell_type": "code",
   "execution_count": 64,
   "metadata": {},
   "outputs": [
    {
     "data": {
      "text/html": [
       "<div>\n",
       "<style scoped>\n",
       "    .dataframe tbody tr th:only-of-type {\n",
       "        vertical-align: middle;\n",
       "    }\n",
       "\n",
       "    .dataframe tbody tr th {\n",
       "        vertical-align: top;\n",
       "    }\n",
       "\n",
       "    .dataframe thead th {\n",
       "        text-align: right;\n",
       "    }\n",
       "</style>\n",
       "<table border=\"1\" class=\"dataframe\">\n",
       "  <thead>\n",
       "    <tr style=\"text-align: right;\">\n",
       "      <th>event</th>\n",
       "      <th>date</th>\n",
       "      <th>click</th>\n",
       "      <th>view</th>\n",
       "      <th>ctr</th>\n",
       "      <th>click_percent</th>\n",
       "      <th>view_percent</th>\n",
       "      <th>ctr_percent</th>\n",
       "    </tr>\n",
       "  </thead>\n",
       "  <tbody>\n",
       "    <tr>\n",
       "      <th>0</th>\n",
       "      <td>2019-04-01</td>\n",
       "      <td>17</td>\n",
       "      <td>491</td>\n",
       "      <td>0.034623</td>\n",
       "      <td>-64.705882</td>\n",
       "      <td>-81.059063</td>\n",
       "      <td>86.337761</td>\n",
       "    </tr>\n",
       "    <tr>\n",
       "      <th>1</th>\n",
       "      <td>2019-04-02</td>\n",
       "      <td>6</td>\n",
       "      <td>93</td>\n",
       "      <td>0.064516</td>\n",
       "      <td>-64.705882</td>\n",
       "      <td>-81.059063</td>\n",
       "      <td>86.337761</td>\n",
       "    </tr>\n",
       "  </tbody>\n",
       "</table>\n",
       "</div>"
      ],
      "text/plain": [
       "event        date  click  view       ctr  click_percent  view_percent  \\\n",
       "0      2019-04-01     17   491  0.034623     -64.705882    -81.059063   \n",
       "1      2019-04-02      6    93  0.064516     -64.705882    -81.059063   \n",
       "\n",
       "event  ctr_percent  \n",
       "0        86.337761  \n",
       "1        86.337761  "
      ]
     },
     "execution_count": 64,
     "metadata": {},
     "output_type": "execute_result"
    }
   ],
   "source": [
    "df_grp_pivot"
   ]
  },
  {
   "cell_type": "code",
   "execution_count": 19,
   "metadata": {},
   "outputs": [
    {
     "data": {
      "text/html": [
       "<div>\n",
       "<style scoped>\n",
       "    .dataframe tbody tr th:only-of-type {\n",
       "        vertical-align: middle;\n",
       "    }\n",
       "\n",
       "    .dataframe tbody tr th {\n",
       "        vertical-align: top;\n",
       "    }\n",
       "\n",
       "    .dataframe thead th {\n",
       "        text-align: right;\n",
       "    }\n",
       "</style>\n",
       "<table border=\"1\" class=\"dataframe\">\n",
       "  <thead>\n",
       "    <tr style=\"text-align: right;\">\n",
       "      <th></th>\n",
       "      <th>date</th>\n",
       "      <th>time</th>\n",
       "      <th>event</th>\n",
       "      <th>platform</th>\n",
       "      <th>ad_id</th>\n",
       "      <th>ad_cost_type</th>\n",
       "      <th>ad_cost</th>\n",
       "    </tr>\n",
       "  </thead>\n",
       "  <tbody>\n",
       "    <tr>\n",
       "      <th>0</th>\n",
       "      <td>2019-04-01</td>\n",
       "      <td>2019-04-01 0:00:48</td>\n",
       "      <td>view</td>\n",
       "      <td>web</td>\n",
       "      <td>121288</td>\n",
       "      <td>CPM</td>\n",
       "      <td>187.4</td>\n",
       "    </tr>\n",
       "    <tr>\n",
       "      <th>1</th>\n",
       "      <td>2019-04-01</td>\n",
       "      <td>2019-04-01 0:04:41</td>\n",
       "      <td>view</td>\n",
       "      <td>ios</td>\n",
       "      <td>121288</td>\n",
       "      <td>CPM</td>\n",
       "      <td>187.4</td>\n",
       "    </tr>\n",
       "    <tr>\n",
       "      <th>2</th>\n",
       "      <td>2019-04-01</td>\n",
       "      <td>2019-04-01 0:07:50</td>\n",
       "      <td>view</td>\n",
       "      <td>android</td>\n",
       "      <td>121288</td>\n",
       "      <td>CPM</td>\n",
       "      <td>187.4</td>\n",
       "    </tr>\n",
       "    <tr>\n",
       "      <th>3</th>\n",
       "      <td>2019-04-01</td>\n",
       "      <td>2019-04-01 0:07:50</td>\n",
       "      <td>view</td>\n",
       "      <td>android</td>\n",
       "      <td>121288</td>\n",
       "      <td>CPM</td>\n",
       "      <td>187.4</td>\n",
       "    </tr>\n",
       "    <tr>\n",
       "      <th>4</th>\n",
       "      <td>2019-04-01</td>\n",
       "      <td>2019-04-01 0:08:46</td>\n",
       "      <td>view</td>\n",
       "      <td>ios</td>\n",
       "      <td>121288</td>\n",
       "      <td>CPM</td>\n",
       "      <td>187.4</td>\n",
       "    </tr>\n",
       "    <tr>\n",
       "      <th>...</th>\n",
       "      <td>...</td>\n",
       "      <td>...</td>\n",
       "      <td>...</td>\n",
       "      <td>...</td>\n",
       "      <td>...</td>\n",
       "      <td>...</td>\n",
       "      <td>...</td>\n",
       "    </tr>\n",
       "    <tr>\n",
       "      <th>602</th>\n",
       "      <td>2019-04-02</td>\n",
       "      <td>2019-04-01 22:39:16</td>\n",
       "      <td>click</td>\n",
       "      <td>android</td>\n",
       "      <td>121288</td>\n",
       "      <td>CPM</td>\n",
       "      <td>187.4</td>\n",
       "    </tr>\n",
       "    <tr>\n",
       "      <th>603</th>\n",
       "      <td>2019-04-02</td>\n",
       "      <td>2019-04-01 22:40:29</td>\n",
       "      <td>click</td>\n",
       "      <td>android</td>\n",
       "      <td>121288</td>\n",
       "      <td>CPM</td>\n",
       "      <td>187.4</td>\n",
       "    </tr>\n",
       "    <tr>\n",
       "      <th>604</th>\n",
       "      <td>2019-04-02</td>\n",
       "      <td>2019-04-01 22:40:31</td>\n",
       "      <td>click</td>\n",
       "      <td>web</td>\n",
       "      <td>121288</td>\n",
       "      <td>CPM</td>\n",
       "      <td>187.4</td>\n",
       "    </tr>\n",
       "    <tr>\n",
       "      <th>605</th>\n",
       "      <td>2019-04-02</td>\n",
       "      <td>2019-04-01 22:44:14</td>\n",
       "      <td>click</td>\n",
       "      <td>ios</td>\n",
       "      <td>121288</td>\n",
       "      <td>CPM</td>\n",
       "      <td>187.4</td>\n",
       "    </tr>\n",
       "    <tr>\n",
       "      <th>606</th>\n",
       "      <td>2019-04-02</td>\n",
       "      <td>2019-04-01 22:48:26</td>\n",
       "      <td>click</td>\n",
       "      <td>android</td>\n",
       "      <td>121288</td>\n",
       "      <td>CPM</td>\n",
       "      <td>187.4</td>\n",
       "    </tr>\n",
       "  </tbody>\n",
       "</table>\n",
       "<p>607 rows × 7 columns</p>\n",
       "</div>"
      ],
      "text/plain": [
       "           date                 time  event platform   ad_id ad_cost_type  \\\n",
       "0    2019-04-01   2019-04-01 0:00:48   view      web  121288          CPM   \n",
       "1    2019-04-01   2019-04-01 0:04:41   view      ios  121288          CPM   \n",
       "2    2019-04-01   2019-04-01 0:07:50   view  android  121288          CPM   \n",
       "3    2019-04-01   2019-04-01 0:07:50   view  android  121288          CPM   \n",
       "4    2019-04-01   2019-04-01 0:08:46   view      ios  121288          CPM   \n",
       "..          ...                  ...    ...      ...     ...          ...   \n",
       "602  2019-04-02  2019-04-01 22:39:16  click  android  121288          CPM   \n",
       "603  2019-04-02  2019-04-01 22:40:29  click  android  121288          CPM   \n",
       "604  2019-04-02  2019-04-01 22:40:31  click      web  121288          CPM   \n",
       "605  2019-04-02  2019-04-01 22:44:14  click      ios  121288          CPM   \n",
       "606  2019-04-02  2019-04-01 22:48:26  click  android  121288          CPM   \n",
       "\n",
       "     ad_cost  \n",
       "0      187.4  \n",
       "1      187.4  \n",
       "2      187.4  \n",
       "3      187.4  \n",
       "4      187.4  \n",
       "..       ...  \n",
       "602    187.4  \n",
       "603    187.4  \n",
       "604    187.4  \n",
       "605    187.4  \n",
       "606    187.4  \n",
       "\n",
       "[607 rows x 7 columns]"
      ]
     },
     "execution_count": 19,
     "metadata": {},
     "output_type": "execute_result"
    }
   ],
   "source": [
    "df"
   ]
  },
  {
   "cell_type": "code",
   "execution_count": 26,
   "metadata": {},
   "outputs": [],
   "source": [
    "df_cost = df.groupby(['date', 'event']).agg({'ad_cost': 'sum', 'event': 'count'}) \\\n",
    "            .rename(columns={'event' : 'event_count'}) \\\n",
    "            .reset_index()"
   ]
  },
  {
   "cell_type": "code",
   "execution_count": 27,
   "metadata": {},
   "outputs": [
    {
     "data": {
      "text/html": [
       "<div>\n",
       "<style scoped>\n",
       "    .dataframe tbody tr th:only-of-type {\n",
       "        vertical-align: middle;\n",
       "    }\n",
       "\n",
       "    .dataframe tbody tr th {\n",
       "        vertical-align: top;\n",
       "    }\n",
       "\n",
       "    .dataframe thead th {\n",
       "        text-align: right;\n",
       "    }\n",
       "</style>\n",
       "<table border=\"1\" class=\"dataframe\">\n",
       "  <thead>\n",
       "    <tr style=\"text-align: right;\">\n",
       "      <th></th>\n",
       "      <th>date</th>\n",
       "      <th>event</th>\n",
       "      <th>ad_cost</th>\n",
       "      <th>event_count</th>\n",
       "    </tr>\n",
       "  </thead>\n",
       "  <tbody>\n",
       "    <tr>\n",
       "      <th>0</th>\n",
       "      <td>2019-04-01</td>\n",
       "      <td>click</td>\n",
       "      <td>3185.8</td>\n",
       "      <td>17</td>\n",
       "    </tr>\n",
       "    <tr>\n",
       "      <th>1</th>\n",
       "      <td>2019-04-01</td>\n",
       "      <td>view</td>\n",
       "      <td>92013.4</td>\n",
       "      <td>491</td>\n",
       "    </tr>\n",
       "    <tr>\n",
       "      <th>2</th>\n",
       "      <td>2019-04-02</td>\n",
       "      <td>click</td>\n",
       "      <td>1124.4</td>\n",
       "      <td>6</td>\n",
       "    </tr>\n",
       "    <tr>\n",
       "      <th>3</th>\n",
       "      <td>2019-04-02</td>\n",
       "      <td>view</td>\n",
       "      <td>17428.2</td>\n",
       "      <td>93</td>\n",
       "    </tr>\n",
       "  </tbody>\n",
       "</table>\n",
       "</div>"
      ],
      "text/plain": [
       "         date  event  ad_cost  event_count\n",
       "0  2019-04-01  click   3185.8           17\n",
       "1  2019-04-01   view  92013.4          491\n",
       "2  2019-04-02  click   1124.4            6\n",
       "3  2019-04-02   view  17428.2           93"
      ]
     },
     "execution_count": 27,
     "metadata": {},
     "output_type": "execute_result"
    }
   ],
   "source": [
    "df_cost"
   ]
  },
  {
   "cell_type": "code",
   "execution_count": 29,
   "metadata": {},
   "outputs": [],
   "source": [
    "df_cost['general_cost'] = df_cost['ad_cost'] / 1000 * df_cost['event_count']"
   ]
  },
  {
   "cell_type": "code",
   "execution_count": 30,
   "metadata": {},
   "outputs": [
    {
     "data": {
      "text/html": [
       "<div>\n",
       "<style scoped>\n",
       "    .dataframe tbody tr th:only-of-type {\n",
       "        vertical-align: middle;\n",
       "    }\n",
       "\n",
       "    .dataframe tbody tr th {\n",
       "        vertical-align: top;\n",
       "    }\n",
       "\n",
       "    .dataframe thead th {\n",
       "        text-align: right;\n",
       "    }\n",
       "</style>\n",
       "<table border=\"1\" class=\"dataframe\">\n",
       "  <thead>\n",
       "    <tr style=\"text-align: right;\">\n",
       "      <th></th>\n",
       "      <th>date</th>\n",
       "      <th>event</th>\n",
       "      <th>ad_cost</th>\n",
       "      <th>event_count</th>\n",
       "      <th>general_cost</th>\n",
       "    </tr>\n",
       "  </thead>\n",
       "  <tbody>\n",
       "    <tr>\n",
       "      <th>0</th>\n",
       "      <td>2019-04-01</td>\n",
       "      <td>click</td>\n",
       "      <td>3185.8</td>\n",
       "      <td>17</td>\n",
       "      <td>54.1586</td>\n",
       "    </tr>\n",
       "    <tr>\n",
       "      <th>1</th>\n",
       "      <td>2019-04-01</td>\n",
       "      <td>view</td>\n",
       "      <td>92013.4</td>\n",
       "      <td>491</td>\n",
       "      <td>45178.5794</td>\n",
       "    </tr>\n",
       "    <tr>\n",
       "      <th>2</th>\n",
       "      <td>2019-04-02</td>\n",
       "      <td>click</td>\n",
       "      <td>1124.4</td>\n",
       "      <td>6</td>\n",
       "      <td>6.7464</td>\n",
       "    </tr>\n",
       "    <tr>\n",
       "      <th>3</th>\n",
       "      <td>2019-04-02</td>\n",
       "      <td>view</td>\n",
       "      <td>17428.2</td>\n",
       "      <td>93</td>\n",
       "      <td>1620.8226</td>\n",
       "    </tr>\n",
       "  </tbody>\n",
       "</table>\n",
       "</div>"
      ],
      "text/plain": [
       "         date  event  ad_cost  event_count  general_cost\n",
       "0  2019-04-01  click   3185.8           17       54.1586\n",
       "1  2019-04-01   view  92013.4          491    45178.5794\n",
       "2  2019-04-02  click   1124.4            6        6.7464\n",
       "3  2019-04-02   view  17428.2           93     1620.8226"
      ]
     },
     "execution_count": 30,
     "metadata": {},
     "output_type": "execute_result"
    }
   ],
   "source": [
    "df_cost"
   ]
  },
  {
   "cell_type": "code",
   "execution_count": 58,
   "metadata": {},
   "outputs": [],
   "source": [
    "df_cost_var = (df_cost.loc[df_cost.index == 3,'general_cost'].values[0] \\\n",
    "               - df_cost.loc[df_cost.index == 1,'general_cost'].values[0]) \\\n",
    "                / df_cost.loc[df_cost.index == 1,'general_cost'].values[0] \\\n",
    "                * 100"
   ]
  },
  {
   "cell_type": "code",
   "execution_count": 59,
   "metadata": {},
   "outputs": [
    {
     "data": {
      "text/plain": [
       "-96.41240910731246"
      ]
     },
     "execution_count": 59,
     "metadata": {},
     "output_type": "execute_result"
    }
   ],
   "source": [
    "df_cost_var"
   ]
  },
  {
   "cell_type": "markdown",
   "metadata": {},
   "source": [
    "### Напишем текстовый файл-отчет с процентным соотношением динамики метрик"
   ]
  },
  {
   "cell_type": "code",
   "execution_count": 94,
   "metadata": {},
   "outputs": [],
   "source": [
    "string_to_file = 'Отчет по объявлению 121288 за 2 апреля\\n\\\n",
    "Траты: {} рублей ({}%)\\n\\\n",
    "Показы: {} ({}%)\\n\\\n",
    "Клики: {} ({}%)\\n\\\n",
    "CTR: {} ({}%)'"
   ]
  },
  {
   "cell_type": "code",
   "execution_count": 116,
   "metadata": {},
   "outputs": [
    {
     "name": "stdout",
     "output_type": "stream",
     "text": [
      "Отчет по объявлению 121288 за 2 апреля\n",
      "Траты: 1620.8225999999986 рублей (-96.41240910731246%)\n",
      "Показы: 93 (-81.05906313645622%)\n",
      "Клики: 6 (-64.70588235294117%)\n",
      "CTR: 0.06451612903225806 (86.33776091081593%)\n"
     ]
    }
   ],
   "source": [
    "print(string_to_file.format(df_cost.loc[df_cost.index == 3,'general_cost'].values[0]\\\n",
    ", df_cost_var\\\n",
    ", df_cost.loc[df_cost.index == 3,'event_count'].values[0]\\\n",
    ", df_view_percent_var\\\n",
    ", df_cost.loc[df_cost.index == 2,'event_count'].values[0]\\\n",
    ", df_click_percent_var\\\n",
    ", df_grp_pivot.loc[df_grp_pivot.index == 1,'ctr'].values[0]\\\n",
    ", df_ctr_percent_var\\\n",
    "))"
   ]
  },
  {
   "cell_type": "markdown",
   "metadata": {},
   "source": [
    "### Запишем в текстовый файл"
   ]
  },
  {
   "cell_type": "code",
   "execution_count": 104,
   "metadata": {},
   "outputs": [],
   "source": [
    "file_loc = open('/home/jupyter-m.mandrik-1/20_3_miniproject_metrics.txt', 'w')"
   ]
  },
  {
   "cell_type": "code",
   "execution_count": 105,
   "metadata": {},
   "outputs": [
    {
     "data": {
      "text/plain": [
       "139"
      ]
     },
     "execution_count": 105,
     "metadata": {},
     "output_type": "execute_result"
    }
   ],
   "source": [
    "file_loc.write(string_to_file.format(df_cost.loc[df_cost.index == 3,'general_cost'].values[0].round(0)\\\n",
    ", df_cost_var.round(0)\\\n",
    ", df_cost.loc[df_cost.index == 3,'event_count'].values[0].round(0)\\\n",
    ", df_view_percent_var.round(0)\\\n",
    ", df_cost.loc[df_cost.index == 2,'event_count'].values[0].round(0)\\\n",
    ", df_click_percent_var.round(0)\\\n",
    ", df_grp_pivot.loc[df_grp_pivot.index == 1,'ctr'].values[0]\\\n",
    ", df_ctr_percent_var.round(0)\\\n",
    "))"
   ]
  },
  {
   "cell_type": "code",
   "execution_count": 106,
   "metadata": {},
   "outputs": [],
   "source": [
    "file_loc.close()"
   ]
  },
  {
   "cell_type": "markdown",
   "metadata": {},
   "source": [
    "### Создадим запрос в VK\n"
   ]
  },
  {
   "cell_type": "code",
   "execution_count": 112,
   "metadata": {},
   "outputs": [],
   "source": [
    "app_token = '0dc3a8c29818b5f1924c29966c93ff146300cfdb1ddbdf69b2f3830b08fdebf647afbcfa3a4094aec58ab'\n",
    "chat_id = 1\n",
    "my_id = 558437518\n",
    "vk_session = vk_api.VkApi(token=app_token)\n",
    "vk = vk_session.get_api()"
   ]
  },
  {
   "cell_type": "code",
   "execution_count": 115,
   "metadata": {},
   "outputs": [
    {
     "data": {
      "text/plain": [
       "5"
      ]
     },
     "execution_count": 115,
     "metadata": {},
     "output_type": "execute_result"
    }
   ],
   "source": [
    "path_to_file = '/home/jupyter-m.mandrik-1/20_3_miniproject_metrics.txt'\n",
    "file_name = '20_3_miniproject_metrics.txt'\n",
    "\n",
    "upload_url = vk.docs.getMessagesUploadServer(peer_id=my_id)[\"upload_url\"]\n",
    "file = {'file': (file_name, open(path_to_file, 'rb'))}\n",
    "\n",
    "response = requests.post(upload_url, files=file)\n",
    "\n",
    "json_data = json.loads(response.text)\n",
    "\n",
    "saved_file = vk.docs.save(file=json_data['file'], title=file_name)\n",
    "attachment = 'doc{}_{}'.format(saved_file['doc']['owner_id'], saved_file['doc']['id'])\n",
    "\n",
    "vk.messages.send(\n",
    "    chat_id=chat_id,\n",
    "    random_id=random.randint(1, 2 ** 31),\n",
    "    message='Минипроект 20-3',\n",
    "    attachment=attachment)\n"
   ]
  }
 ],
 "metadata": {
  "kernelspec": {
   "display_name": "Python 3",
   "language": "python",
   "name": "python3"
  },
  "language_info": {
   "codemirror_mode": {
    "name": "ipython",
    "version": 3
   },
   "file_extension": ".py",
   "mimetype": "text/x-python",
   "name": "python",
   "nbconvert_exporter": "python",
   "pygments_lexer": "ipython3",
   "version": "3.7.3"
  }
 },
 "nbformat": 4,
 "nbformat_minor": 4
}
