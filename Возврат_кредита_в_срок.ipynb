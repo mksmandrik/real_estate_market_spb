{
 "cells": [
  {
   "cell_type": "markdown",
   "metadata": {},
   "source": [
    "## Review\n",
    "\n",
    "Привет, Максим!\n",
    "\n",
    "Меня зовут Глеб, и я буду проверять твой проект. Предлагаю общаться на «ты», но если это не совсем удобно для тебя - дай знать, и мы перейдем на \"вы\".\n",
    "\n",
    "Моя основная цель — не указать на совершенные тобою ошибки, а поделиться своим опытом и помочь тебе стать аналитиком данных. Ты уже проделал большую работу над проектом, но давай сделаем его еще лучше. Ниже ты найдешь мои комментарии - пожалуйста, не перемещай, не изменяй и не удаляй их. Я буду использовать цветовую разметку:\n",
    "\n",
    "<div class=\"alert alert-success\" role=\"alert\">\n",
    "    <b>Успешно: </b>Если ты сделал что-то очень хорошо, я выделил комментарий в блок зеленого цвета.\n",
    "</div>\n",
    "\n",
    "<div class=\"alert alert-warning\" role=\"alert\">\n",
    "    <b>Улучшить: </b>Если я хочу дать тебе совет или думаю, что что-то можно улучшить, тогда я буду желтым выделять блок. Хочу отметить, что это необязательная рекомендация.\n",
    "</div>\n",
    "\n",
    "<div class=\"alert alert-danger\" role=\"alert\">\n",
    "  <b>Нужно исправить: </b>Если проект требует дополнительной работы, чтобы я мог принять ее, то цвет блока будет выделен красным.\n",
    "</div>\n",
    "\n",
    "Давай работать над проектом в диалоге: если ты что-то меняешь в проекте или отвечаешь на мои комменатри — пиши об этом. Мне будет легче отследить изменения, если ты выделишь свои комментарии:\n",
    "\n",
    "\n",
    "<div class=\"alert alert-info\" role=\"alert\">\n",
    "  <b>Комментарий студента: </b>  Например, вот так.\n",
    "</div>\n",
    "\n",
    "Всё это поможет выполнить повторную проверку твоего проекта оперативнее. \n",
    "\n",
    "\n",
    "### <font color='orange'>Общий отзыв о работе:</font>\n",
    "* Спасибо, что прислал свой проект. Ты действительно хорошо поработал над этим!\n",
    "* Большие выводы в конце каждого блока очень удобны. Я рад что ты подводишь такие подробные итоги.\n",
    "* Мне было очень приятно видеть практически над каждой строчкой кода твои комментарии о том, что она делает. Это удобно для проверяющего и в первую очередь для тебя самого. Команды будут быстрее запоминаться и если нужно будет что-то исправить ты быстро сможешь соориентироваться в своей работе.\n",
    "* Есть несколько мелких замечаний, которые необходимо сделать, прежде чем твоей проект может быть принят, но почти все они довольно просты.\n",
    "* Я верю, что ты сможешь легко исправить это! Я жду новую версию проекта. Удачи тебе!\n",
    "\n",
    "---\n"
   ]
  },
  {
   "cell_type": "markdown",
   "metadata": {},
   "source": [
    "## Исследование надёжности заёмщиков \n",
    "\n",
    "Заказчик — кредитный отдел банка. Нужно разобраться, влияет ли семейное положение и количество детей клиента на факт погашения кредита в срок. Входные данные от банка — статистика о платёжеспособности клиентов.\n",
    "\n",
    "Результаты исследования будут учтены при построении модели **кредитного скоринга** — специальной системы, которая оценивает способность потенциального заёмщика вернуть кредит банку."
   ]
  },
  {
   "cell_type": "markdown",
   "metadata": {},
   "source": [
    "### Шаг 1. Откройте файл с данными и изучите общую информацию. "
   ]
  },
  {
   "cell_type": "code",
   "execution_count": 6,
   "metadata": {},
   "outputs": [],
   "source": [
    "#Загрузим необходимые библиотеки для работы с данными и визуализации \n",
    "import pandas as pd\n",
    "import numpy as np\n",
    "from pymystem3 import Mystem\n",
    "m = Mystem()\n",
    "import seaborn as sns\n",
    "import matplotlib.pyplot as plt"
   ]
  },
  {
   "cell_type": "code",
   "execution_count": 7,
   "metadata": {},
   "outputs": [],
   "source": [
    "#Прочитаем данные (настройка encoding не требуется) и сохраним в переменную df.\n",
    "df = pd.read_csv('/datasets/data.csv')\n"
   ]
  },
  {
   "cell_type": "code",
   "execution_count": 8,
   "metadata": {},
   "outputs": [
    {
     "data": {
      "text/html": [
       "<div>\n",
       "<style scoped>\n",
       "    .dataframe tbody tr th:only-of-type {\n",
       "        vertical-align: middle;\n",
       "    }\n",
       "\n",
       "    .dataframe tbody tr th {\n",
       "        vertical-align: top;\n",
       "    }\n",
       "\n",
       "    .dataframe thead th {\n",
       "        text-align: right;\n",
       "    }\n",
       "</style>\n",
       "<table border=\"1\" class=\"dataframe\">\n",
       "  <thead>\n",
       "    <tr style=\"text-align: right;\">\n",
       "      <th></th>\n",
       "      <th>children</th>\n",
       "      <th>days_employed</th>\n",
       "      <th>dob_years</th>\n",
       "      <th>education</th>\n",
       "      <th>education_id</th>\n",
       "      <th>family_status</th>\n",
       "      <th>family_status_id</th>\n",
       "      <th>gender</th>\n",
       "      <th>income_type</th>\n",
       "      <th>debt</th>\n",
       "      <th>total_income</th>\n",
       "      <th>purpose</th>\n",
       "    </tr>\n",
       "  </thead>\n",
       "  <tbody>\n",
       "    <tr>\n",
       "      <td>0</td>\n",
       "      <td>1</td>\n",
       "      <td>-8437.673028</td>\n",
       "      <td>42</td>\n",
       "      <td>высшее</td>\n",
       "      <td>0</td>\n",
       "      <td>женат / замужем</td>\n",
       "      <td>0</td>\n",
       "      <td>F</td>\n",
       "      <td>сотрудник</td>\n",
       "      <td>0</td>\n",
       "      <td>253875.639453</td>\n",
       "      <td>покупка жилья</td>\n",
       "    </tr>\n",
       "    <tr>\n",
       "      <td>1</td>\n",
       "      <td>1</td>\n",
       "      <td>-4024.803754</td>\n",
       "      <td>36</td>\n",
       "      <td>среднее</td>\n",
       "      <td>1</td>\n",
       "      <td>женат / замужем</td>\n",
       "      <td>0</td>\n",
       "      <td>F</td>\n",
       "      <td>сотрудник</td>\n",
       "      <td>0</td>\n",
       "      <td>112080.014102</td>\n",
       "      <td>приобретение автомобиля</td>\n",
       "    </tr>\n",
       "    <tr>\n",
       "      <td>2</td>\n",
       "      <td>0</td>\n",
       "      <td>-5623.422610</td>\n",
       "      <td>33</td>\n",
       "      <td>Среднее</td>\n",
       "      <td>1</td>\n",
       "      <td>женат / замужем</td>\n",
       "      <td>0</td>\n",
       "      <td>M</td>\n",
       "      <td>сотрудник</td>\n",
       "      <td>0</td>\n",
       "      <td>145885.952297</td>\n",
       "      <td>покупка жилья</td>\n",
       "    </tr>\n",
       "    <tr>\n",
       "      <td>3</td>\n",
       "      <td>3</td>\n",
       "      <td>-4124.747207</td>\n",
       "      <td>32</td>\n",
       "      <td>среднее</td>\n",
       "      <td>1</td>\n",
       "      <td>женат / замужем</td>\n",
       "      <td>0</td>\n",
       "      <td>M</td>\n",
       "      <td>сотрудник</td>\n",
       "      <td>0</td>\n",
       "      <td>267628.550329</td>\n",
       "      <td>дополнительное образование</td>\n",
       "    </tr>\n",
       "    <tr>\n",
       "      <td>4</td>\n",
       "      <td>0</td>\n",
       "      <td>340266.072047</td>\n",
       "      <td>53</td>\n",
       "      <td>среднее</td>\n",
       "      <td>1</td>\n",
       "      <td>гражданский брак</td>\n",
       "      <td>1</td>\n",
       "      <td>F</td>\n",
       "      <td>пенсионер</td>\n",
       "      <td>0</td>\n",
       "      <td>158616.077870</td>\n",
       "      <td>сыграть свадьбу</td>\n",
       "    </tr>\n",
       "  </tbody>\n",
       "</table>\n",
       "</div>"
      ],
      "text/plain": [
       "   children  days_employed  dob_years education  education_id  \\\n",
       "0         1   -8437.673028         42    высшее             0   \n",
       "1         1   -4024.803754         36   среднее             1   \n",
       "2         0   -5623.422610         33   Среднее             1   \n",
       "3         3   -4124.747207         32   среднее             1   \n",
       "4         0  340266.072047         53   среднее             1   \n",
       "\n",
       "      family_status  family_status_id gender income_type  debt   total_income  \\\n",
       "0   женат / замужем                 0      F   сотрудник     0  253875.639453   \n",
       "1   женат / замужем                 0      F   сотрудник     0  112080.014102   \n",
       "2   женат / замужем                 0      M   сотрудник     0  145885.952297   \n",
       "3   женат / замужем                 0      M   сотрудник     0  267628.550329   \n",
       "4  гражданский брак                 1      F   пенсионер     0  158616.077870   \n",
       "\n",
       "                      purpose  \n",
       "0               покупка жилья  \n",
       "1     приобретение автомобиля  \n",
       "2               покупка жилья  \n",
       "3  дополнительное образование  \n",
       "4             сыграть свадьбу  "
      ]
     },
     "execution_count": 8,
     "metadata": {},
     "output_type": "execute_result"
    }
   ],
   "source": [
    "#Выведем первые 10 строк таблицы \n",
    "df.head(5)"
   ]
  },
  {
   "cell_type": "code",
   "execution_count": 9,
   "metadata": {},
   "outputs": [
    {
     "name": "stdout",
     "output_type": "stream",
     "text": [
      "<class 'pandas.core.frame.DataFrame'>\n",
      "RangeIndex: 21525 entries, 0 to 21524\n",
      "Data columns (total 12 columns):\n",
      "children            21525 non-null int64\n",
      "days_employed       19351 non-null float64\n",
      "dob_years           21525 non-null int64\n",
      "education           21525 non-null object\n",
      "education_id        21525 non-null int64\n",
      "family_status       21525 non-null object\n",
      "family_status_id    21525 non-null int64\n",
      "gender              21525 non-null object\n",
      "income_type         21525 non-null object\n",
      "debt                21525 non-null int64\n",
      "total_income        19351 non-null float64\n",
      "purpose             21525 non-null object\n",
      "dtypes: float64(2), int64(5), object(5)\n",
      "memory usage: 2.0+ MB\n"
     ]
    }
   ],
   "source": [
    "# <получение общей информации о данных в таблице df> - Дадим описательную характеристику структуры и состава данных\n",
    "df.info()"
   ]
  },
  {
   "cell_type": "code",
   "execution_count": 10,
   "metadata": {},
   "outputs": [
    {
     "data": {
      "text/plain": [
       "children              int64\n",
       "days_employed       float64\n",
       "dob_years             int64\n",
       "education            object\n",
       "education_id          int64\n",
       "family_status        object\n",
       "family_status_id      int64\n",
       "gender               object\n",
       "income_type          object\n",
       "debt                  int64\n",
       "total_income        float64\n",
       "purpose              object\n",
       "dtype: object"
      ]
     },
     "execution_count": 10,
     "metadata": {},
     "output_type": "execute_result"
    }
   ],
   "source": [
    "df.dtypes"
   ]
  },
  {
   "cell_type": "markdown",
   "metadata": {},
   "source": [
    "    Рассмотрим полученную информацию подробнее.\n",
    "\n",
    "    Всего в таблице 12 переменных, тип данных: вещественные, целочисленные и неопределенные \n",
    "\n",
    "    Подробно разберём, какие в df столбцы и какую информацию они содержат:\n",
    "    children — количество детей в семье \n",
    "    days_employed — общий трудовой стаж в днях \n",
    "    dob_years — возраст клиента в годах \n",
    "    education — уровень образования клиента \n",
    "    education_id — идентификатор уровня образования \n",
    "    family_status — семейное положение \n",
    "    family_status_id — идентификатор семейного положения \n",
    "    gender — пол клиента \n",
    "    income_type — тип занятости \n",
    "    debt — имел ли задолженность по возврату кредитов \n",
    "    total_income — ежемесячный доход \n",
    "    purpose — цель получения кредита\n",
    "\n",
    "    Количество значений в столбцах различается. Это говорит о том, что в данных есть пропущенные значения: В данных 21525 наблюдений. В переменных total_incom и days_employed  - 19351.\n",
    "\n",
    "    Обращем внимание на наличие первых артефактов в данных (несуществующих значений) - отрицательные значения переменной days_employed\n",
    "\n",
    "    Посмотрим на состав и распределение данных"
   ]
  },
  {
   "cell_type": "code",
   "execution_count": null,
   "metadata": {},
   "outputs": [],
   "source": [
    "#Состав и распределение значений переменных с помощью метода value_counts (суммирующего количество всех уникальных значений переменных)"
   ]
  },
  {
   "cell_type": "code",
   "execution_count": 11,
   "metadata": {},
   "outputs": [
    {
     "data": {
      "text/plain": [
       "женат / замужем          12380\n",
       "гражданский брак          4177\n",
       "Не женат / не замужем     2813\n",
       "в разводе                 1195\n",
       "вдовец / вдова             960\n",
       "Name: family_status, dtype: int64"
      ]
     },
     "execution_count": 11,
     "metadata": {},
     "output_type": "execute_result"
    }
   ],
   "source": [
    "df.family_status.value_counts()"
   ]
  },
  {
   "cell_type": "code",
   "execution_count": 12,
   "metadata": {},
   "outputs": [
    {
     "data": {
      "text/plain": [
       "сотрудник          11119\n",
       "компаньон           5085\n",
       "пенсионер           3856\n",
       "госслужащий         1459\n",
       "предприниматель        2\n",
       "безработный            2\n",
       "студент                1\n",
       "в декрете              1\n",
       "Name: income_type, dtype: int64"
      ]
     },
     "execution_count": 12,
     "metadata": {},
     "output_type": "execute_result"
    }
   ],
   "source": [
    "df.income_type.value_counts()"
   ]
  },
  {
   "cell_type": "code",
   "execution_count": 13,
   "metadata": {},
   "outputs": [
    {
     "data": {
      "text/plain": [
       "среднее                13750\n",
       "высшее                  4718\n",
       "СРЕДНЕЕ                  772\n",
       "Среднее                  711\n",
       "неоконченное высшее      668\n",
       "ВЫСШЕЕ                   274\n",
       "Высшее                   268\n",
       "начальное                250\n",
       "Неоконченное высшее       47\n",
       "НЕОКОНЧЕННОЕ ВЫСШЕЕ       29\n",
       "НАЧАЛЬНОЕ                 17\n",
       "Начальное                 15\n",
       "ученая степень             4\n",
       "Ученая степень             1\n",
       "УЧЕНАЯ СТЕПЕНЬ             1\n",
       "Name: education, dtype: int64"
      ]
     },
     "execution_count": 13,
     "metadata": {},
     "output_type": "execute_result"
    }
   ],
   "source": [
    "df.education.value_counts()"
   ]
  },
  {
   "cell_type": "code",
   "execution_count": 14,
   "metadata": {},
   "outputs": [
    {
     "data": {
      "text/plain": [
       "66    183\n",
       "22    183\n",
       "67    167\n",
       "21    111\n",
       "0     101\n",
       "68     99\n",
       "69     85\n",
       "70     65\n",
       "71     58\n",
       "20     51\n",
       "72     33\n",
       "19     14\n",
       "73      8\n",
       "74      6\n",
       "75      1\n",
       "Name: dob_years, dtype: int64"
      ]
     },
     "execution_count": 14,
     "metadata": {},
     "output_type": "execute_result"
    }
   ],
   "source": [
    "#для оптимизации ресурсов выведем последние 15 строк количества уникальных значений категории \"возраста\"\n",
    "df.dob_years.value_counts().tail(15)"
   ]
  },
  {
   "cell_type": "code",
   "execution_count": 15,
   "metadata": {},
   "outputs": [
    {
     "data": {
      "text/plain": [
       " 0     14149\n",
       " 1      4818\n",
       " 2      2055\n",
       " 3       330\n",
       " 20       76\n",
       "-1        47\n",
       " 4        41\n",
       " 5         9\n",
       "Name: children, dtype: int64"
      ]
     },
     "execution_count": 15,
     "metadata": {},
     "output_type": "execute_result"
    }
   ],
   "source": [
    "df.children.value_counts()"
   ]
  },
  {
   "cell_type": "code",
   "execution_count": 16,
   "metadata": {},
   "outputs": [
    {
     "data": {
      "text/plain": [
       "20667.26379327158"
      ]
     },
     "execution_count": 16,
     "metadata": {},
     "output_type": "execute_result"
    }
   ],
   "source": [
    "#Проверим размах переменной общий доход(минимальное значение)\n",
    "df.total_income.min()"
   ]
  },
  {
   "cell_type": "code",
   "execution_count": 17,
   "metadata": {},
   "outputs": [
    {
     "data": {
      "text/plain": [
       "2265604.028722744"
      ]
     },
     "execution_count": 17,
     "metadata": {},
     "output_type": "execute_result"
    }
   ],
   "source": [
    "#Проверим размах переменной общий доход(максимальнон значение)\n",
    "df.total_income.max()"
   ]
  },
  {
   "cell_type": "code",
   "execution_count": 18,
   "metadata": {},
   "outputs": [
    {
     "data": {
      "text/plain": [
       "167422.30220817294"
      ]
     },
     "execution_count": 18,
     "metadata": {},
     "output_type": "execute_result"
    }
   ],
   "source": [
    "#Посмотрим на среднее значение переменной\n",
    "df.total_income.mean()"
   ]
  },
  {
   "cell_type": "code",
   "execution_count": 19,
   "metadata": {},
   "outputs": [
    {
     "data": {
      "text/plain": [
       "145017.93753253992"
      ]
     },
     "execution_count": 19,
     "metadata": {},
     "output_type": "execute_result"
    }
   ],
   "source": [
    "#Посмотрим на медиану переменной \n",
    "df.total_income.median()"
   ]
  },
  {
   "cell_type": "markdown",
   "metadata": {},
   "source": [
    "    \n",
    "    В результате первичного скорринга переменных мы обнаружили три новые проблемы с данными. \n",
    "    1. Наличие кросслитерации в строковых значениях переменных family_status и education (во втором случае не унифицированные значения опасны ввиду дублирования из-за различий в регистре), \n",
    "    2. Смещенность распределения значений в переменной income_type (что несколько критично для дальнейшей категоризации данных), \n",
    "    3. Наличие артефакта в значении переменной dob_years (101 значение 0-го возраста), а также отрицательных значения в переменной children (-1) и экстримально высокого показателя - количества детей (20) в 76 случаях - что может свидетельствовать об ошибке в данных. \n",
    "    4. Вопрос о качестве данных вызывает размах между минимальным и максимальным значением переменной \"общий доход\" - максимальное значение слишком велико для того, чтобы соответствовать ежемесячному доходу. Предположения два: либо доход указан не в рублях (например, тенге), либо цифры отражают фальсификацию документов заемщиками, которые приносят в банк информации о заведомо преувеличенном располагаемом ежемесячном доходе. "
   ]
  },
  {
   "cell_type": "markdown",
   "metadata": {},
   "source": [
    "<div class=\"alert alert-success\">Отличные выводы, ты увидел всё, что необходимо исправить в данных для первоначального анализа.</div>"
   ]
  },
  {
   "cell_type": "code",
   "execution_count": 20,
   "metadata": {},
   "outputs": [
    {
     "data": {
      "text/html": [
       "<div>\n",
       "<style scoped>\n",
       "    .dataframe tbody tr th:only-of-type {\n",
       "        vertical-align: middle;\n",
       "    }\n",
       "\n",
       "    .dataframe tbody tr th {\n",
       "        vertical-align: top;\n",
       "    }\n",
       "\n",
       "    .dataframe thead th {\n",
       "        text-align: right;\n",
       "    }\n",
       "</style>\n",
       "<table border=\"1\" class=\"dataframe\">\n",
       "  <thead>\n",
       "    <tr style=\"text-align: right;\">\n",
       "      <th></th>\n",
       "      <th>children</th>\n",
       "      <th>days_employed</th>\n",
       "      <th>dob_years</th>\n",
       "      <th>education_id</th>\n",
       "      <th>family_status_id</th>\n",
       "      <th>debt</th>\n",
       "      <th>total_income</th>\n",
       "    </tr>\n",
       "  </thead>\n",
       "  <tbody>\n",
       "    <tr>\n",
       "      <td>count</td>\n",
       "      <td>21525.000000</td>\n",
       "      <td>19351.000000</td>\n",
       "      <td>21525.000000</td>\n",
       "      <td>21525.000000</td>\n",
       "      <td>21525.000000</td>\n",
       "      <td>21525.000000</td>\n",
       "      <td>1.935100e+04</td>\n",
       "    </tr>\n",
       "    <tr>\n",
       "      <td>mean</td>\n",
       "      <td>0.538908</td>\n",
       "      <td>63046.497661</td>\n",
       "      <td>43.293380</td>\n",
       "      <td>0.817236</td>\n",
       "      <td>0.972544</td>\n",
       "      <td>0.080883</td>\n",
       "      <td>1.674223e+05</td>\n",
       "    </tr>\n",
       "    <tr>\n",
       "      <td>std</td>\n",
       "      <td>1.381587</td>\n",
       "      <td>140827.311974</td>\n",
       "      <td>12.574584</td>\n",
       "      <td>0.548138</td>\n",
       "      <td>1.420324</td>\n",
       "      <td>0.272661</td>\n",
       "      <td>1.029716e+05</td>\n",
       "    </tr>\n",
       "    <tr>\n",
       "      <td>min</td>\n",
       "      <td>-1.000000</td>\n",
       "      <td>-18388.949901</td>\n",
       "      <td>0.000000</td>\n",
       "      <td>0.000000</td>\n",
       "      <td>0.000000</td>\n",
       "      <td>0.000000</td>\n",
       "      <td>2.066726e+04</td>\n",
       "    </tr>\n",
       "    <tr>\n",
       "      <td>25%</td>\n",
       "      <td>0.000000</td>\n",
       "      <td>-2747.423625</td>\n",
       "      <td>33.000000</td>\n",
       "      <td>1.000000</td>\n",
       "      <td>0.000000</td>\n",
       "      <td>0.000000</td>\n",
       "      <td>1.030532e+05</td>\n",
       "    </tr>\n",
       "    <tr>\n",
       "      <td>50%</td>\n",
       "      <td>0.000000</td>\n",
       "      <td>-1203.369529</td>\n",
       "      <td>42.000000</td>\n",
       "      <td>1.000000</td>\n",
       "      <td>0.000000</td>\n",
       "      <td>0.000000</td>\n",
       "      <td>1.450179e+05</td>\n",
       "    </tr>\n",
       "    <tr>\n",
       "      <td>75%</td>\n",
       "      <td>1.000000</td>\n",
       "      <td>-291.095954</td>\n",
       "      <td>53.000000</td>\n",
       "      <td>1.000000</td>\n",
       "      <td>1.000000</td>\n",
       "      <td>0.000000</td>\n",
       "      <td>2.034351e+05</td>\n",
       "    </tr>\n",
       "    <tr>\n",
       "      <td>max</td>\n",
       "      <td>20.000000</td>\n",
       "      <td>401755.400475</td>\n",
       "      <td>75.000000</td>\n",
       "      <td>4.000000</td>\n",
       "      <td>4.000000</td>\n",
       "      <td>1.000000</td>\n",
       "      <td>2.265604e+06</td>\n",
       "    </tr>\n",
       "  </tbody>\n",
       "</table>\n",
       "</div>"
      ],
      "text/plain": [
       "           children  days_employed     dob_years  education_id  \\\n",
       "count  21525.000000   19351.000000  21525.000000  21525.000000   \n",
       "mean       0.538908   63046.497661     43.293380      0.817236   \n",
       "std        1.381587  140827.311974     12.574584      0.548138   \n",
       "min       -1.000000  -18388.949901      0.000000      0.000000   \n",
       "25%        0.000000   -2747.423625     33.000000      1.000000   \n",
       "50%        0.000000   -1203.369529     42.000000      1.000000   \n",
       "75%        1.000000    -291.095954     53.000000      1.000000   \n",
       "max       20.000000  401755.400475     75.000000      4.000000   \n",
       "\n",
       "       family_status_id          debt  total_income  \n",
       "count      21525.000000  21525.000000  1.935100e+04  \n",
       "mean           0.972544      0.080883  1.674223e+05  \n",
       "std            1.420324      0.272661  1.029716e+05  \n",
       "min            0.000000      0.000000  2.066726e+04  \n",
       "25%            0.000000      0.000000  1.030532e+05  \n",
       "50%            0.000000      0.000000  1.450179e+05  \n",
       "75%            1.000000      0.000000  2.034351e+05  \n",
       "max            4.000000      1.000000  2.265604e+06  "
      ]
     },
     "execution_count": 20,
     "metadata": {},
     "output_type": "execute_result"
    }
   ],
   "source": [
    "#Посмотрим на статистику данных\n",
    "df.describe()"
   ]
  },
  {
   "cell_type": "markdown",
   "metadata": {},
   "source": [
    "Среднее значение интересующей (в рамках анализа) переменной debt (булиевая переменная) равно 0.08 (8%) - значение невозврата заемщиками кредита в срок. \n",
    "С учетом предварительного анализа данных решим проблемы с битыми данными, пропусками и дубликатами и ответим на вопрос о зависимости между \"семейным положением\", \"наличием детей\", \"уровнем дохода\", указанными \"целями кредита\" и возврата займа в срок.  "
   ]
  },
  {
   "cell_type": "markdown",
   "metadata": {},
   "source": [
    "### Шаг 2. Предобработка данных"
   ]
  },
  {
   "cell_type": "markdown",
   "metadata": {},
   "source": [
    "### Обработка пропусков"
   ]
  },
  {
   "cell_type": "code",
   "execution_count": 21,
   "metadata": {},
   "outputs": [
    {
     "data": {
      "text/plain": [
       "children            0.000000\n",
       "days_employed       0.100999\n",
       "dob_years           0.000000\n",
       "education           0.000000\n",
       "education_id        0.000000\n",
       "family_status       0.000000\n",
       "family_status_id    0.000000\n",
       "gender              0.000000\n",
       "income_type         0.000000\n",
       "debt                0.000000\n",
       "total_income        0.100999\n",
       "purpose             0.000000\n",
       "dtype: float64"
      ]
     },
     "execution_count": 21,
     "metadata": {},
     "output_type": "execute_result"
    }
   ],
   "source": [
    "#Оценим значение долю пропусков в двух переменных days_employed и total_income - 10% объемная доля\n",
    "df.isna().mean()"
   ]
  },
  {
   "cell_type": "code",
   "execution_count": 22,
   "metadata": {},
   "outputs": [
    {
     "data": {
      "text/plain": [
       "2174"
      ]
     },
     "execution_count": 22,
     "metadata": {},
     "output_type": "execute_result"
    }
   ],
   "source": [
    "#Посчитаем сумму пропущенных значений в указанных переменных: \n",
    "df.days_employed.isna().sum()\n",
    "df.total_income.isna().sum()"
   ]
  },
  {
   "cell_type": "code",
   "execution_count": 23,
   "metadata": {},
   "outputs": [
    {
     "data": {
      "text/plain": [
       "(2174, 12)"
      ]
     },
     "execution_count": 23,
     "metadata": {},
     "output_type": "execute_result"
    }
   ],
   "source": [
    "#Произведем проверку на равенство строковому значению \"NaN\"\n",
    "df[np.isnan(df['days_employed']) & np.isnan(df['total_income'])].shape"
   ]
  },
  {
   "cell_type": "markdown",
   "metadata": {},
   "source": [
    "<div class=\"alert alert-warning\">\n",
    "    Из кода выше, можно сделать заключение что пропуски в двух столбцах симметричны и попробовать найти причину почему именно у этих пользователей и в этих столбцах имеются NaN.\n",
    "    <br><br>\n",
    "Для начала следует рассмотреть характер появления пропусков. Возможно, симметричные пропуска зависимы от определенной характеристики клиента. Одними из основных показателей при принятии решении о выдачи кредита для банка являются тип занятости и возраст клиента. Поэтому, проверку зависимости пропусков от значения других показателей начнем со столбцов income_type (тип занятости) и dob_years (возраст клиента в годах).\n",
    "<br><br>\n",
    "Возможно зависимости нет и пропуски случайны, но это хорошая практика исследовать данные, так поступают настоящие профессионалы.\n",
    "</div>"
   ]
  },
  {
   "cell_type": "markdown",
   "metadata": {},
   "source": [
    "<font color='blue'>Глеб, большое спасибо тебе за все твои комментарии и, в частности, за этот! Если быть честным, я пробовал покрутить данные в этом ключе, но довольно поверхностно, например, через loc на совместную встречаемость пропусков и других ошибок в данных. Твоя предложение очень полезно. Я бы (именно в этом разделе) мог бы попробовать поискать зависимости между этими переменными. \n",
    "Но тут у меня две проблемы:\n",
    "Так как я уже структурировал проект таким образом, что исправление ошибок и артефактов в переменных тип занятости и возраст клиентов в годах, боюсь, приступив, \"запороть\" здесь расчеты - учитывая, что в понедельник открывается новый стрим, а время суббота и еще необходимо получить твой ответ на критические замечания и на него ответить - я бы покрутил эти данные в своей тетрадке-черновике и уже дополнил этой информацией этот проект - так сказать - в парадный вариант первого портфолию. Но правильно ли я понимаю, что здесь мне было бы полнезно поступить следующим образом: 1. получить таблицу в которой будут только строки с пропущенными значениями в столбце total_income , days_employed . Пример: df_income_absence = df[df['total_income'].isna()] / df_emploed_absence = df[df['dayes_employed'].isna()] 2. попробовать отысказать зависимости между пропусками и переменными income_type и dob_years следующим образом: сгруппировать по каждому из них, аггрегировав количество (count) или среднее (mean) пропусков. Пример: df_income_absence.groupby['income_type'].agg({'total_income': 'count'}) \n",
    "Буду очень признателен за твой ответ."
   ]
  },
  {
   "cell_type": "code",
   "execution_count": 24,
   "metadata": {},
   "outputs": [
    {
     "data": {
      "text/html": [
       "<div>\n",
       "<style scoped>\n",
       "    .dataframe tbody tr th:only-of-type {\n",
       "        vertical-align: middle;\n",
       "    }\n",
       "\n",
       "    .dataframe tbody tr th {\n",
       "        vertical-align: top;\n",
       "    }\n",
       "\n",
       "    .dataframe thead th {\n",
       "        text-align: right;\n",
       "    }\n",
       "</style>\n",
       "<table border=\"1\" class=\"dataframe\">\n",
       "  <thead>\n",
       "    <tr style=\"text-align: right;\">\n",
       "      <th></th>\n",
       "      <th>children</th>\n",
       "      <th>days_employed</th>\n",
       "      <th>dob_years</th>\n",
       "      <th>education</th>\n",
       "      <th>education_id</th>\n",
       "      <th>family_status</th>\n",
       "      <th>family_status_id</th>\n",
       "      <th>gender</th>\n",
       "      <th>income_type</th>\n",
       "      <th>debt</th>\n",
       "      <th>total_income</th>\n",
       "      <th>purpose</th>\n",
       "    </tr>\n",
       "  </thead>\n",
       "  <tbody>\n",
       "    <tr>\n",
       "      <td>12</td>\n",
       "      <td>0</td>\n",
       "      <td>NaN</td>\n",
       "      <td>65</td>\n",
       "      <td>среднее</td>\n",
       "      <td>1</td>\n",
       "      <td>гражданский брак</td>\n",
       "      <td>1</td>\n",
       "      <td>M</td>\n",
       "      <td>пенсионер</td>\n",
       "      <td>0</td>\n",
       "      <td>NaN</td>\n",
       "      <td>сыграть свадьбу</td>\n",
       "    </tr>\n",
       "    <tr>\n",
       "      <td>26</td>\n",
       "      <td>0</td>\n",
       "      <td>NaN</td>\n",
       "      <td>41</td>\n",
       "      <td>среднее</td>\n",
       "      <td>1</td>\n",
       "      <td>женат / замужем</td>\n",
       "      <td>0</td>\n",
       "      <td>M</td>\n",
       "      <td>госслужащий</td>\n",
       "      <td>0</td>\n",
       "      <td>NaN</td>\n",
       "      <td>образование</td>\n",
       "    </tr>\n",
       "    <tr>\n",
       "      <td>29</td>\n",
       "      <td>0</td>\n",
       "      <td>NaN</td>\n",
       "      <td>63</td>\n",
       "      <td>среднее</td>\n",
       "      <td>1</td>\n",
       "      <td>Не женат / не замужем</td>\n",
       "      <td>4</td>\n",
       "      <td>F</td>\n",
       "      <td>пенсионер</td>\n",
       "      <td>0</td>\n",
       "      <td>NaN</td>\n",
       "      <td>строительство жилой недвижимости</td>\n",
       "    </tr>\n",
       "    <tr>\n",
       "      <td>41</td>\n",
       "      <td>0</td>\n",
       "      <td>NaN</td>\n",
       "      <td>50</td>\n",
       "      <td>среднее</td>\n",
       "      <td>1</td>\n",
       "      <td>женат / замужем</td>\n",
       "      <td>0</td>\n",
       "      <td>F</td>\n",
       "      <td>госслужащий</td>\n",
       "      <td>0</td>\n",
       "      <td>NaN</td>\n",
       "      <td>сделка с подержанным автомобилем</td>\n",
       "    </tr>\n",
       "    <tr>\n",
       "      <td>55</td>\n",
       "      <td>0</td>\n",
       "      <td>NaN</td>\n",
       "      <td>54</td>\n",
       "      <td>среднее</td>\n",
       "      <td>1</td>\n",
       "      <td>гражданский брак</td>\n",
       "      <td>1</td>\n",
       "      <td>F</td>\n",
       "      <td>пенсионер</td>\n",
       "      <td>1</td>\n",
       "      <td>NaN</td>\n",
       "      <td>сыграть свадьбу</td>\n",
       "    </tr>\n",
       "    <tr>\n",
       "      <td>65</td>\n",
       "      <td>0</td>\n",
       "      <td>NaN</td>\n",
       "      <td>21</td>\n",
       "      <td>среднее</td>\n",
       "      <td>1</td>\n",
       "      <td>Не женат / не замужем</td>\n",
       "      <td>4</td>\n",
       "      <td>M</td>\n",
       "      <td>компаньон</td>\n",
       "      <td>0</td>\n",
       "      <td>NaN</td>\n",
       "      <td>операции с коммерческой недвижимостью</td>\n",
       "    </tr>\n",
       "    <tr>\n",
       "      <td>67</td>\n",
       "      <td>0</td>\n",
       "      <td>NaN</td>\n",
       "      <td>52</td>\n",
       "      <td>высшее</td>\n",
       "      <td>0</td>\n",
       "      <td>женат / замужем</td>\n",
       "      <td>0</td>\n",
       "      <td>F</td>\n",
       "      <td>пенсионер</td>\n",
       "      <td>0</td>\n",
       "      <td>NaN</td>\n",
       "      <td>покупка жилья для семьи</td>\n",
       "    </tr>\n",
       "    <tr>\n",
       "      <td>72</td>\n",
       "      <td>1</td>\n",
       "      <td>NaN</td>\n",
       "      <td>32</td>\n",
       "      <td>высшее</td>\n",
       "      <td>0</td>\n",
       "      <td>женат / замужем</td>\n",
       "      <td>0</td>\n",
       "      <td>M</td>\n",
       "      <td>госслужащий</td>\n",
       "      <td>0</td>\n",
       "      <td>NaN</td>\n",
       "      <td>операции с коммерческой недвижимостью</td>\n",
       "    </tr>\n",
       "    <tr>\n",
       "      <td>82</td>\n",
       "      <td>2</td>\n",
       "      <td>NaN</td>\n",
       "      <td>50</td>\n",
       "      <td>высшее</td>\n",
       "      <td>0</td>\n",
       "      <td>женат / замужем</td>\n",
       "      <td>0</td>\n",
       "      <td>F</td>\n",
       "      <td>сотрудник</td>\n",
       "      <td>0</td>\n",
       "      <td>NaN</td>\n",
       "      <td>жилье</td>\n",
       "    </tr>\n",
       "    <tr>\n",
       "      <td>83</td>\n",
       "      <td>0</td>\n",
       "      <td>NaN</td>\n",
       "      <td>52</td>\n",
       "      <td>среднее</td>\n",
       "      <td>1</td>\n",
       "      <td>женат / замужем</td>\n",
       "      <td>0</td>\n",
       "      <td>M</td>\n",
       "      <td>сотрудник</td>\n",
       "      <td>0</td>\n",
       "      <td>NaN</td>\n",
       "      <td>жилье</td>\n",
       "    </tr>\n",
       "  </tbody>\n",
       "</table>\n",
       "</div>"
      ],
      "text/plain": [
       "    children  days_employed  dob_years education  education_id  \\\n",
       "12         0            NaN         65   среднее             1   \n",
       "26         0            NaN         41   среднее             1   \n",
       "29         0            NaN         63   среднее             1   \n",
       "41         0            NaN         50   среднее             1   \n",
       "55         0            NaN         54   среднее             1   \n",
       "65         0            NaN         21   среднее             1   \n",
       "67         0            NaN         52    высшее             0   \n",
       "72         1            NaN         32    высшее             0   \n",
       "82         2            NaN         50    высшее             0   \n",
       "83         0            NaN         52   среднее             1   \n",
       "\n",
       "            family_status  family_status_id gender  income_type  debt  \\\n",
       "12       гражданский брак                 1      M    пенсионер     0   \n",
       "26        женат / замужем                 0      M  госслужащий     0   \n",
       "29  Не женат / не замужем                 4      F    пенсионер     0   \n",
       "41        женат / замужем                 0      F  госслужащий     0   \n",
       "55       гражданский брак                 1      F    пенсионер     1   \n",
       "65  Не женат / не замужем                 4      M    компаньон     0   \n",
       "67        женат / замужем                 0      F    пенсионер     0   \n",
       "72        женат / замужем                 0      M  госслужащий     0   \n",
       "82        женат / замужем                 0      F    сотрудник     0   \n",
       "83        женат / замужем                 0      M    сотрудник     0   \n",
       "\n",
       "    total_income                                purpose  \n",
       "12           NaN                        сыграть свадьбу  \n",
       "26           NaN                            образование  \n",
       "29           NaN       строительство жилой недвижимости  \n",
       "41           NaN       сделка с подержанным автомобилем  \n",
       "55           NaN                        сыграть свадьбу  \n",
       "65           NaN  операции с коммерческой недвижимостью  \n",
       "67           NaN                покупка жилья для семьи  \n",
       "72           NaN  операции с коммерческой недвижимостью  \n",
       "82           NaN                                  жилье  \n",
       "83           NaN                                  жилье  "
      ]
     },
     "execution_count": 24,
     "metadata": {},
     "output_type": "execute_result"
    }
   ],
   "source": [
    "#Выведем таблицу с отсутствиующими значениями общего дохода. Обращаем внимание на то, \n",
    "#что отсутствующие значения распределены между разными соц-дем характеристиками заемщиков \n",
    "df[np.isnan(df['total_income'])].head(10)"
   ]
  },
  {
   "cell_type": "markdown",
   "metadata": {},
   "source": [
    "    Для того, чтобы заполнить пропуски переменной \"общий доход\" (ежемесячный), воспользуемся медианными значениями этой переменной в категории \"тип занятости\"(наиболее оптимальной для теоретической аппроксимации в срезе отсутствующих значений переменной). Медиана применительно к арифметической оценке уровня дохода имеет преимущество перед оценкой среднего, ввиду вероятностно сильного разброса значений (высокой дисперсии), что может привести к искаженной (скошенной, не взвешенной) оценке. "
   ]
  },
  {
   "cell_type": "code",
   "execution_count": 26,
   "metadata": {},
   "outputs": [
    {
     "data": {
      "text/html": [
       "<div>\n",
       "<style scoped>\n",
       "    .dataframe tbody tr th:only-of-type {\n",
       "        vertical-align: middle;\n",
       "    }\n",
       "\n",
       "    .dataframe tbody tr th {\n",
       "        vertical-align: top;\n",
       "    }\n",
       "\n",
       "    .dataframe thead th {\n",
       "        text-align: right;\n",
       "    }\n",
       "</style>\n",
       "<table border=\"1\" class=\"dataframe\">\n",
       "  <thead>\n",
       "    <tr style=\"text-align: right;\">\n",
       "      <th></th>\n",
       "      <th>total_income</th>\n",
       "    </tr>\n",
       "    <tr>\n",
       "      <th>income_type</th>\n",
       "      <th></th>\n",
       "    </tr>\n",
       "  </thead>\n",
       "  <tbody>\n",
       "    <tr>\n",
       "      <td>безработный</td>\n",
       "      <td>131339.751676</td>\n",
       "    </tr>\n",
       "    <tr>\n",
       "      <td>в декрете</td>\n",
       "      <td>53829.130729</td>\n",
       "    </tr>\n",
       "    <tr>\n",
       "      <td>госслужащий</td>\n",
       "      <td>150447.935283</td>\n",
       "    </tr>\n",
       "    <tr>\n",
       "      <td>компаньон</td>\n",
       "      <td>172357.950966</td>\n",
       "    </tr>\n",
       "    <tr>\n",
       "      <td>пенсионер</td>\n",
       "      <td>118514.486412</td>\n",
       "    </tr>\n",
       "    <tr>\n",
       "      <td>предприниматель</td>\n",
       "      <td>499163.144947</td>\n",
       "    </tr>\n",
       "    <tr>\n",
       "      <td>сотрудник</td>\n",
       "      <td>142594.396847</td>\n",
       "    </tr>\n",
       "    <tr>\n",
       "      <td>студент</td>\n",
       "      <td>98201.625314</td>\n",
       "    </tr>\n",
       "  </tbody>\n",
       "</table>\n",
       "</div>"
      ],
      "text/plain": [
       "                  total_income\n",
       "income_type                   \n",
       "безработный      131339.751676\n",
       "в декрете         53829.130729\n",
       "госслужащий      150447.935283\n",
       "компаньон        172357.950966\n",
       "пенсионер        118514.486412\n",
       "предприниматель  499163.144947\n",
       "сотрудник        142594.396847\n",
       "студент           98201.625314"
      ]
     },
     "execution_count": 26,
     "metadata": {},
     "output_type": "execute_result"
    }
   ],
   "source": [
    "m_table = df.groupby(['income_type']).agg({'total_income' : 'median'})\n",
    "m_table"
   ]
  },
  {
   "cell_type": "code",
   "execution_count": 27,
   "metadata": {},
   "outputs": [],
   "source": [
    "def total_income_fill_with_median(row):\n",
    "    total_income = row['total_income']\n",
    "    income_type = row['income_type']\n",
    "    if np.isnan(total_income):\n",
    "        return m_table.loc[income_type, 'total_income']\n",
    "        #return 'замена'\n",
    "    #return 'замен нет'\n",
    "    return total_income\n",
    " \n",
    "df['total_income'] = df.apply(total_income_fill_with_median, axis = 1)"
   ]
  },
  {
   "cell_type": "code",
   "execution_count": 28,
   "metadata": {},
   "outputs": [
    {
     "data": {
      "text/plain": [
       "142594.396847    1105\n",
       "172357.950966     509\n",
       "118514.486412     414\n",
       "150447.935283     147\n",
       "499163.144947       2\n",
       "                 ... \n",
       "133299.194693       1\n",
       "115080.782380       1\n",
       "84896.781597        1\n",
       "153838.839212       1\n",
       "150014.128510       1\n",
       "Name: total_income, Length: 19353, dtype: int64"
      ]
     },
     "execution_count": 28,
     "metadata": {},
     "output_type": "execute_result"
    }
   ],
   "source": [
    "#проверим, заменилось ли корректно по значению\n",
    "df['total_income'].value_counts()"
   ]
  },
  {
   "cell_type": "code",
   "execution_count": 29,
   "metadata": {},
   "outputs": [
    {
     "data": {
      "text/plain": [
       "0"
      ]
     },
     "execution_count": 29,
     "metadata": {},
     "output_type": "execute_result"
    }
   ],
   "source": [
    "df['total_income'].isna().sum()"
   ]
  },
  {
   "cell_type": "markdown",
   "metadata": {},
   "source": [
    "<div class=\"alert alert-danger\"><b>Нужно исправить: </b>при работе с данными, пытайся избегать циклов. В pandas есть много методов, которые могут помочь преобразовать тебе данные как тебе угодно. Циклов стоит избегать, так как они намного медленнее работают. Если тебе придется работать даже со средним объемом данных, циклы заставят тебя ждать по несколько дней, когда в pandas можно применить одну команду и времени займет на порядок меньше.</div>"
   ]
  },
  {
   "cell_type": "markdown",
   "metadata": {},
   "source": [
    "<font color='blue'>Ответ на комментариий: Я внес изменения в код и заменил пропущенные значения переменной \"общий доход в месяц\" с помощью медианных значений этой переменной в категории \"тип занятости\" без использования циклов. Сделал я это с помощью функции, которая применяется через apply. Функция на вход принимает строчку датафрейма, достает из нее значение с доходом и типом занятости, проверяет, что доход пустой по значению и если это так, то по значению типа занятости обращается в сводную таблицу с медианами и возвращает соответствующую расчетную величину. В противном случае - возвращает исходное значение переменной \"общий доход в месяц\". \n",
    "\n",
    "Также я предлагаю измерить скорость работы первого (через цикл) и второго (через функцию и apply) варианта отработки кода. Для этого в начале каждой из ячеек я добавил строчку %%time (время исполнения цикла - т.е. первого варианта - я замерил в своей тетрадке на локальном Jupyter.\n",
    "\n",
    "Результат: Отработка кода с циклом - 87.7 ms  Отработка кода с apply - 685 ms - возможно, я допустил ошибку в проверке на скорость исполнения, но с циклом код отрабатывает быстрее. Причина для меня, на жанном этапе, не предельно ясна!  \n",
    "Прошу обратить внимание, однако, что я осознал, что циклы плохо использовать для итерации по строчкам датафрейма. Для таких задач есть встроенные метода вроде apply()."
   ]
  },
  {
   "cell_type": "markdown",
   "metadata": {},
   "source": [
    "    Категория \"стаж\" (общий трудовой стаж в днях) трудно поддается аппроксимации пропущенных значений на основе средних значений, сгруппированных на альтернативных переменных (\"тип занятости\" (или тип дохода), \"возраст\", \"семеное положение\" и пр.). Причина довольно очевидна - вне зависимости от поло-возрастных и соц-дем характеристик совокупный официальный стаж сильно партикулярный (зависит от целого ряда других факторов). \n",
    "    \n",
    "    Подкрепляя это соображение актуализацией экономии трафика, заменим отсутствующие значения переменной days_employed на целочисленное отрицательное значение -10, которая, в свою очередь, позволит легко отфильтровать данные в случае обращения к переменной. Мы не рекоммендуем оставлять NaN в переменной, ввиду того, что NaN может быть представлен только типом float - что может вызовать проблемы при проверки на равенства (например, числа X.0000001)\n",
    "    \n",
    "    На данном этапе, чтобы привести по модулю все значения данной переменно к положительным числам, временно заменим NaN на несуществующую значение 1000000 дней (несуществующий стаж - длиннее человеческой жизни)"
   ]
  },
  {
   "cell_type": "code",
   "execution_count": 366,
   "metadata": {},
   "outputs": [
    {
     "name": "stdout",
     "output_type": "stream",
     "text": [
      "Количество пропусков в переменной \"общий стаж в днях\" после применения метода замены: 0\n"
     ]
    }
   ],
   "source": [
    "#Применим функцию fillna (заполнить пропуски), в качестве аргумента укажем \n",
    "df['days_employed'] = df['days_employed'].fillna(1000000)\n",
    "#Проверим наличие пропусков \n",
    "print('Количество пропусков в переменной \"общий стаж в днях\" после применения метода замены: {}'.format(df['days_employed'].isna().sum()))"
   ]
  },
  {
   "cell_type": "code",
   "execution_count": 367,
   "metadata": {},
   "outputs": [
    {
     "data": {
      "text/plain": [
       "12       1000000.0\n",
       "26       1000000.0\n",
       "29       1000000.0\n",
       "41       1000000.0\n",
       "55       1000000.0\n",
       "           ...    \n",
       "21489    1000000.0\n",
       "21495    1000000.0\n",
       "21497    1000000.0\n",
       "21502    1000000.0\n",
       "21510    1000000.0\n",
       "Name: days_employed, Length: 2174, dtype: float64"
      ]
     },
     "execution_count": 367,
     "metadata": {},
     "output_type": "execute_result"
    }
   ],
   "source": [
    "#проверим заменилось ли корректно по значению\n",
    "df['days_employed'].loc[df['days_employed'] == 1000000] "
   ]
  },
  {
   "cell_type": "code",
   "execution_count": 334,
   "metadata": {},
   "outputs": [
    {
     "data": {
      "text/plain": [
       "1000000.000000    2174\n",
       "986.927316           1\n",
       "4906.125062          1\n",
       "4236.274243          1\n",
       "6620.396473          1\n",
       "                  ... \n",
       "2849.351119          1\n",
       "5619.328204          1\n",
       "448.829898           1\n",
       "1687.038672          1\n",
       "582.538413           1\n",
       "Name: days_employed, Length: 19352, dtype: int64"
      ]
     },
     "execution_count": 334,
     "metadata": {},
     "output_type": "execute_result"
    }
   ],
   "source": [
    "#подспутно избавимся от отрицательных значений переменной, применив функцию abs() к значениям столбца, \n",
    "#которая возвращает модуль от значения числа.  \n",
    "df.days_employed = df.days_employed.abs()\n",
    "#проверим, избавились ли от отрицательного стажа\n",
    "df.days_employed.value_counts()"
   ]
  },
  {
   "cell_type": "code",
   "execution_count": 368,
   "metadata": {},
   "outputs": [
    {
     "data": {
      "text/plain": [
       "children              int64\n",
       "days_employed       float64\n",
       "dob_years             int64\n",
       "education            object\n",
       "education_id          int64\n",
       "family_status        object\n",
       "family_status_id      int64\n",
       "gender               object\n",
       "income_type          object\n",
       "debt                  int64\n",
       "total_income        float64\n",
       "purpose              object\n",
       "dtype: object"
      ]
     },
     "execution_count": 368,
     "metadata": {},
     "output_type": "execute_result"
    }
   ],
   "source": [
    "#days_employed по-прежнему float (этот тип переменных может номинально быть целым числом), зато мы избавились от отрицательных значений и временно маркировали NaN несуществующим числом-артефактом\n",
    "df.dtypes"
   ]
  },
  {
   "cell_type": "code",
   "execution_count": 369,
   "metadata": {},
   "outputs": [
    {
     "data": {
      "text/plain": [
       "0     14149\n",
       "1      4865\n",
       "2      2055\n",
       "3       330\n",
       "20       76\n",
       "4        41\n",
       "5         9\n",
       "Name: children, dtype: int64"
      ]
     },
     "execution_count": 369,
     "metadata": {},
     "output_type": "execute_result"
    }
   ],
   "source": [
    "#Подобным образом избавимся от отрицательных значений в children (количество детей)\n",
    "df.children = df.children.abs()\n",
    "#Проверяем\n",
    "df.children.value_counts()"
   ]
  },
  {
   "cell_type": "markdown",
   "metadata": {},
   "source": [
    "### Вывод"
   ]
  },
  {
   "cell_type": "markdown",
   "metadata": {},
   "source": [
    "    В данном разделе мы провели разведовательный анализ на поиск пропущенных значений, а также замену последних на маркеры или медианную аппроксимацию на основе значений столбцов с пропущенными значения для значений релевантной переменной - \"тип занятости\". \n",
    "    \n",
    "    Было обнаружено 2174 пропущенных значений в двух переменных: \"общий стаж в днях\" \"общий доход в месяц\" (переменная для анализа). Доля пропусков составляет около 10% от общего массива данных, что является критическим основанием для замены (не удаления) с целью избежания потери информации о заемщиках. \n",
    "    \n",
    "    Для замены пропущенных значений \"общий доход в месяц\" была выбрана медианная аппроксимация группировки ее значений в категории \"тип занятости\". Во-первых, \"тип занятости\" (или тип дохода) лучше остальных переменных анализа прогнозирует ежемесячных доход (характер труда-зарплата), сама по себе категория хорошо диверсифицирована с прозрачными границами внутри групп (в ней есть представлены также пенсионеры), однако не достаточно насыщена и представлена (было бы лучше выбрать альтернативную \"трудовую сетку\" или иные критерии \"классового\", \"трудового\" деления в неолиберальных экономиках). Во-вторых, прогнрозирование значений категорий \"доход\" на основе \"типа занятости\" обладает аналитическим преимуществом(позволяет избежать ошибки некогеретных групп высокозарабытвающие пенсионеры и состоятельные госсслужащие). В-третьих, \"медиана\" наиболее релевантна в расчете усредненного дохода - среднее значение чувствительно к выбросам - это актуально для наших данных о доходе, имеющий широкий размах значений. \n",
    "    \n",
    "    Для замены пропущенных значений \"общий стаж в днях\" был выбран способ применения артефактов - маркеров несуществующих значений. Категория (официальный!) стаж чрезвычано партикулярна и не может (даже в грубой форме) быть спрогнозирована значениями \"характера труда\". В некоторой степени, стаж (в грубой форме) может быть аппроксимирован по значениям переменной \"возраст\" - однако, в рамках аналитической работы определения факторов возврата кредит в срок, подобная экстраполяция данных может внести неясность в результат переменной \"возврат кредита\". В дальнейшем анализе рекоммендуем фильтровать переменную \"стаж\" от несуществующего числа (исключив пропущенные значения).\n",
    "    \n",
    "    В данном разделе также были проведены некоторые работы подготовки данных к последующей трансформации типов переменных и поиску дубликатов. \n",
    "    \n",
    "    В результате анализа мы выяснили, что пропущенные строки двух переменных тавтологичны - т.е. совпадают (чего не скажешь о других \"ошибках\",\"багах\" и \"дубликатов\"). Причина такой ошибки может быть как сбой в системе верификации, так и человеческий фактор - внесения в колонки данных на этапе составления данных. Так, есть два сценанрия выдачи кредита - 1) Заемщик обращается напряму в банк, в этом случае, сотрудник банка вносит данные в анкету, исходя из полученной информации от заемщика. На этом этапе может допустить ошибку как сотрудник банка. 2) Заемщик составляет заявку он-лайн - на этом этапе он может по какой-то причине не внести нужные данные, либо внести их неправильно. 3) В обоих случая - далее информация отправляется в службу безопасности банка - данные проверяются - недостоверная / нерелевантная / неточная информация может послужить основой пропуска данных. "
   ]
  },
  {
   "cell_type": "markdown",
   "metadata": {},
   "source": [
    "<div class=\"alert alert-success\">Этап первоначальной обработки данных выполненх хорошо, ты написал отличные выводы. Не забудь исправить комментарии выше.</div>"
   ]
  },
  {
   "cell_type": "markdown",
   "metadata": {},
   "source": [
    "### Замена типа данных"
   ]
  },
  {
   "cell_type": "code",
   "execution_count": 370,
   "metadata": {},
   "outputs": [
    {
     "data": {
      "text/plain": [
       "0    253876\n",
       "1    112080\n",
       "Name: total_income, dtype: int64"
      ]
     },
     "execution_count": 370,
     "metadata": {},
     "output_type": "execute_result"
    }
   ],
   "source": [
    "#Для того, чтобы привести переменную total_income в нужный тип, применим метот astype() с аргументом int64 (целочисленный)\n",
    "#Предварительно округлив до целого числа\n",
    "df['total_income'] = df['total_income'].round()\n",
    "df['total_income'] = df['total_income'].astype('int64')\n",
    "df.dtypes\n",
    "df['total_income'].head(2)"
   ]
  },
  {
   "cell_type": "code",
   "execution_count": 371,
   "metadata": {},
   "outputs": [],
   "source": [
    "#Для того, чтобы начать работу с переменной days_employed, округлим ее значение до целого\n",
    "df['days_employed'] = df['days_employed'].round()\n",
    "\n",
    "#\n",
    "df['days_employed'] = df['days_employed'].astype('int64')\n",
    "#df.dtypes\n"
   ]
  },
  {
   "cell_type": "code",
   "execution_count": 372,
   "metadata": {},
   "outputs": [
    {
     "data": {
      "text/plain": [
       "children             int64\n",
       "days_employed        int64\n",
       "dob_years            int64\n",
       "education           object\n",
       "education_id         int64\n",
       "family_status       object\n",
       "family_status_id     int64\n",
       "gender              object\n",
       "income_type         object\n",
       "debt                 int64\n",
       "total_income         int64\n",
       "purpose             object\n",
       "dtype: object"
      ]
     },
     "execution_count": 372,
     "metadata": {},
     "output_type": "execute_result"
    }
   ],
   "source": [
    "df.dtypes"
   ]
  },
  {
   "cell_type": "markdown",
   "metadata": {},
   "source": [
    "### Вывод"
   ]
  },
  {
   "cell_type": "markdown",
   "metadata": {},
   "source": [
    "    В данном разделе была проведена замена вещественных типов данных (типа float) на целочисленный (типа interge) двух переменных \"общий стаж работы в днях\" и \"общий доход в месяц\", предварительно округлив до нуля.\n",
    "    Тип переменной int64 позволяет избавиться от дробной части чисел (что облегчает восприятие, облегчает анализ и экономит ресурсы хранения данных).\n",
    "    Наибольший интерес вызывает работа с переменной \"общий стаж в днях\": для того, чтобы округлить эту переменную потребовалось заменить NaN на целое несуществующее число. К несчатью, датафреймы, в отличии от серий, не позволяют перевести всю колонку в числовые переменные, если в них присутствуют текстовые значения - это ограничивает возможности замены пропущенных значений переменной на более наглядный маркер 'unknown' с сохранением типа переменной int или float. Потенциальный метод замены строковых значений в число - to_numeric() - с параметром - errors='ignore' (некорректные значения игнорируются, но остаются) - на колонке с текстовыми значениями не отрабатывается. \n",
    "    В пандасе строковые объекты по дефолту представляются типом object, дополнительно менять данный тип не нужно."
   ]
  },
  {
   "cell_type": "markdown",
   "metadata": {},
   "source": [
    "<div class=\"alert alert-success\">Мне приятно видеть, что ты использовал метод to_numeric, да еще и изучил его параметры. Респект!</div>"
   ]
  },
  {
   "cell_type": "markdown",
   "metadata": {},
   "source": [
    "### Обработка дубликатов"
   ]
  },
  {
   "cell_type": "markdown",
   "metadata": {},
   "source": [
    "    Перед тем, как заняться поиском и обработкой дубликатов в строках, мы видим смыслы провести две процедуры по \"чистке\" данных: \n",
    "    1.Унифицировать литерацию значений в столбцах education, family_status для того, чтобы удалить повторяющиеся строки, вызыванные тавтологичными по значению, но разными по записи данные, \n",
    "    2. Заполнить дублированные 0 в переменной \"возраст заемщика\" (dob_years), записанных в данные по ошибке. \n",
    "    3. Обработать ошибки в категории children - для того, чтобы избавиться от лишних категорий переменной, возникших из-за \"ошибки\" (предполагаемо, ввода)"
   ]
  },
  {
   "cell_type": "code",
   "execution_count": 373,
   "metadata": {},
   "outputs": [
    {
     "data": {
      "text/plain": [
       "среднее                15233\n",
       "высшее                  5260\n",
       "неоконченное высшее      744\n",
       "начальное                282\n",
       "ученая степень             6\n",
       "Name: education, dtype: int64"
      ]
     },
     "execution_count": 373,
     "metadata": {},
     "output_type": "execute_result"
    }
   ],
   "source": [
    "#Приведем все варианты написания значений переменной \"образование\" к построчному (избавившись от заглавного) виду \n",
    "df['education'] = df['education'].str.lower()\n",
    "#Посмотрим, какие категории заемщиков теперь здесь присутствуют \n",
    "df['education'].value_counts()"
   ]
  },
  {
   "cell_type": "markdown",
   "metadata": {},
   "source": [
    "<div class=\"alert alert-success\">Очень важный момент, молодец что заметил и исправил.</div>"
   ]
  },
  {
   "cell_type": "code",
   "execution_count": 374,
   "metadata": {},
   "outputs": [
    {
     "data": {
      "text/plain": [
       "женат / замужем          12380\n",
       "гражданский брак          4177\n",
       "не женат / не замужем     2813\n",
       "в разводе                 1195\n",
       "вдовец / вдова             960\n",
       "Name: family_status, dtype: int64"
      ]
     },
     "execution_count": 374,
     "metadata": {},
     "output_type": "execute_result"
    }
   ],
   "source": [
    "#Приведем все варианты написания значений переменной \"семейный статус\" к построчному (избавившись от заглавного) виду \n",
    "df['family_status'] = df['family_status'].str.lower()\n",
    "#Посмотрим, какие категории заемщиков теперь здесь присутствуют \n",
    "df['family_status'].value_counts()"
   ]
  },
  {
   "cell_type": "code",
   "execution_count": 375,
   "metadata": {},
   "outputs": [
    {
     "data": {
      "text/html": [
       "<div>\n",
       "<style scoped>\n",
       "    .dataframe tbody tr th:only-of-type {\n",
       "        vertical-align: middle;\n",
       "    }\n",
       "\n",
       "    .dataframe tbody tr th {\n",
       "        vertical-align: top;\n",
       "    }\n",
       "\n",
       "    .dataframe thead th {\n",
       "        text-align: right;\n",
       "    }\n",
       "</style>\n",
       "<table border=\"1\" class=\"dataframe\">\n",
       "  <thead>\n",
       "    <tr style=\"text-align: right;\">\n",
       "      <th></th>\n",
       "      <th>income_type</th>\n",
       "      <th>dob_years</th>\n",
       "    </tr>\n",
       "  </thead>\n",
       "  <tbody>\n",
       "    <tr>\n",
       "      <td>0</td>\n",
       "      <td>сотрудник</td>\n",
       "      <td>42</td>\n",
       "    </tr>\n",
       "    <tr>\n",
       "      <td>1</td>\n",
       "      <td>сотрудник</td>\n",
       "      <td>36</td>\n",
       "    </tr>\n",
       "    <tr>\n",
       "      <td>2</td>\n",
       "      <td>сотрудник</td>\n",
       "      <td>33</td>\n",
       "    </tr>\n",
       "    <tr>\n",
       "      <td>3</td>\n",
       "      <td>сотрудник</td>\n",
       "      <td>32</td>\n",
       "    </tr>\n",
       "    <tr>\n",
       "      <td>4</td>\n",
       "      <td>пенсионер</td>\n",
       "      <td>53</td>\n",
       "    </tr>\n",
       "    <tr>\n",
       "      <td>5</td>\n",
       "      <td>компаньон</td>\n",
       "      <td>27</td>\n",
       "    </tr>\n",
       "    <tr>\n",
       "      <td>6</td>\n",
       "      <td>компаньон</td>\n",
       "      <td>43</td>\n",
       "    </tr>\n",
       "    <tr>\n",
       "      <td>7</td>\n",
       "      <td>сотрудник</td>\n",
       "      <td>50</td>\n",
       "    </tr>\n",
       "    <tr>\n",
       "      <td>8</td>\n",
       "      <td>сотрудник</td>\n",
       "      <td>35</td>\n",
       "    </tr>\n",
       "    <tr>\n",
       "      <td>9</td>\n",
       "      <td>сотрудник</td>\n",
       "      <td>41</td>\n",
       "    </tr>\n",
       "  </tbody>\n",
       "</table>\n",
       "</div>"
      ],
      "text/plain": [
       "  income_type  dob_years\n",
       "0   сотрудник         42\n",
       "1   сотрудник         36\n",
       "2   сотрудник         33\n",
       "3   сотрудник         32\n",
       "4   пенсионер         53\n",
       "5   компаньон         27\n",
       "6   компаньон         43\n",
       "7   сотрудник         50\n",
       "8   сотрудник         35\n",
       "9   сотрудник         41"
      ]
     },
     "execution_count": 375,
     "metadata": {},
     "output_type": "execute_result"
    }
   ],
   "source": [
    "#Обратимся к переменной \"возраст заемщика\": заменим дублированные 0 в значении переменной с помощью средних значений последней, \n",
    "#категоризированных по \"типу занятости\"\n",
    "#1.Построим сводную таблицу средних значений возраста заемщиков, сгруппированную по \"типу занятости\" и сохраним ее в переменную\n",
    "new_m_table = df.groupby(['income_type']).agg({'dob_years': 'mean'})\n",
    "#2.Округлим значение \"среднего возраста\" до целого и переведем ее в тип integer для того, чтобы транспанировать ее значения на нули исходной таблицы\n",
    "new_m_table['dob_years'] = new_m_table.dob_years.round().astype('int64')\n",
    "#3.Напишем цикл, который пробегается по всем значениям переменной \"тип занятости\" \n",
    "#и заменяет ее значениями (переменных средних \"возраст заещька\" все 0 в исходной таблице (переменной \"dob_years\")\n",
    "for income_type in new_m_table.index:\n",
    "    m = new_m_table.loc[income_type, 'dob_years']\n",
    "    df.loc[df['income_type'] == income_type, 'dob_years'] = df.loc[df['income_type'] == income_type, 'dob_years'].replace(0, m)\n",
    "#Выведем первые 10 строк двух нужных столбцов таблицы\n",
    "df[['income_type', 'dob_years']].head(10)\n"
   ]
  },
  {
   "cell_type": "code",
   "execution_count": 376,
   "metadata": {},
   "outputs": [
    {
     "data": {
      "text/plain": [
       "Series([], Name: dob_years, dtype: int64)"
      ]
     },
     "execution_count": 376,
     "metadata": {},
     "output_type": "execute_result"
    }
   ],
   "source": [
    "#Проверим наличие нулей в нужном столбце исходной таблицы \n",
    "df['dob_years'].loc[df['dob_years'] == 0]"
   ]
  },
  {
   "cell_type": "markdown",
   "metadata": {},
   "source": [
    "    Обратимся к переменной \"количество детей\". Как уже было указано в описательной части проекта, в 76 случаев количество детей составляет критически высокое число \"20\", в разрезе других категориальных значений (от 1 до 5). Сначала обратимся к структуре данных в срезе конкретного экстремума для того (совместной встречаемости с другими значениями переменных), чтобы удостовериться в том, что это - ошибка. Далее заменим это значение на наиболее релевантное."
   ]
  },
  {
   "cell_type": "code",
   "execution_count": 377,
   "metadata": {},
   "outputs": [
    {
     "data": {
      "text/plain": [
       "(9, 12)"
      ]
     },
     "execution_count": 377,
     "metadata": {},
     "output_type": "execute_result"
    }
   ],
   "source": [
    "#Проверим, сколько в среднем детей у заемщиков по всем категориям без 20: 0,5 \n",
    "df.children.describe()\n",
    "\n",
    "#Первые 5 строк вывода демонстрируют, что 20 детей присвоено категориям от 21 года\n",
    "df.children.head(5)\n",
    "#В 10 случаях по двум другим столбцам с отсутствующими значениями - совпадения.\n",
    "df[(df['days_employed'] == 1000000) & (df['children'] == 20)].shape"
   ]
  },
  {
   "cell_type": "code",
   "execution_count": 378,
   "metadata": {},
   "outputs": [],
   "source": [
    "#Применим метод замены значения в строках replace\n",
    "df['children'] = df['children'].replace(20, 2)"
   ]
  },
  {
   "cell_type": "code",
   "execution_count": 379,
   "metadata": {},
   "outputs": [
    {
     "data": {
      "text/plain": [
       "0    14149\n",
       "1     4865\n",
       "2     2131\n",
       "3      330\n",
       "4       41\n",
       "5        9\n",
       "Name: children, dtype: int64"
      ]
     },
     "execution_count": 379,
     "metadata": {},
     "output_type": "execute_result"
    }
   ],
   "source": [
    "#Посмотрим, как распределилось \"количество детей\" \n",
    "df['children'].value_counts()"
   ]
  },
  {
   "cell_type": "markdown",
   "metadata": {},
   "source": [
    "    Приступим к удалению дубликатов. Определим количество и удолим повторяющиеся строки. NB! Прежде, чем это сделать, необходимо отметить, что результат поиска количества дубликатов в данных не позволяет  методом duplicated().sum() окончательно убедиться в \"дублирующей\" составляющей строк: нам действительно не хватает ID или паспортных данных, чтобы однозначно утверждать дубль строка или нет. Однако, совпадение значений по значениям представленных в датафрейме переменным будем считать достаточным основанием для того, чтобы считать последние в качестве дублей. "
   ]
  },
  {
   "cell_type": "code",
   "execution_count": 380,
   "metadata": {},
   "outputs": [
    {
     "data": {
      "text/plain": [
       "71"
      ]
     },
     "execution_count": 380,
     "metadata": {},
     "output_type": "execute_result"
    }
   ],
   "source": [
    "#Проверим количество дубликатов в датафрейме: 71\n",
    "df.duplicated().sum()"
   ]
  },
  {
   "cell_type": "code",
   "execution_count": 381,
   "metadata": {},
   "outputs": [
    {
     "data": {
      "text/plain": [
       "0"
      ]
     },
     "execution_count": 381,
     "metadata": {},
     "output_type": "execute_result"
    }
   ],
   "source": [
    "#удалим дубликаты методом, релевантным для строк, drop_duplicates(), применим функцию reset_index с аргументом (drop = True)\n",
    "#для того, чтобы унифицировать порядок индексов нового датафрейма,\n",
    "#сохраним результат удаления в текущий датафрейм\n",
    "df = df.drop_duplicates().reset_index(drop = True)\n",
    "#проверим наличие дубликатов\n",
    "df.duplicated().sum()"
   ]
  },
  {
   "cell_type": "markdown",
   "metadata": {},
   "source": [
    "### Вывод"
   ]
  },
  {
   "cell_type": "markdown",
   "metadata": {},
   "source": [
    "    В данный раздел анализа мы отнесли как разведовательный анализ поиска и удаления ошибок в данных, дублирующих строки и регистры данных, а также увеличивающих те разделы данных, которые являются по своей природе тавтологичными или относящиеся к одной и той же категории - так и поиск и удаление непосредственных дубликатов (которые мы получили на первом этапе).\n",
    "    Итак.\n",
    "    Во-первых, мы унифицировали все варианты записи значений строковых переменных (с заглавной, на прописную) с помощью алгоритма приведения к нижнему регистру str.lower в переменных \"образование\" и \"семейный статус\". В переменной \"образование\" это привело к тому, что разные написания одного и того же образования свелись к единым категориям, число которых уменьшилось в 3 раза (с 15 до 5). Ошибка записи: человеческий фактор записи данных)\n",
    "    Во-вторых, мы обратились к категории \"возраст заемщика\", заменив 101 значения 0 в этой переменной на средние значения этой переменной для каждой категории переменной \"тип занятости\". Аппроксимация по \"типу занятости\" дублированных / ошибочных значений \"возраста заемщика\" объясняется следующим образом: 1. Это позволяет избежать ошибки последующей категоризации (\"40 летний пенсионер\"), что было бы возможно в случае группировки по другим переменным. 2. Сама по себе переменная \"тип занятости\" довольно хорошо насыщена (равномерно представлена, взвешана относительно количества заемщиков), внутри своих подкатегорий переменная хорошо представлена по поло-возрастным характеристикам). Все это позволяет прогнозирование значение \"возраста\", в данном случае, посредством, довольно грубой аппроксимации. Отличие цикла в данном случае, от предыдущего (на кейсе \"общий доход в месяц\") заключается в том, что вместо метода fillna() с аргументом необходимо значения для замены пропусков, применяется метод replace(first name, second name). \n",
    "    В-третьих, по аналогии была выполнена замена переменной \"дети\" - 20 на 2, тем самым, категоризация (сократилась с 8 до 6 - с учетом устранения -1 в предыдущем разделе), в то время, как субкатегория 2 увеличилась на 76 и составила 231.\n",
    "    В-четвертых, было установлено количество всех дубликатов (по результатам обработки данных) - 71. Был выбран метод удаления дубликатов со сбросом индексов. \n",
    "    Возможные причины появления дубликатов: если (без учета ID / паспортных данных) предположить, что в действительности дублированные строки на самом деле принадлежат одному и тому же заемщику, то следует предположить, что причиной послужила ошибка в предобработки - ввода данных. Ошибки, допущенные в транслитерации и неверных значения - человеческий фактор обработки информации (анкет) заемщиков.\n"
   ]
  },
  {
   "cell_type": "markdown",
   "metadata": {},
   "source": [
    "<div class=\"alert alert-success\">Очень верное последовательное удаление дубликатов. Сначала нужно преобразовать данные, привести их впорядок, количественные данные привести к верным типам, привести к одному регистру качественные и только потом удалять дубликаты. Очередной респект!</div>"
   ]
  },
  {
   "cell_type": "markdown",
   "metadata": {},
   "source": [
    "### Лемматизация"
   ]
  },
  {
   "cell_type": "markdown",
   "metadata": {},
   "source": [
    "    Приступим к лемматизации - приведению слов к словарной форме - подготовительному этапу категоризации данных: целей кридитов (микро-нарративов) заемщиков.  \n",
    "    Есть два варианта лемматизации (косвенный и прямой). 1. Косвенный - создание отдельной таблицы-словаря с уникальными формулировками целей оформления кредита с последующей реализацией функции, которая на вход принимает строковое значение, получает список лемм, и далее чере условный оператор if/elif проверяет вхождение лемм в этот список (в случае вхождения - функция возвращает конкретное значение катекогрии. Данный метод связан с последующим склеиванием словаря методом merge (left-join) с исходной таблицей по общему столцу purpose. 2. Прямой - способ \"напрямую\" пробежаться по столбцу исходного датафрейма (цели) и скатегоризировать с помощью функции новый столбец (без создания словаря и его склеивания). Преимущество \"Косвенного\" способа: с точки зрения хранения данных в оперативке мы чуть-чуть выиграем, а вот с точки зрения процессорного времени мы проиграеммы. Создаем словарик и прогоняем функцию lemmatize() 38 раз. Сам словарик весит килобайты. Когда мы считаем \"напрямую\", мы не создаем табличку на несколько килобайт, но при этом мы вызываем функцию lemmatize() больше 20 тысяч раз (кол-во строк в датасете).\n",
    "    Цель: Сведение всех вариантов написания цели кредита в унифицированную категорию. В итоге у нас должно получиться несколько больших категорий\n",
    "    Приступим к лемматизации через создание словаря."
   ]
  },
  {
   "cell_type": "code",
   "execution_count": 382,
   "metadata": {},
   "outputs": [
    {
     "data": {
      "text/html": [
       "<div>\n",
       "<style scoped>\n",
       "    .dataframe tbody tr th:only-of-type {\n",
       "        vertical-align: middle;\n",
       "    }\n",
       "\n",
       "    .dataframe tbody tr th {\n",
       "        vertical-align: top;\n",
       "    }\n",
       "\n",
       "    .dataframe thead th {\n",
       "        text-align: right;\n",
       "    }\n",
       "</style>\n",
       "<table border=\"1\" class=\"dataframe\">\n",
       "  <thead>\n",
       "    <tr style=\"text-align: right;\">\n",
       "      <th></th>\n",
       "      <th>purpose</th>\n",
       "    </tr>\n",
       "  </thead>\n",
       "  <tbody>\n",
       "    <tr>\n",
       "      <td>0</td>\n",
       "      <td>покупка жилья</td>\n",
       "    </tr>\n",
       "    <tr>\n",
       "      <td>1</td>\n",
       "      <td>приобретение автомобиля</td>\n",
       "    </tr>\n",
       "    <tr>\n",
       "      <td>2</td>\n",
       "      <td>дополнительное образование</td>\n",
       "    </tr>\n",
       "    <tr>\n",
       "      <td>3</td>\n",
       "      <td>сыграть свадьбу</td>\n",
       "    </tr>\n",
       "    <tr>\n",
       "      <td>4</td>\n",
       "      <td>операции с жильем</td>\n",
       "    </tr>\n",
       "    <tr>\n",
       "      <td>5</td>\n",
       "      <td>образование</td>\n",
       "    </tr>\n",
       "    <tr>\n",
       "      <td>6</td>\n",
       "      <td>на проведение свадьбы</td>\n",
       "    </tr>\n",
       "    <tr>\n",
       "      <td>7</td>\n",
       "      <td>покупка жилья для семьи</td>\n",
       "    </tr>\n",
       "    <tr>\n",
       "      <td>8</td>\n",
       "      <td>покупка недвижимости</td>\n",
       "    </tr>\n",
       "    <tr>\n",
       "      <td>9</td>\n",
       "      <td>покупка коммерческой недвижимости</td>\n",
       "    </tr>\n",
       "    <tr>\n",
       "      <td>10</td>\n",
       "      <td>покупка жилой недвижимости</td>\n",
       "    </tr>\n",
       "    <tr>\n",
       "      <td>11</td>\n",
       "      <td>строительство собственной недвижимости</td>\n",
       "    </tr>\n",
       "    <tr>\n",
       "      <td>12</td>\n",
       "      <td>недвижимость</td>\n",
       "    </tr>\n",
       "    <tr>\n",
       "      <td>13</td>\n",
       "      <td>строительство недвижимости</td>\n",
       "    </tr>\n",
       "    <tr>\n",
       "      <td>14</td>\n",
       "      <td>на покупку подержанного автомобиля</td>\n",
       "    </tr>\n",
       "    <tr>\n",
       "      <td>15</td>\n",
       "      <td>на покупку своего автомобиля</td>\n",
       "    </tr>\n",
       "    <tr>\n",
       "      <td>16</td>\n",
       "      <td>операции с коммерческой недвижимостью</td>\n",
       "    </tr>\n",
       "    <tr>\n",
       "      <td>17</td>\n",
       "      <td>строительство жилой недвижимости</td>\n",
       "    </tr>\n",
       "    <tr>\n",
       "      <td>18</td>\n",
       "      <td>жилье</td>\n",
       "    </tr>\n",
       "    <tr>\n",
       "      <td>19</td>\n",
       "      <td>операции со своей недвижимостью</td>\n",
       "    </tr>\n",
       "    <tr>\n",
       "      <td>20</td>\n",
       "      <td>автомобили</td>\n",
       "    </tr>\n",
       "    <tr>\n",
       "      <td>21</td>\n",
       "      <td>заняться образованием</td>\n",
       "    </tr>\n",
       "    <tr>\n",
       "      <td>22</td>\n",
       "      <td>сделка с подержанным автомобилем</td>\n",
       "    </tr>\n",
       "    <tr>\n",
       "      <td>23</td>\n",
       "      <td>получение образования</td>\n",
       "    </tr>\n",
       "    <tr>\n",
       "      <td>24</td>\n",
       "      <td>автомобиль</td>\n",
       "    </tr>\n",
       "    <tr>\n",
       "      <td>25</td>\n",
       "      <td>свадьба</td>\n",
       "    </tr>\n",
       "    <tr>\n",
       "      <td>26</td>\n",
       "      <td>получение дополнительного образования</td>\n",
       "    </tr>\n",
       "    <tr>\n",
       "      <td>27</td>\n",
       "      <td>покупка своего жилья</td>\n",
       "    </tr>\n",
       "    <tr>\n",
       "      <td>28</td>\n",
       "      <td>операции с недвижимостью</td>\n",
       "    </tr>\n",
       "    <tr>\n",
       "      <td>29</td>\n",
       "      <td>получение высшего образования</td>\n",
       "    </tr>\n",
       "    <tr>\n",
       "      <td>30</td>\n",
       "      <td>свой автомобиль</td>\n",
       "    </tr>\n",
       "    <tr>\n",
       "      <td>31</td>\n",
       "      <td>сделка с автомобилем</td>\n",
       "    </tr>\n",
       "    <tr>\n",
       "      <td>32</td>\n",
       "      <td>профильное образование</td>\n",
       "    </tr>\n",
       "    <tr>\n",
       "      <td>33</td>\n",
       "      <td>высшее образование</td>\n",
       "    </tr>\n",
       "    <tr>\n",
       "      <td>34</td>\n",
       "      <td>покупка жилья для сдачи</td>\n",
       "    </tr>\n",
       "    <tr>\n",
       "      <td>35</td>\n",
       "      <td>на покупку автомобиля</td>\n",
       "    </tr>\n",
       "    <tr>\n",
       "      <td>36</td>\n",
       "      <td>ремонт жилью</td>\n",
       "    </tr>\n",
       "    <tr>\n",
       "      <td>37</td>\n",
       "      <td>заняться высшим образованием</td>\n",
       "    </tr>\n",
       "  </tbody>\n",
       "</table>\n",
       "</div>"
      ],
      "text/plain": [
       "                                   purpose\n",
       "0                            покупка жилья\n",
       "1                  приобретение автомобиля\n",
       "2               дополнительное образование\n",
       "3                          сыграть свадьбу\n",
       "4                        операции с жильем\n",
       "5                              образование\n",
       "6                    на проведение свадьбы\n",
       "7                  покупка жилья для семьи\n",
       "8                     покупка недвижимости\n",
       "9        покупка коммерческой недвижимости\n",
       "10              покупка жилой недвижимости\n",
       "11  строительство собственной недвижимости\n",
       "12                            недвижимость\n",
       "13              строительство недвижимости\n",
       "14      на покупку подержанного автомобиля\n",
       "15            на покупку своего автомобиля\n",
       "16   операции с коммерческой недвижимостью\n",
       "17        строительство жилой недвижимости\n",
       "18                                   жилье\n",
       "19         операции со своей недвижимостью\n",
       "20                              автомобили\n",
       "21                   заняться образованием\n",
       "22        сделка с подержанным автомобилем\n",
       "23                   получение образования\n",
       "24                              автомобиль\n",
       "25                                 свадьба\n",
       "26   получение дополнительного образования\n",
       "27                    покупка своего жилья\n",
       "28                операции с недвижимостью\n",
       "29           получение высшего образования\n",
       "30                         свой автомобиль\n",
       "31                    сделка с автомобилем\n",
       "32                  профильное образование\n",
       "33                      высшее образование\n",
       "34                 покупка жилья для сдачи\n",
       "35                   на покупку автомобиля\n",
       "36                            ремонт жилью\n",
       "37            заняться высшим образованием"
      ]
     },
     "execution_count": 382,
     "metadata": {},
     "output_type": "execute_result"
    }
   ],
   "source": [
    "#Создадим словарь из уникальных значений целей кредита\n",
    "slovarik = pd.DataFrame(data = df.purpose.unique(), columns = ['purpose'])\n",
    "slovarik  "
   ]
  },
  {
   "cell_type": "code",
   "execution_count": 385,
   "metadata": {},
   "outputs": [],
   "source": [
    "#В словаре нужно создать еще один столбец, где будет находиться итоговая категория. \n",
    "#Для этого нужна функция, которая проведет лемматизацию и в зависимости от наличия той или иной леммы вернет “категорию”\n",
    "def categorizer(row):\n",
    "    lem = m.lemmatize(row)\n",
    "    if 'свадьба' in lem:\n",
    "        return('свадьба')\n",
    "    elif (('недвижимость' in lem or 'жилье' in lem) and 'ремонт' not in lem):\n",
    "        return('реализация жилья/недвижимости')\n",
    "    elif (('недвижимость' in lem or 'жилье' in lem) and 'ремонт' in lem):\n",
    "        return('ремонт жилья/недвижимости')\n",
    "    elif 'образование' in lem:\n",
    "        return('образование')\n",
    "    elif 'автомобиль' in lem:\n",
    "        return('автомобиль')\n",
    "    else:\n",
    "        return('прочее')\n",
    "\n",
    "# Применим эту функцию с помощью apply к столбцу с целями кредита, \n",
    "#а результат запишем в новый столбец по которому планируется в дальнейшем группировка\n",
    "slovarik['categorizer'] = slovarik['purpose'].apply(categorizer)"
   ]
  },
  {
   "cell_type": "code",
   "execution_count": 386,
   "metadata": {},
   "outputs": [
    {
     "data": {
      "text/html": [
       "<div>\n",
       "<style scoped>\n",
       "    .dataframe tbody tr th:only-of-type {\n",
       "        vertical-align: middle;\n",
       "    }\n",
       "\n",
       "    .dataframe tbody tr th {\n",
       "        vertical-align: top;\n",
       "    }\n",
       "\n",
       "    .dataframe thead th {\n",
       "        text-align: right;\n",
       "    }\n",
       "</style>\n",
       "<table border=\"1\" class=\"dataframe\">\n",
       "  <thead>\n",
       "    <tr style=\"text-align: right;\">\n",
       "      <th></th>\n",
       "      <th>purpose</th>\n",
       "      <th>categorizer</th>\n",
       "    </tr>\n",
       "  </thead>\n",
       "  <tbody>\n",
       "    <tr>\n",
       "      <td>0</td>\n",
       "      <td>покупка жилья</td>\n",
       "      <td>реализация жилья/недвижимости</td>\n",
       "    </tr>\n",
       "    <tr>\n",
       "      <td>1</td>\n",
       "      <td>приобретение автомобиля</td>\n",
       "      <td>автомобиль</td>\n",
       "    </tr>\n",
       "    <tr>\n",
       "      <td>2</td>\n",
       "      <td>дополнительное образование</td>\n",
       "      <td>образование</td>\n",
       "    </tr>\n",
       "  </tbody>\n",
       "</table>\n",
       "</div>"
      ],
      "text/plain": [
       "                      purpose                    categorizer\n",
       "0               покупка жилья  реализация жилья/недвижимости\n",
       "1     приобретение автомобиля                     автомобиль\n",
       "2  дополнительное образование                    образование"
      ]
     },
     "execution_count": 386,
     "metadata": {},
     "output_type": "execute_result"
    }
   ],
   "source": [
    "#Проверим получившуюся таблицу\n",
    "slovarik.head(3)"
   ]
  },
  {
   "cell_type": "code",
   "execution_count": 387,
   "metadata": {},
   "outputs": [
    {
     "data": {
      "text/plain": [
       "реализация жилья/недвижимости    16\n",
       "образование                       9\n",
       "автомобиль                        9\n",
       "свадьба                           3\n",
       "ремонт жилья/недвижимости         1\n",
       "Name: categorizer, dtype: int64"
      ]
     },
     "execution_count": 387,
     "metadata": {},
     "output_type": "execute_result"
    }
   ],
   "source": [
    "#Проверим, какие цели охватил категоризатор \n",
    "slovarik.categorizer.value_counts()"
   ]
  },
  {
   "cell_type": "markdown",
   "metadata": {},
   "source": [
    "### Вывод"
   ]
  },
  {
   "cell_type": "markdown",
   "metadata": {},
   "source": [
    "Алгоритм нахождения лемм отработал успешно. В результате лемматизации все \"цели\" словарика были сведены к 5 не гомогенным категориям, самая большая из которых - реализация жилья/недвижимости, а самые маленькие - свадьба и ремонт жилья/недвижимости. Более подробно о причине и структуре подобной категоризации будет рассказано ниже, в разделе категоризации, когда леммы словаря будут применены к данным о целях займа кредита."
   ]
  },
  {
   "cell_type": "markdown",
   "metadata": {},
   "source": [
    "### Категоризация данных"
   ]
  },
  {
   "cell_type": "code",
   "execution_count": 388,
   "metadata": {},
   "outputs": [
    {
     "data": {
      "text/html": [
       "<div>\n",
       "<style scoped>\n",
       "    .dataframe tbody tr th:only-of-type {\n",
       "        vertical-align: middle;\n",
       "    }\n",
       "\n",
       "    .dataframe tbody tr th {\n",
       "        vertical-align: top;\n",
       "    }\n",
       "\n",
       "    .dataframe thead th {\n",
       "        text-align: right;\n",
       "    }\n",
       "</style>\n",
       "<table border=\"1\" class=\"dataframe\">\n",
       "  <thead>\n",
       "    <tr style=\"text-align: right;\">\n",
       "      <th></th>\n",
       "      <th>children</th>\n",
       "      <th>days_employed</th>\n",
       "      <th>dob_years</th>\n",
       "      <th>education</th>\n",
       "      <th>education_id</th>\n",
       "      <th>family_status</th>\n",
       "      <th>family_status_id</th>\n",
       "      <th>gender</th>\n",
       "      <th>income_type</th>\n",
       "      <th>debt</th>\n",
       "      <th>total_income</th>\n",
       "      <th>purpose</th>\n",
       "      <th>categorizer</th>\n",
       "    </tr>\n",
       "  </thead>\n",
       "  <tbody>\n",
       "    <tr>\n",
       "      <td>0</td>\n",
       "      <td>1</td>\n",
       "      <td>-8438</td>\n",
       "      <td>42</td>\n",
       "      <td>высшее</td>\n",
       "      <td>0</td>\n",
       "      <td>женат / замужем</td>\n",
       "      <td>0</td>\n",
       "      <td>F</td>\n",
       "      <td>сотрудник</td>\n",
       "      <td>0</td>\n",
       "      <td>253876</td>\n",
       "      <td>покупка жилья</td>\n",
       "      <td>реализация жилья/недвижимости</td>\n",
       "    </tr>\n",
       "    <tr>\n",
       "      <td>1</td>\n",
       "      <td>0</td>\n",
       "      <td>-5623</td>\n",
       "      <td>33</td>\n",
       "      <td>среднее</td>\n",
       "      <td>1</td>\n",
       "      <td>женат / замужем</td>\n",
       "      <td>0</td>\n",
       "      <td>M</td>\n",
       "      <td>сотрудник</td>\n",
       "      <td>0</td>\n",
       "      <td>145886</td>\n",
       "      <td>покупка жилья</td>\n",
       "      <td>реализация жилья/недвижимости</td>\n",
       "    </tr>\n",
       "    <tr>\n",
       "      <td>2</td>\n",
       "      <td>0</td>\n",
       "      <td>-926</td>\n",
       "      <td>27</td>\n",
       "      <td>высшее</td>\n",
       "      <td>0</td>\n",
       "      <td>гражданский брак</td>\n",
       "      <td>1</td>\n",
       "      <td>M</td>\n",
       "      <td>компаньон</td>\n",
       "      <td>0</td>\n",
       "      <td>255764</td>\n",
       "      <td>покупка жилья</td>\n",
       "      <td>реализация жилья/недвижимости</td>\n",
       "    </tr>\n",
       "    <tr>\n",
       "      <td>3</td>\n",
       "      <td>0</td>\n",
       "      <td>-1549</td>\n",
       "      <td>48</td>\n",
       "      <td>среднее</td>\n",
       "      <td>1</td>\n",
       "      <td>женат / замужем</td>\n",
       "      <td>0</td>\n",
       "      <td>F</td>\n",
       "      <td>компаньон</td>\n",
       "      <td>0</td>\n",
       "      <td>157246</td>\n",
       "      <td>покупка жилья</td>\n",
       "      <td>реализация жилья/недвижимости</td>\n",
       "    </tr>\n",
       "    <tr>\n",
       "      <td>4</td>\n",
       "      <td>0</td>\n",
       "      <td>-414</td>\n",
       "      <td>41</td>\n",
       "      <td>среднее</td>\n",
       "      <td>1</td>\n",
       "      <td>женат / замужем</td>\n",
       "      <td>0</td>\n",
       "      <td>M</td>\n",
       "      <td>госслужащий</td>\n",
       "      <td>0</td>\n",
       "      <td>118552</td>\n",
       "      <td>покупка жилья</td>\n",
       "      <td>реализация жилья/недвижимости</td>\n",
       "    </tr>\n",
       "  </tbody>\n",
       "</table>\n",
       "</div>"
      ],
      "text/plain": [
       "   children  days_employed  dob_years education  education_id  \\\n",
       "0         1          -8438         42    высшее             0   \n",
       "1         0          -5623         33   среднее             1   \n",
       "2         0           -926         27    высшее             0   \n",
       "3         0          -1549         48   среднее             1   \n",
       "4         0           -414         41   среднее             1   \n",
       "\n",
       "      family_status  family_status_id gender  income_type  debt  total_income  \\\n",
       "0   женат / замужем                 0      F    сотрудник     0        253876   \n",
       "1   женат / замужем                 0      M    сотрудник     0        145886   \n",
       "2  гражданский брак                 1      M    компаньон     0        255764   \n",
       "3   женат / замужем                 0      F    компаньон     0        157246   \n",
       "4   женат / замужем                 0      M  госслужащий     0        118552   \n",
       "\n",
       "         purpose                    categorizer  \n",
       "0  покупка жилья  реализация жилья/недвижимости  \n",
       "1  покупка жилья  реализация жилья/недвижимости  \n",
       "2  покупка жилья  реализация жилья/недвижимости  \n",
       "3  покупка жилья  реализация жилья/недвижимости  \n",
       "4  покупка жилья  реализация жилья/недвижимости  "
      ]
     },
     "execution_count": 388,
     "metadata": {},
     "output_type": "execute_result"
    }
   ],
   "source": [
    "# C помощью метода merge  склеим исходную табличку и полученный словарь уникальных значений \"цель\" с леммами. Общий столбец у нас purpose.  \n",
    "#В словаре в этом столбце лежат уникальные цели. \n",
    "#Для каждого значения purpose в исходной табличке будет искаться соответствие в правой и при совпадении приклеиваться.\n",
    "#Релевентный метод merge (left-join)\n",
    "df_analysed = pd.merge(left = df, right = slovarik, on = 'purpose')\n",
    "df_analysed.head(5)"
   ]
  },
  {
   "cell_type": "code",
   "execution_count": 389,
   "metadata": {
    "scrolled": true
   },
   "outputs": [
    {
     "data": {
      "text/plain": [
       "реализация жилья/недвижимости    10204\n",
       "автомобиль                        4306\n",
       "образование                       4013\n",
       "свадьба                           2324\n",
       "ремонт жилья/недвижимости          607\n",
       "Name: categorizer, dtype: int64"
      ]
     },
     "execution_count": 389,
     "metadata": {},
     "output_type": "execute_result"
    }
   ],
   "source": [
    "#Проверим, как рсапределились выделенные нами леммы по составу\n",
    "df_analysed.categorizer.value_counts()"
   ]
  },
  {
   "cell_type": "markdown",
   "metadata": {},
   "source": [
    "### Вывод"
   ]
  },
  {
   "cell_type": "markdown",
   "metadata": {},
   "source": [
    "        В результате лемматизации из словаря уникальных значений целей кредитного займа (37 целей) были выделены 5 опперационализированных категорий - лемм:  1) реализация жилья/недвижимости, 2) автомобиль, 3) образование, 4) свадьба, 5) ремонт жилья/недвижимости. Под обобщенной целью мы подразумевали сведение всех вариантов написания конкретной цели кредита к простой категории (лемме) - например, \"покупка автомобиля\" - \"автомобиль\". В итоге у нас должно было получиться несколько больших категорий. \n",
    "        Однако, 1. Исходя из семантики целей, было принято решение разделить по наличию леммы \"ремонт\" / не \"ремонт\" в операциях с жильем - для того, чтобы внести сложность в взвешивание каждой из целей в процессе анализа влияния последних на \"возврат кредита\". Таким образом, была реализована дехотомия: реализация (покупка, операции, строительство) - ремонт(ремонт) жилья. 2. Принимая во внимание принцип унификации целей - увеличения объема категорий с целью дальнейшего анализа доли возврата кредита в срок - было принято решение объединить цели, связанные с жилой и коммерческой недвижимостью. Принципы конкретного разделения: а) и коммерческая и жилая собственность представлена заемщиками в перспективе - финансовых сделок (например, не представлена категория \"ремонт коммерческой недвижимости), б) субстанционально (ремонт и покупка недвижимости) представлены в виде принципиально (или несоизмеримо) разного тела и (в теории) условий займа(кредита), что гепотетически может влиять на индекс \"возврата\" - гашения суммы долга в рамках институциональных правил игры. 3. \n",
    "        Остальные три категории были опперационализированы по принципу непосредственной семантической близости отобранным уникальным целям (например, в целях, связанных с автомобилем не были указаны ремонтные работы). Мы принимаем во внимание тот факт, что \"образование\" в перспективе кредитного займа - категория весьма деверсифицированная: получение профильного / основного / высшего (по сумме и условиям гашения кредита) может сильно отличаться от получения дополнительного. Между тем, располагаемые данные заставляют действовать в направлении соблюдения принципа баланса между насыщенностью и общностью категорий. \n",
    "        Результат распределения категорий (представленности) среди заемщиков, выполненный методом value_counts(), позволяет выделить саму насыщенную категорию (\"реализация жилья/недвижимости\") и наименее насыщенную (\"ремонт жилья/недвижимости\"), три остальные распределены условно равномерно. Неравномерность распределения (смещенность выборки) может оказать влияние на долю \"возврата кредита\". Однако, учитывая относительно невысокий объем последний и принимая во внимание довольно низкую общую долю невозврата кредита (на уровне 8%), смещение в распределении может теоретически подчеркнуть разницу в различиях столь низкой категории. \n",
    "       "
   ]
  },
  {
   "cell_type": "markdown",
   "metadata": {},
   "source": [
    "<div class=\"alert alert-success\">\n",
    "Отличное преобразование целей кредита. Ты понимаешь что делает лемматизация и как ей пользоваться.\n",
    "</div>"
   ]
  },
  {
   "cell_type": "markdown",
   "metadata": {},
   "source": [
    "## Комментарий\n",
    "    Прежде, чем приступить к исследованию влияния социально-демографиеских и экономических факторов на режим возврата кредита, обратим внимание на следуюдщее количественное распределение среднего значения возврата кретида (0 - нет задолженности, 1 - наличие опыта задолженности)"
   ]
  },
  {
   "cell_type": "code",
   "execution_count": 390,
   "metadata": {},
   "outputs": [
    {
     "data": {
      "text/plain": [
       "19713"
      ]
     },
     "execution_count": 390,
     "metadata": {},
     "output_type": "execute_result"
    }
   ],
   "source": [
    "#Посчитаем количество заемщиков общей выборки, возврат кредита которых НЕ В СРОК ниже, чем В СРЕДНЕМ по выборке \n",
    "len(df_analysed[df['debt'] <= df['debt'].mean()])"
   ]
  },
  {
   "cell_type": "code",
   "execution_count": 391,
   "metadata": {},
   "outputs": [
    {
     "data": {
      "text/plain": [
       "1741"
      ]
     },
     "execution_count": 391,
     "metadata": {},
     "output_type": "execute_result"
    }
   ],
   "source": [
    "#Посчитаем количество заемщиков общей выборки, возврат кредита которых НЕ В СРОК выше, чем В СРЕДНЕМ по выборке\n",
    "len(df_analysed[df['debt'] > df['debt'].mean()])"
   ]
  },
  {
   "cell_type": "markdown",
   "metadata": {},
   "source": [
    "Таким образом, действительно, процент невозврата кредита в срока по всей выборке составляет 8.8%, что акутализирует детальную проработку субкатегорий тех переменных, которые мы проверяем на зависимость с зависимсой переменной."
   ]
  },
  {
   "cell_type": "markdown",
   "metadata": {},
   "source": [
    "### Шаг 3. Ответьте на вопросы"
   ]
  },
  {
   "cell_type": "markdown",
   "metadata": {},
   "source": [
    "- Есть ли зависимость между наличием детей и возвратом кредита в срок?"
   ]
  },
  {
   "cell_type": "markdown",
   "metadata": {},
   "source": [
    "Для того, чтобы ответить на этот вопрос, сгруппируем данные о количестве детей исходной таблицы с аггрегированными значениями среднего и количества переменной debt - информация о задолженности по кредиту (1 - да, 0 - нет)."
   ]
  },
  {
   "cell_type": "code",
   "execution_count": 392,
   "metadata": {},
   "outputs": [
    {
     "data": {
      "text/html": [
       "<div>\n",
       "<style scoped>\n",
       "    .dataframe tbody tr th:only-of-type {\n",
       "        vertical-align: middle;\n",
       "    }\n",
       "\n",
       "    .dataframe tbody tr th {\n",
       "        vertical-align: top;\n",
       "    }\n",
       "\n",
       "    .dataframe thead th {\n",
       "        text-align: right;\n",
       "    }\n",
       "</style>\n",
       "<table border=\"1\" class=\"dataframe\">\n",
       "  <thead>\n",
       "    <tr style=\"text-align: right;\">\n",
       "      <th></th>\n",
       "      <th>children</th>\n",
       "      <th>mean</th>\n",
       "      <th>count</th>\n",
       "    </tr>\n",
       "  </thead>\n",
       "  <tbody>\n",
       "    <tr>\n",
       "      <td>0</td>\n",
       "      <td>0</td>\n",
       "      <td>0.075438</td>\n",
       "      <td>14091</td>\n",
       "    </tr>\n",
       "    <tr>\n",
       "      <td>1</td>\n",
       "      <td>1</td>\n",
       "      <td>0.091658</td>\n",
       "      <td>4855</td>\n",
       "    </tr>\n",
       "    <tr>\n",
       "      <td>2</td>\n",
       "      <td>2</td>\n",
       "      <td>0.094925</td>\n",
       "      <td>2128</td>\n",
       "    </tr>\n",
       "    <tr>\n",
       "      <td>3</td>\n",
       "      <td>3</td>\n",
       "      <td>0.081818</td>\n",
       "      <td>330</td>\n",
       "    </tr>\n",
       "    <tr>\n",
       "      <td>4</td>\n",
       "      <td>4</td>\n",
       "      <td>0.097561</td>\n",
       "      <td>41</td>\n",
       "    </tr>\n",
       "    <tr>\n",
       "      <td>5</td>\n",
       "      <td>5</td>\n",
       "      <td>0.000000</td>\n",
       "      <td>9</td>\n",
       "    </tr>\n",
       "  </tbody>\n",
       "</table>\n",
       "</div>"
      ],
      "text/plain": [
       "   children      mean  count\n",
       "0         0  0.075438  14091\n",
       "1         1  0.091658   4855\n",
       "2         2  0.094925   2128\n",
       "3         3  0.081818    330\n",
       "4         4  0.097561     41\n",
       "5         5  0.000000      9"
      ]
     },
     "execution_count": 392,
     "metadata": {},
     "output_type": "execute_result"
    }
   ],
   "source": [
    "#Проведем группировку данных и сохраним результат в новую созданную переменную\n",
    "df_children_case = df.groupby('children')['debt'].agg(['mean','count']).reset_index()\n",
    "df_children_case "
   ]
  },
  {
   "cell_type": "markdown",
   "metadata": {},
   "source": [
    "    Для того, чтобы сделать основательный вывод о взаимосвязи между количеством детей и возвратом кредита в срок попробуем заемщиков с разным количеством детей по возрастным группам. Это должно раскрыть содержание полученных данный первичной группировки. "
   ]
  },
  {
   "cell_type": "code",
   "execution_count": 393,
   "metadata": {},
   "outputs": [],
   "source": [
    "#Выделим пять групп по насыщенности возрастных диапозонов \n",
    "df_y_qcut = pd.cut(df['dob_years'],5)"
   ]
  },
  {
   "cell_type": "code",
   "execution_count": 394,
   "metadata": {},
   "outputs": [],
   "source": [
    "#Создадим датафрейм с тремя колонками  - список возрастных диапозонов, переменная bedt, переменная children\n",
    "df_test_chil_old = pd.DataFrame({'years_old': df_y_qcut, 'debt': df.debt, 'children': df.children})\n"
   ]
  },
  {
   "cell_type": "code",
   "execution_count": 395,
   "metadata": {},
   "outputs": [
    {
     "data": {
      "text/html": [
       "<div>\n",
       "<style scoped>\n",
       "    .dataframe tbody tr th:only-of-type {\n",
       "        vertical-align: middle;\n",
       "    }\n",
       "\n",
       "    .dataframe tbody tr th {\n",
       "        vertical-align: top;\n",
       "    }\n",
       "\n",
       "    .dataframe thead th {\n",
       "        text-align: right;\n",
       "    }\n",
       "</style>\n",
       "<table border=\"1\" class=\"dataframe\">\n",
       "  <thead>\n",
       "    <tr style=\"text-align: right;\">\n",
       "      <th></th>\n",
       "      <th>years_old</th>\n",
       "      <th>children</th>\n",
       "      <th>mean</th>\n",
       "      <th>count</th>\n",
       "    </tr>\n",
       "  </thead>\n",
       "  <tbody>\n",
       "    <tr>\n",
       "      <td>16</td>\n",
       "      <td>(41.4, 52.6]</td>\n",
       "      <td>4</td>\n",
       "      <td>0.250000</td>\n",
       "      <td>8.0</td>\n",
       "    </tr>\n",
       "    <tr>\n",
       "      <td>4</td>\n",
       "      <td>(18.944, 30.2]</td>\n",
       "      <td>4</td>\n",
       "      <td>0.166667</td>\n",
       "      <td>6.0</td>\n",
       "    </tr>\n",
       "    <tr>\n",
       "      <td>2</td>\n",
       "      <td>(18.944, 30.2]</td>\n",
       "      <td>2</td>\n",
       "      <td>0.112583</td>\n",
       "      <td>453.0</td>\n",
       "    </tr>\n",
       "    <tr>\n",
       "      <td>0</td>\n",
       "      <td>(18.944, 30.2]</td>\n",
       "      <td>0</td>\n",
       "      <td>0.108989</td>\n",
       "      <td>2147.0</td>\n",
       "    </tr>\n",
       "    <tr>\n",
       "      <td>1</td>\n",
       "      <td>(18.944, 30.2]</td>\n",
       "      <td>1</td>\n",
       "      <td>0.107446</td>\n",
       "      <td>1061.0</td>\n",
       "    </tr>\n",
       "    <tr>\n",
       "      <td>7</td>\n",
       "      <td>(30.2, 41.4]</td>\n",
       "      <td>1</td>\n",
       "      <td>0.100699</td>\n",
       "      <td>2145.0</td>\n",
       "    </tr>\n",
       "    <tr>\n",
       "      <td>9</td>\n",
       "      <td>(30.2, 41.4]</td>\n",
       "      <td>3</td>\n",
       "      <td>0.098592</td>\n",
       "      <td>213.0</td>\n",
       "    </tr>\n",
       "    <tr>\n",
       "      <td>8</td>\n",
       "      <td>(30.2, 41.4]</td>\n",
       "      <td>2</td>\n",
       "      <td>0.093005</td>\n",
       "      <td>1258.0</td>\n",
       "    </tr>\n",
       "    <tr>\n",
       "      <td>6</td>\n",
       "      <td>(30.2, 41.4]</td>\n",
       "      <td>0</td>\n",
       "      <td>0.089234</td>\n",
       "      <td>2768.0</td>\n",
       "    </tr>\n",
       "    <tr>\n",
       "      <td>20</td>\n",
       "      <td>(52.6, 63.8]</td>\n",
       "      <td>2</td>\n",
       "      <td>0.085106</td>\n",
       "      <td>47.0</td>\n",
       "    </tr>\n",
       "    <tr>\n",
       "      <td>14</td>\n",
       "      <td>(41.4, 52.6]</td>\n",
       "      <td>2</td>\n",
       "      <td>0.081967</td>\n",
       "      <td>366.0</td>\n",
       "    </tr>\n",
       "    <tr>\n",
       "      <td>13</td>\n",
       "      <td>(41.4, 52.6]</td>\n",
       "      <td>1</td>\n",
       "      <td>0.074565</td>\n",
       "      <td>1207.0</td>\n",
       "    </tr>\n",
       "    <tr>\n",
       "      <td>12</td>\n",
       "      <td>(41.4, 52.6]</td>\n",
       "      <td>0</td>\n",
       "      <td>0.071302</td>\n",
       "      <td>3941.0</td>\n",
       "    </tr>\n",
       "    <tr>\n",
       "      <td>3</td>\n",
       "      <td>(18.944, 30.2]</td>\n",
       "      <td>3</td>\n",
       "      <td>0.060000</td>\n",
       "      <td>50.0</td>\n",
       "    </tr>\n",
       "    <tr>\n",
       "      <td>18</td>\n",
       "      <td>(52.6, 63.8]</td>\n",
       "      <td>0</td>\n",
       "      <td>0.058653</td>\n",
       "      <td>4143.0</td>\n",
       "    </tr>\n",
       "    <tr>\n",
       "      <td>19</td>\n",
       "      <td>(52.6, 63.8]</td>\n",
       "      <td>1</td>\n",
       "      <td>0.057441</td>\n",
       "      <td>383.0</td>\n",
       "    </tr>\n",
       "    <tr>\n",
       "      <td>24</td>\n",
       "      <td>(63.8, 75.0]</td>\n",
       "      <td>0</td>\n",
       "      <td>0.053114</td>\n",
       "      <td>1092.0</td>\n",
       "    </tr>\n",
       "    <tr>\n",
       "      <td>25</td>\n",
       "      <td>(63.8, 75.0]</td>\n",
       "      <td>1</td>\n",
       "      <td>0.050847</td>\n",
       "      <td>59.0</td>\n",
       "    </tr>\n",
       "    <tr>\n",
       "      <td>15</td>\n",
       "      <td>(41.4, 52.6]</td>\n",
       "      <td>3</td>\n",
       "      <td>0.048387</td>\n",
       "      <td>62.0</td>\n",
       "    </tr>\n",
       "    <tr>\n",
       "      <td>10</td>\n",
       "      <td>(30.2, 41.4]</td>\n",
       "      <td>4</td>\n",
       "      <td>0.037037</td>\n",
       "      <td>27.0</td>\n",
       "    </tr>\n",
       "    <tr>\n",
       "      <td>11</td>\n",
       "      <td>(30.2, 41.4]</td>\n",
       "      <td>5</td>\n",
       "      <td>0.000000</td>\n",
       "      <td>7.0</td>\n",
       "    </tr>\n",
       "    <tr>\n",
       "      <td>17</td>\n",
       "      <td>(41.4, 52.6]</td>\n",
       "      <td>5</td>\n",
       "      <td>0.000000</td>\n",
       "      <td>1.0</td>\n",
       "    </tr>\n",
       "    <tr>\n",
       "      <td>21</td>\n",
       "      <td>(52.6, 63.8]</td>\n",
       "      <td>3</td>\n",
       "      <td>0.000000</td>\n",
       "      <td>5.0</td>\n",
       "    </tr>\n",
       "    <tr>\n",
       "      <td>23</td>\n",
       "      <td>(52.6, 63.8]</td>\n",
       "      <td>5</td>\n",
       "      <td>0.000000</td>\n",
       "      <td>1.0</td>\n",
       "    </tr>\n",
       "    <tr>\n",
       "      <td>26</td>\n",
       "      <td>(63.8, 75.0]</td>\n",
       "      <td>2</td>\n",
       "      <td>0.000000</td>\n",
       "      <td>4.0</td>\n",
       "    </tr>\n",
       "    <tr>\n",
       "      <td>5</td>\n",
       "      <td>(18.944, 30.2]</td>\n",
       "      <td>5</td>\n",
       "      <td>NaN</td>\n",
       "      <td>NaN</td>\n",
       "    </tr>\n",
       "    <tr>\n",
       "      <td>22</td>\n",
       "      <td>(52.6, 63.8]</td>\n",
       "      <td>4</td>\n",
       "      <td>NaN</td>\n",
       "      <td>NaN</td>\n",
       "    </tr>\n",
       "    <tr>\n",
       "      <td>27</td>\n",
       "      <td>(63.8, 75.0]</td>\n",
       "      <td>3</td>\n",
       "      <td>NaN</td>\n",
       "      <td>NaN</td>\n",
       "    </tr>\n",
       "    <tr>\n",
       "      <td>28</td>\n",
       "      <td>(63.8, 75.0]</td>\n",
       "      <td>4</td>\n",
       "      <td>NaN</td>\n",
       "      <td>NaN</td>\n",
       "    </tr>\n",
       "    <tr>\n",
       "      <td>29</td>\n",
       "      <td>(63.8, 75.0]</td>\n",
       "      <td>5</td>\n",
       "      <td>NaN</td>\n",
       "      <td>NaN</td>\n",
       "    </tr>\n",
       "  </tbody>\n",
       "</table>\n",
       "</div>"
      ],
      "text/plain": [
       "         years_old  children      mean   count\n",
       "16    (41.4, 52.6]         4  0.250000     8.0\n",
       "4   (18.944, 30.2]         4  0.166667     6.0\n",
       "2   (18.944, 30.2]         2  0.112583   453.0\n",
       "0   (18.944, 30.2]         0  0.108989  2147.0\n",
       "1   (18.944, 30.2]         1  0.107446  1061.0\n",
       "7     (30.2, 41.4]         1  0.100699  2145.0\n",
       "9     (30.2, 41.4]         3  0.098592   213.0\n",
       "8     (30.2, 41.4]         2  0.093005  1258.0\n",
       "6     (30.2, 41.4]         0  0.089234  2768.0\n",
       "20    (52.6, 63.8]         2  0.085106    47.0\n",
       "14    (41.4, 52.6]         2  0.081967   366.0\n",
       "13    (41.4, 52.6]         1  0.074565  1207.0\n",
       "12    (41.4, 52.6]         0  0.071302  3941.0\n",
       "3   (18.944, 30.2]         3  0.060000    50.0\n",
       "18    (52.6, 63.8]         0  0.058653  4143.0\n",
       "19    (52.6, 63.8]         1  0.057441   383.0\n",
       "24    (63.8, 75.0]         0  0.053114  1092.0\n",
       "25    (63.8, 75.0]         1  0.050847    59.0\n",
       "15    (41.4, 52.6]         3  0.048387    62.0\n",
       "10    (30.2, 41.4]         4  0.037037    27.0\n",
       "11    (30.2, 41.4]         5  0.000000     7.0\n",
       "17    (41.4, 52.6]         5  0.000000     1.0\n",
       "21    (52.6, 63.8]         3  0.000000     5.0\n",
       "23    (52.6, 63.8]         5  0.000000     1.0\n",
       "26    (63.8, 75.0]         2  0.000000     4.0\n",
       "5   (18.944, 30.2]         5       NaN     NaN\n",
       "22    (52.6, 63.8]         4       NaN     NaN\n",
       "27    (63.8, 75.0]         3       NaN     NaN\n",
       "28    (63.8, 75.0]         4       NaN     NaN\n",
       "29    (63.8, 75.0]         5       NaN     NaN"
      ]
     },
     "execution_count": 395,
     "metadata": {},
     "output_type": "execute_result"
    }
   ],
   "source": [
    "#Сгруппируем данные по возрастным диапозонам и средним , количеством переменной bebt\n",
    "df_test_chil_old.groupby(['years_old', 'children'])['debt'].agg(['mean', 'count']).reset_index().sort_values(by='mean', ascending=False)"
   ]
  },
  {
   "cell_type": "markdown",
   "metadata": {},
   "source": [
    "### Вывод"
   ]
  },
  {
   "cell_type": "markdown",
   "metadata": {},
   "source": [
    "        Результат сводной таблицы \"количества детей\" и \"возврата кредита в срок\", на первый взгляд, довольно контр-интуитивный. Наименьшая доля не возврата кредита среди заемщиков от 0 до 4 детей - у категории заемщиков, не имеющих детей (принимая во внимание то, что эта самая насыщенная категория среди обследуемых в этой перемнной - около 14 тысяч заемщиков. Из всех категорий наименьшим средним индекса невозврата кретита обладает категория заемщиков с 5 детьми - значения нулевые. Однако, эта же категория заемщиков наименее представлена в данных - всего 9 человек. При этом от 0 до 4 детей индекс повышается. \n",
    "        Неясность вносят также данные о самом высоком среднем показателе среди всех представленных категорий - у заемщиков с 4 детьми (почти 10% - что сильно выше среднего показателя по всей выборке)\n",
    "        Объяснить это можно следующим образом: с одной стороны, с ростом количества детей для заемщика открываются льготные условия кредитования (например, беспроцентный кредит), гасить кредит можно материнским капиталом - таким образом, уменьшая тело долга. С другой - с большим количеством детей для заемщика открывается перспектива займа более высокого объема займа. В ситуации наличии иждивенцев, расходы на потребительскую корзину увеличивается, в то время как на выплату кредита остается ресрусов меньше. Данная ситуация подогревается ростом риска \"холатного\" отношения к выплате кредита - семьи с детьми нельзя лешить жилья или кооптировать имущество (если оно у них единственное_ - таким образом, коллекторские службы им не грозят. \n",
    "        Любопытным возможным объяснием роста среднего задолженности в гашении кредита семьями (с увеличением детей) является следующее - на время рождения кредита в ряде банков семьям предоставляются кредитные каникулы. В данных, такиим образом, такие каникулы могут быть маркированы как \"задолженность по кредиту\" (что по смыслу носит смысл отсрочки). В этой же логике любопытно, что после завершения кредитных каникул, в данной ситуации, частым условиям банка является - возврат средств всей суммы задолженности за этот период - таким образом сумма возврата долга возрастает в разы и тело долго копится - такие семьи теоретически, не будучи злостными неплатильщиками, не способны вовремя выплатить ежемесячную сумму кредита.\n",
    "        Для того, чтобы сделать основательный вывод о взаимосвязи между количеством детей и возвратом кредита в срок - мы прибегнули к группировки данных заемщиков по наличию детей, возрасту и возврату кредита. О чем говорят данные?\n",
    "        Любопытно, что в первую пятрку категорий заемщиков попадают заемщики как без детей, так и с двумя и четырьмя детьми, 4 из 5 которых составляют заемщики в возрасте от 19 до 30 лет, то есть довольно молодые категории. В то же время, существенный крен в сторону заемщиков с 4-мя детьми, выясняется, обеспечивает не очень большая группа от 41 до 52, чей средний показатель невозврата кретита составляет 25%! Очевидно, это категория людей, у которых большое количество детей н еждевении и получить отстрочки в рамках национальной программы поддержки рождаемости они не могут. \n"
   ]
  },
  {
   "cell_type": "markdown",
   "metadata": {},
   "source": [
    "- Есть ли зависимость между семейным положением и возвратом кредита в срок?"
   ]
  },
  {
   "cell_type": "markdown",
   "metadata": {},
   "source": [
    "Для того, чтобы ответить на этот вопрос, сгруппируем данные о семейном статусе исходной таблицы с аггрегированными значениями среднего и количества переменной debt - информация о задолженности по кредиту (1 - да, 0 - нет)."
   ]
  },
  {
   "cell_type": "code",
   "execution_count": 396,
   "metadata": {},
   "outputs": [
    {
     "data": {
      "text/html": [
       "<div>\n",
       "<style scoped>\n",
       "    .dataframe tbody tr th:only-of-type {\n",
       "        vertical-align: middle;\n",
       "    }\n",
       "\n",
       "    .dataframe tbody tr th {\n",
       "        vertical-align: top;\n",
       "    }\n",
       "\n",
       "    .dataframe thead th {\n",
       "        text-align: right;\n",
       "    }\n",
       "</style>\n",
       "<table border=\"1\" class=\"dataframe\">\n",
       "  <thead>\n",
       "    <tr style=\"text-align: right;\">\n",
       "      <th></th>\n",
       "      <th>family_status</th>\n",
       "      <th>mean</th>\n",
       "      <th>count</th>\n",
       "    </tr>\n",
       "  </thead>\n",
       "  <tbody>\n",
       "    <tr>\n",
       "      <td>0</td>\n",
       "      <td>в разводе</td>\n",
       "      <td>0.071130</td>\n",
       "      <td>1195</td>\n",
       "    </tr>\n",
       "    <tr>\n",
       "      <td>1</td>\n",
       "      <td>вдовец / вдова</td>\n",
       "      <td>0.065693</td>\n",
       "      <td>959</td>\n",
       "    </tr>\n",
       "    <tr>\n",
       "      <td>2</td>\n",
       "      <td>гражданский брак</td>\n",
       "      <td>0.093471</td>\n",
       "      <td>4151</td>\n",
       "    </tr>\n",
       "    <tr>\n",
       "      <td>3</td>\n",
       "      <td>женат / замужем</td>\n",
       "      <td>0.075452</td>\n",
       "      <td>12339</td>\n",
       "    </tr>\n",
       "    <tr>\n",
       "      <td>4</td>\n",
       "      <td>не женат / не замужем</td>\n",
       "      <td>0.097509</td>\n",
       "      <td>2810</td>\n",
       "    </tr>\n",
       "  </tbody>\n",
       "</table>\n",
       "</div>"
      ],
      "text/plain": [
       "           family_status      mean  count\n",
       "0              в разводе  0.071130   1195\n",
       "1         вдовец / вдова  0.065693    959\n",
       "2       гражданский брак  0.093471   4151\n",
       "3        женат / замужем  0.075452  12339\n",
       "4  не женат / не замужем  0.097509   2810"
      ]
     },
     "execution_count": 396,
     "metadata": {},
     "output_type": "execute_result"
    }
   ],
   "source": [
    "#Проведем группировку данных и и сохраним результат в новую созданную переменную\n",
    "df_family_case = df.groupby('family_status')['debt'].agg(['mean','count']).reset_index()\n",
    "df_family_case"
   ]
  },
  {
   "cell_type": "markdown",
   "metadata": {},
   "source": [
    "### Вывод"
   ]
  },
  {
   "cell_type": "markdown",
   "metadata": {},
   "source": [
    "    В результате анализа сводной таблицы мы пришли к выводу, что семейное положение, очевидным образом, влияет на уровень вовзрата кредита в срок. \n",
    "    Самый низкий уровень невозврата у вдовствующих заемщиков, а также тех, кто в разводе и состоит в браке (показатель ниже среднего по всей выборке и варьируется от 6.5% до 7.5%). Что касаеца вдовствующих - то это объясняется тем, что большая часть из этих людей принадлежат высоковозрастной группе, либо в той или иной степени располагающие имуществом ушедшего из жизни члена семьи. Тех, кто в разводе и состоит в браке - объединяет наличие ресурсов одного из нынешний / бывших членов домохозяств (у матери - это элементы, квартира, в распространеном случае наличии детей, у семьи - зарплата супруги/супруга). \n",
    "    Самый же высокий показатель среднего значения невозврата кредита - у заемщиков, состоящих в гражданском браке и холостых. Такие заемщики, как правило, не обладают ресрусами уверенного вовлечения в институциональные отношения, гибче планируют жизнь, кредиты могут брать ситуативно.  \n"
   ]
  },
  {
   "cell_type": "markdown",
   "metadata": {},
   "source": [
    "    - Есть ли зависимость между уровнем дохода и возвратом кредита в срок?"
   ]
  },
  {
   "cell_type": "markdown",
   "metadata": {},
   "source": [
    "    Категория уровень дохода (или переменная \"общий доход в месяц\") вызывает наибольший интерес в рамках данного аналитического отчета ввиду своей невероятно высокой гетерогенности. В первом разделе знакомства с данными мы отметили, что размах значений этой категории варьируется от двух десятков тысяч рублей до нескольких миллионов - что позволило выдвинуть две гипотезы (1. фальсификации справок о располагаемом доходе, 2. данные представлены не в рублях). Результаты данного анализа повзолят выдвинуть первое подтверждение в пользу первой гипотезы, а также ответить на вопрос о взаимосвязи дохода и возврата кредита. \n",
    "\n",
    "    В рамках анализа представлен  анализ влияния переменной \"общий ежемесячный доход\" на возврат кредита с четом \"разбиения\" независимой переменной на подгруппы (с помощью метода qcut). "
   ]
  },
  {
   "cell_type": "code",
   "execution_count": 35,
   "metadata": {},
   "outputs": [
    {
     "data": {
      "text/plain": [
       "Text(0, 0.5, 'Количество заемщиков')"
      ]
     },
     "execution_count": 35,
     "metadata": {},
     "output_type": "execute_result"
    },
    {
     "data": {
      "image/png": "[encoded data removed]",
      "text/plain": [
       "<Figure size 432x288 with 1 Axes>"
      ]
     },
     "metadata": {
      "needs_background": "light"
     },
     "output_type": "display_data"
    }
   ],
   "source": [
    "#Для того, чтобы определить метод разбиения уровня дохода на диапозоны, построим график распределения переменной total_income\n",
    "#Убедимся, что распределение не нормальное - скошенное (среднее и медиана переменной сильно отличаются)\n",
    "ax = df.total_income.hist(bins=40, range=(18422.063, 1367629.2))\n",
    "plt.title('График распределения доходов заемщиков')\n",
    "ax.set_xlabel('Сумма дохода в месяц')\n",
    "ax.set_ylabel('Количество заемщиков')"
   ]
  },
  {
   "cell_type": "markdown",
   "metadata": {},
   "source": [
    "<div class=\"alert alert-success\">\n",
    "    <b>Успешно: </b>хорошие выводы на протяжении всей работы - это очень здорово что ты построил здесь график. Ниже дал рекоммендацию, которую нужно выполнить для сдачи проекта и желательно следовать ей в будущем.\n",
    "</div>"
   ]
  },
  {
   "cell_type": "markdown",
   "metadata": {},
   "source": [
    "<div class=\"alert alert-danger\">\n",
    "    <b>Нужно исправить: </b>при построение графиков, нужно указывать название осей и самого графика. Да, можно посмотреть на код и понять что это за график, но аналитик должен уметь правильно, красиво и легко доносить информацию до других людей. \n",
    "    \n",
    "Также считаю важным отметить, что при построении данного графика следует воспользоваться параметрами bins and range, которые помогут сделать график более информативным.\n",
    "    \n",
    "https://matplotlib.org/3.1.1/api/_as_gen/matplotlib.pyplot.hist.html\n",
    "</div>"
   ]
  },
  {
   "cell_type": "markdown",
   "metadata": {},
   "source": [
    "<font color='blue'>Ответ на комментарий.\n",
    "Я добавил в график название и подписи абсциссы и ординаты.\n",
    "Также добавил в график аргумент bins.\n",
    "Bins - если указано целое число, то оно определяет количество интервалов равной ширины всех ячеек (по умолчанию 10 ячеек). Я принял решение обозначить 40, хотя, за частую настраиваю 30. \n",
    "Range  - определяет минимальное и максимальное значение ширины ячеек, при этом значения выходящие за пределы диапазона игнорируются. Если range = None то границы определяются интервалом (a.min(), a.max()). В данном случае, экстремально высокие значения ежемесячного дохода, действительно, сильно смещает график распределения значений, такой график сильно проигрывает в интерпретации. Я принял решение построить график без 8 экстремально высоких показтелей дохода с минимальной насыщенностью (8 кейсов) - для улучшения интерпретации распределения (такое распределение также скошено влево). Хотя, конечно, на нормальность нужно проверять распределение той или иной переменной с помощью теста Шапиро_Уилка (отклонение нулевой гипотезы о нормальности распределения случайной велечины). Но иногда визуаализация распределения позволяет сделать предварительные выводы о распределении (Например, если распределение в целом унимодально и симметрично, то оно наверняка нормальное).\n",
    "Также я полагаю, что я не по совсем верным методом определил параметр range - здесь, наверное, нужно как-то сэплировать - в общем, нужен твой профессиональный совет, Глеб.\n",
    "\n",
    "***\n",
    "Распределения реальных данных крайне редко встречаются нормальными - это вообще не проблема для статистики. \n",
    "Например, если мы применим метод логарифмирования переменной \"ежемесечного дохода в месяц\", то мы получим адекватное распределение для применения статистических методов (t, f-тест и т.д.).\n",
    "Насколько я здесь мыслю правильно? \n",
    "Вот, например, результат логарифмирования в следующей строке. \n",
    "    \n",
    "***\n",
    "Еще раз спасибо за то, что уделил внимание моей работе, Глеб!\n",
    "С Уважением,\n",
    "Maxim Mandrik"
   ]
  },
  {
   "cell_type": "code",
   "execution_count": null,
   "metadata": {},
   "outputs": [],
   "source": [
    "#Логарифмируем "
   ]
  },
  {
   "cell_type": "code",
   "execution_count": 39,
   "metadata": {},
   "outputs": [
    {
     "data": {
      "text/plain": [
       "Text(0, 0.5, 'Количество заемщиков')"
      ]
     },
     "execution_count": 39,
     "metadata": {},
     "output_type": "execute_result"
    },
    {
     "data": {
      "image/png": "[encoded data removed]",
      "text/plain": [
       "<Figure size 432x288 with 1 Axes>"
      ]
     },
     "metadata": {
      "needs_background": "light"
     },
     "output_type": "display_data"
    }
   ],
   "source": [
    "ax = np.log(df.total_income).hist(bins=30)\n",
    "plt.title('График распределения доходов заемщиков')\n",
    "ax.set_xlabel('Сумма дохода в месяц')\n",
    "ax.set_ylabel('Количество заемщиков')"
   ]
  },
  {
   "cell_type": "code",
   "execution_count": 398,
   "metadata": {},
   "outputs": [
    {
     "data": {
      "text/plain": [
       "0        (214618.2, 2265604.0]\n",
       "1          (98538.6, 132135.2]\n",
       "2         (132135.2, 161335.8]\n",
       "3        (214618.2, 2265604.0]\n",
       "4         (132135.2, 161335.8]\n",
       "                 ...          \n",
       "21449    (214618.2, 2265604.0]\n",
       "21450     (132135.2, 161335.8]\n",
       "21451     (20666.999, 98538.6]\n",
       "21452    (214618.2, 2265604.0]\n",
       "21453     (20666.999, 98538.6]\n",
       "Name: total_income, Length: 21454, dtype: category\n",
       "Categories (5, interval[float64]): [(20666.999, 98538.6] < (98538.6, 132135.2] < (132135.2, 161335.8] < (161335.8, 214618.2] < (214618.2, 2265604.0]]"
      ]
     },
     "execution_count": 398,
     "metadata": {},
     "output_type": "execute_result"
    }
   ],
   "source": [
    "#Выбираем метод qcut (между процентилями и cut) - ввиду ненормальности распределения. Сохраняем серию результат в новую переменную.\n",
    "df_qcut_new = pd.qcut(df['total_income'],5)\n",
    "df_qcut_new"
   ]
  },
  {
   "cell_type": "code",
   "execution_count": 399,
   "metadata": {},
   "outputs": [],
   "source": [
    "#Создаем новый дата-фрейм, на основе которого будем проводить дальнейшую группировку\n",
    "df_q_test = pd.DataFrame({'income': df_qcut, 'debt': df.debt})"
   ]
  },
  {
   "cell_type": "code",
   "execution_count": 400,
   "metadata": {},
   "outputs": [
    {
     "data": {
      "text/html": [
       "<div>\n",
       "<style scoped>\n",
       "    .dataframe tbody tr th:only-of-type {\n",
       "        vertical-align: middle;\n",
       "    }\n",
       "\n",
       "    .dataframe tbody tr th {\n",
       "        vertical-align: top;\n",
       "    }\n",
       "\n",
       "    .dataframe thead th {\n",
       "        text-align: right;\n",
       "    }\n",
       "</style>\n",
       "<table border=\"1\" class=\"dataframe\">\n",
       "  <thead>\n",
       "    <tr style=\"text-align: right;\">\n",
       "      <th></th>\n",
       "      <th>income</th>\n",
       "      <th>mean</th>\n",
       "      <th>count</th>\n",
       "    </tr>\n",
       "  </thead>\n",
       "  <tbody>\n",
       "    <tr>\n",
       "      <td>0</td>\n",
       "      <td>(18422.063, 469654.4]</td>\n",
       "      <td>0.081495</td>\n",
       "      <td>21167</td>\n",
       "    </tr>\n",
       "    <tr>\n",
       "      <td>1</td>\n",
       "      <td>(469654.4, 918641.8]</td>\n",
       "      <td>0.054264</td>\n",
       "      <td>258</td>\n",
       "    </tr>\n",
       "    <tr>\n",
       "      <td>2</td>\n",
       "      <td>(918641.8, 1367629.2]</td>\n",
       "      <td>0.047619</td>\n",
       "      <td>21</td>\n",
       "    </tr>\n",
       "    <tr>\n",
       "      <td>3</td>\n",
       "      <td>(1367629.2, 1816616.6]</td>\n",
       "      <td>0.000000</td>\n",
       "      <td>6</td>\n",
       "    </tr>\n",
       "    <tr>\n",
       "      <td>4</td>\n",
       "      <td>(1816616.6, 2265604.0]</td>\n",
       "      <td>0.500000</td>\n",
       "      <td>2</td>\n",
       "    </tr>\n",
       "  </tbody>\n",
       "</table>\n",
       "</div>"
      ],
      "text/plain": [
       "                   income      mean  count\n",
       "0   (18422.063, 469654.4]  0.081495  21167\n",
       "1    (469654.4, 918641.8]  0.054264    258\n",
       "2   (918641.8, 1367629.2]  0.047619     21\n",
       "3  (1367629.2, 1816616.6]  0.000000      6\n",
       "4  (1816616.6, 2265604.0]  0.500000      2"
      ]
     },
     "execution_count": 400,
     "metadata": {},
     "output_type": "execute_result"
    }
   ],
   "source": [
    "#Выводим результат группировки с аггрегированными значения debt\n",
    "df_q_test.groupby('income')['debt'].agg(['mean', 'count']).reset_index()"
   ]
  },
  {
   "cell_type": "markdown",
   "metadata": {},
   "source": [
    "### Вывод"
   ]
  },
  {
   "cell_type": "markdown",
   "metadata": {},
   "source": [
    "    Реузультат группировки позволяет сделать следующие выводы:\n",
    "    1.С ростом располагаемого дохода в месяц у заемщиков значение среднего показателя невозврата кредита уменьшается (ровно как и экспоненциально уменьшается количество кейсов с определенным доходом)\n",
    "    2.Заемщики со сверхбольшими доходами (в районе 2-х млн. рублей) обладают критически высоким показателем невовзрата кредита в срок (50%). В данном диапозоне таких заемщиков - 2, это значит, что, по крайней мере, один из них является должником банку. Примечательно, что вместе с представителями другой экстремально высокой доходной группы (от 1.3 до 1.8 млн. рублей) эти заемщики составляют всего 8 человек (это 0.03% выборки - что крайне не велико даже если учесть часть заемщиков из предыдущей категории.\n",
    "    3.Таким образом, остается открытым вопрос о происхождении критически высоких сумм денежных доходов заемщиков. С одной стороны, некоторая часть из высокодоходных групп являются должниками, с другой, представители других высокодоходных групп имеют довольно низкий показатель невозврата кредита. Возможным предположением наличия в датасете заемщиков со сверхвысокими доходами является то, что среди заемщиков есть юридические лица. \n"
   ]
  },
  {
   "cell_type": "markdown",
   "metadata": {},
   "source": [
    "    - Как разные цели кредита влияют на его возврат в срок?"
   ]
  },
  {
   "cell_type": "markdown",
   "metadata": {},
   "source": [
    "    Для того, чтобы ответить на этот вопрос, сгруппируем данные с категоризацией лемм подготовленной в предыдущем разделе таблицы с аггрегированными значениями среднего и количества переменной debt - информация о задолженности по кредиту (1 - да, 0 - нет)."
   ]
  },
  {
   "cell_type": "code",
   "execution_count": 401,
   "metadata": {},
   "outputs": [
    {
     "data": {
      "text/html": [
       "<div>\n",
       "<style scoped>\n",
       "    .dataframe tbody tr th:only-of-type {\n",
       "        vertical-align: middle;\n",
       "    }\n",
       "\n",
       "    .dataframe tbody tr th {\n",
       "        vertical-align: top;\n",
       "    }\n",
       "\n",
       "    .dataframe thead th {\n",
       "        text-align: right;\n",
       "    }\n",
       "</style>\n",
       "<table border=\"1\" class=\"dataframe\">\n",
       "  <thead>\n",
       "    <tr style=\"text-align: right;\">\n",
       "      <th></th>\n",
       "      <th>categorizer</th>\n",
       "      <th>mean</th>\n",
       "      <th>count</th>\n",
       "    </tr>\n",
       "  </thead>\n",
       "  <tbody>\n",
       "    <tr>\n",
       "      <td>0</td>\n",
       "      <td>автомобиль</td>\n",
       "      <td>0.093590</td>\n",
       "      <td>4306</td>\n",
       "    </tr>\n",
       "    <tr>\n",
       "      <td>1</td>\n",
       "      <td>образование</td>\n",
       "      <td>0.092200</td>\n",
       "      <td>4013</td>\n",
       "    </tr>\n",
       "    <tr>\n",
       "      <td>2</td>\n",
       "      <td>реализация жилья/недвижимости</td>\n",
       "      <td>0.073207</td>\n",
       "      <td>10204</td>\n",
       "    </tr>\n",
       "    <tr>\n",
       "      <td>3</td>\n",
       "      <td>ремонт жилья/недвижимости</td>\n",
       "      <td>0.057661</td>\n",
       "      <td>607</td>\n",
       "    </tr>\n",
       "    <tr>\n",
       "      <td>4</td>\n",
       "      <td>свадьба</td>\n",
       "      <td>0.080034</td>\n",
       "      <td>2324</td>\n",
       "    </tr>\n",
       "  </tbody>\n",
       "</table>\n",
       "</div>"
      ],
      "text/plain": [
       "                     categorizer      mean  count\n",
       "0                     автомобиль  0.093590   4306\n",
       "1                    образование  0.092200   4013\n",
       "2  реализация жилья/недвижимости  0.073207  10204\n",
       "3      ремонт жилья/недвижимости  0.057661    607\n",
       "4                        свадьба  0.080034   2324"
      ]
     },
     "execution_count": 401,
     "metadata": {},
     "output_type": "execute_result"
    }
   ],
   "source": [
    "df_purpose_case = df_analysed.groupby('categorizer')['debt'].agg(['mean', 'count']).reset_index()\n",
    "df_purpose_case"
   ]
  },
  {
   "cell_type": "markdown",
   "metadata": {},
   "source": [
    "### Вывод"
   ]
  },
  {
   "cell_type": "markdown",
   "metadata": {},
   "source": [
    "    Несмотря на довольно грубую категоризацию, сводная таблица обладает интерпретационной сложностью.\n",
    "    Наиболее высоким (выше среднего по выборке) фактором риска невозврата кредита является автомобиль и образование (от 9%). Остальные показатели - ниже среднего, в то время как ремонт жилья/недвижимости - наименее определяющая невозврат кредита в срок категория.\n",
    "    Ближе к границе среднего - категория \"свадьба\", этот кейс требует дополнительного исследования в срезе других данных, например, возраста, семейного статуса (второй брак) и т.д.\n"
   ]
  },
  {
   "cell_type": "markdown",
   "metadata": {},
   "source": [
    "### Шаг 4. Общий вывод"
   ]
  },
  {
   "cell_type": "markdown",
   "metadata": {},
   "source": [
    "    *Техническая интерпретация\n",
    "\n",
    "    В рамках проекта нам удалось на предварительном этапе знакомства с данными (предварительной части - предшествующей полноценному разведовательному анализу) сформулировать первые гипотезы о возможным закономерностях в данных и их взаимосвязи (ненаполненность категорий, высокий размах доходов, наличие ошибок (багах)).\n",
    "    Поиск и замена пропущенных значений, а также работа с дубликатами (прямыми и их производными значениями) позволил подготовить датасет о кредитных заемщиков для последующего анализа взаимосвязи между четырьмя ключевыми переменными, последнюю из которых мы определелили с помощью лемматизации, как то: наличие детей, семейное положение, уровень ежемесячного дохода и цель кредита, -  и переменной вовзрата кредита. \n",
    "    Результатом замены пропущенных значений данных позволил включить в анализ такую важную переменную, как \"возраст\", которая раскрыла искомые нами взаимосвязи в категории \"количество детей\".\n",
    "    С одной стороны, предобработка \"битых\" данных помогла с поиском причин анломалий в значениях и категоризировать значения переменных - с другой - само наличие трудно предсказуемых пропущенных значений, например, в переменной \"общий стаж в днях\" - существенным образом усложнило применение этой категории в анализе (требуется исключение \"несуществующих значений\", которыми были заполнены пропуски). Вопрос актуализируется сензентивностью темы - кредитного займа - предполагающего детального взвешивания того или иного значения переменной в структуре данных.\n",
    "\n",
    "    *Содержательная интерпретация \n",
    "\n",
    "    Средний показатель невозврата кредита в срок в генеральной совокупности не высокий, но с достаточно высоким отклонением (приблизительно 0.08 , с стандартным отклонением в 0,27). Это стимулировало обращение инструментов многомерного среза категорий по косвенным переменным. Так, результатом группировки по переменной \"дети\" средних значений булиевой переменной \"наличие задолженности по кредиту\" стал контринтуитивный вывод о том, что роста количество детей негативным образом отражается на возврат кредита, в то время как у заемщиков с наибольшим количеством детей долгов по кредиту не обнаружено. Применение дополнительной группировки данных по переменной возраст позволило обнаржить некоторую неравномерность в распределении индексов этих данных в зависимости от возрастной категории заемщиков с определенным количеством детей и определить те возрастные категории с бОльшим количеством детей, значения среднего показателя возврата кредита которых смещает средний показать по категории \"дети\".\n",
    "    Не менее интересной находкой является особенности взаимосвязи между переменными уровня дохода и возвратом кредита: и здесь привлекает внимание не столько тот предсказуемый вывод, согласно которому с ростом доха снижается шанс невозврата кредита, сколько то, что величина размаха дохода предположительно (гипотеза о недостоверности данных) должна была оказать влияние на данный возврат в более сложной динамике. Снижение показателя невовзврата с ростом дохода важно оценивать в разрезе экспоненциально снижающего количество заемщиков с такими доходами. Интересено и предположение о том, что один из заемщиков со свердоходом, просрочившего выплату - это представитель псевдо-высокодоходной групы. На этом этапе требуется более глубокая проработка. Любопытно,что представленное в теле проекта предположения о возможном наличии в данных заемщиков - эридических лиц, можно наглядно проверить на сводной таблице с группами \"целей\" кредитного заема (можно проверить, занимают ли представители высокодоходных групп кредит на покупку коммерческой недвижимости).\n",
    "    Вывод о влиянии семейного положения на возврат кредита довольно хорошо подается интерпретации в социологическом измерении. \n",
    "\n",
    "    *Рекоммендации по преобразованию данных:\n",
    "\n",
    "    В рамках более детального анализа мы бы рекоммендовали включить в датасет две важные переменны: 1) id заемщиков , 2) сумма выданного кредита. \n",
    "\n",
    "    Также позволим себе рекоммендацию по категоризации переменных: более сложную классификацию переменной \"тип дохода\" (или \"тип занятости\"), более адекватно отражающую стратификационное деленения современного капиталистического общества: срез вида \"госслужащий, 40 лет, доход 90, имеет 3 детей\" - слабо классифируемая информация в перспективе отнесения к (новым-) социальным классам. \n",
    "\n",
    "\n",
    "    Перспективы оптимизации аналитики кода:\n",
    "\n",
    "    Список \"тех или иных лемм\" мы прям зашиваем в код? Т.е. принимаем, что алгоритм поддерживает какой-то ограниченный набор категорий (например, \"жилье\", \"автомобиль\", \"свадьба\" и т.д.) и не более того. Что если появятся новые данные? Я бы предложил автоматизировать алгоритм через создание словаря вне puthon, к которому можна обратиться и дополнить, не меняя сам код. В сам коде можно импортировать данный внешний словарик (например, из базы данных SQL). "
   ]
  },
  {
   "cell_type": "markdown",
   "metadata": {},
   "source": [
    "<div class=\"alert alert-success\">\n",
    "Прекрасные структурированные выводы. Я отметил твою оригинальность в разделение вывода на три части, мне это понравилось, достаточно удобно.\n",
    "    <br><br>\n",
    "Отличное замечание по поводу лемм. В данном случае мы работаем со статическими данными и нам нет необходимости ожидать новых данных. Но если мы хотим построить пайплайн по обработки данных, то есть автоматизировать обработку данных, в таком случае я бы сначала приводил к нижнему регистру, проверял автоматически на ошибки слова, сравнивал с имеющимися в словаре и только после, если никуда не смог отнести это слово, отлавливал и думал дальше как с ним поступить. Либо добавить в имещуюся категорию и расширить словарь или создат новую.\n",
    "</div>"
   ]
  },
  {
   "cell_type": "markdown",
   "metadata": {},
   "source": [
    "### Чек-лист готовности проекта\n",
    "\n",
    "Поставьте 'x' в выполненных пунктах. Далее нажмите Shift+Enter."
   ]
  },
  {
   "cell_type": "markdown",
   "metadata": {},
   "source": [
    "- [x]  открыт файл;\n",
    "- [x]  файл изучен;\n",
    "- [x]  определены пропущенные значения;\n",
    "- [x]  заполнены пропущенные значения;\n",
    "- [x]  есть пояснение, какие пропущенные значения обнаружены;\n",
    "- [x]  описаны возможные причины появления пропусков в данных;\n",
    "- [x]  объяснено, по какому принципу заполнены пропуски;\n",
    "- [x]  заменен вещественный тип данных на целочисленный;\n",
    "- [x]  есть пояснение, какой метод используется для изменения типа данных и почему;\n",
    "- [x]  удалены дубликаты;\n",
    "- [x]  есть пояснение, какой метод используется для поиска и удаления дубликатов;\n",
    "- [x]  описаны возможные причины появления дубликатов в данных;\n",
    "- [x]  выделены леммы в значениях столбца с целями получения кредита;\n",
    "- [x]  описан процесс лемматизации;\n",
    "- [x]  данные категоризированы;\n",
    "- [x]  есть объяснение принципа категоризации данных;\n",
    "- [x]  есть ответ на вопрос: \"Есть ли зависимость между наличием детей и возвратом кредита в срок?\";\n",
    "- [x]  есть ответ на вопрос: \"Есть ли зависимость между семейным положением и возвратом кредита в срок?\";\n",
    "- [x]  есть ответ на вопрос: \"Есть ли зависимость между уровнем дохода и возвратом кредита в срок?\";\n",
    "- [x]  есть ответ на вопрос: \"Как разные цели кредита влияют на его возврат в срок?\";\n",
    "- [x]  в каждом этапе есть выводы;\n",
    "- [x]  есть общий вывод."
   ]
  },
  {
   "cell_type": "code",
   "execution_count": null,
   "metadata": {},
   "outputs": [],
   "source": []
  }
 ],
 "metadata": {
  "kernelspec": {
   "display_name": "Python 3",
   "language": "python",
   "name": "python3"
  },
  "language_info": {
   "codemirror_mode": {
    "name": "ipython",
    "version": 3
   },
   "file_extension": ".py",
   "mimetype": "text/x-python",
   "name": "python",
   "nbconvert_exporter": "python",
   "pygments_lexer": "ipython3",
   "version": "3.7.6"
  }
 },
 "nbformat": 4,
 "nbformat_minor": 2
}
