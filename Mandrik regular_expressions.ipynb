{
 "cells": [
  {
   "cell_type": "markdown",
   "metadata": {},
   "source": [
    "# Работа со строками и немного про графики"
   ]
  },
  {
   "cell_type": "markdown",
   "metadata": {
    "toc": true
   },
   "source": []
  },
  {
   "cell_type": "markdown",
   "metadata": {
    "ExecuteTime": {
     "end_time": "2020-12-19T15:14:24.858304Z",
     "start_time": "2020-12-19T15:14:24.851012Z"
    }
   },
   "source": [
    "## Полезные ссылки"
   ]
  },
  {
   "cell_type": "markdown",
   "metadata": {},
   "source": []
  },
  {
   "cell_type": "markdown",
   "metadata": {
    "ExecuteTime": {
     "end_time": "2020-12-19T15:13:43.590940Z",
     "start_time": "2020-12-19T15:13:43.586583Z"
    }
   },
   "source": [
    "## Импорты и настройки"
   ]
  },
  {
   "cell_type": "code",
   "execution_count": 2,
   "metadata": {
    "ExecuteTime": {
     "end_time": "2020-12-20T07:02:36.673066Z",
     "start_time": "2020-12-20T07:02:30.608384Z"
    }
   },
   "outputs": [
    {
     "name": "stdout",
     "output_type": "stream",
     "text": [
      "Collecting nltk\n",
      "  Downloading nltk-3.5.zip (1.4 MB)\n",
      "\u001b[K     |████████████████████████████████| 1.4 MB 987 kB/s eta 0:00:01\n",
      "\u001b[?25hRequirement already satisfied: click in /home/bubulmet/miniconda3/envs/sandbox/lib/python3.7/site-packages (from nltk) (7.1.2)\n",
      "Requirement already satisfied: joblib in /home/bubulmet/miniconda3/envs/sandbox/lib/python3.7/site-packages (from nltk) (0.16.0)\n",
      "Collecting regex\n",
      "  Downloading regex-2020.11.13-cp37-cp37m-manylinux2014_x86_64.whl (719 kB)\n",
      "\u001b[K     |████████████████████████████████| 719 kB 26.4 MB/s eta 0:00:01\n",
      "\u001b[?25hRequirement already satisfied: tqdm in /home/bubulmet/miniconda3/envs/sandbox/lib/python3.7/site-packages (from nltk) (4.53.0)\n",
      "Building wheels for collected packages: nltk\n",
      "  Building wheel for nltk (setup.py) ... \u001b[?25ldone\n",
      "\u001b[?25h  Created wheel for nltk: filename=nltk-3.5-py3-none-any.whl size=1434679 sha256=252d40c796e3637ab39cb59ff630c636e9a528f96de1a19351f5a5ca3dec2f23\n",
      "  Stored in directory: /home/bubulmet/.cache/pip/wheels/45/6c/46/a1865e7ba706b3817f5d1b2ff7ce8996aabdd0d03d47ba0266\n",
      "Successfully built nltk\n",
      "Installing collected packages: regex, nltk\n",
      "Successfully installed nltk-3.5 regex-2020.11.13\n"
     ]
    }
   ],
   "source": [
    "!pip install nltk"
   ]
  },
  {
   "cell_type": "code",
   "execution_count": 4,
   "metadata": {
    "ExecuteTime": {
     "end_time": "2020-12-20T07:05:14.421806Z",
     "start_time": "2020-12-20T07:05:14.417253Z"
    }
   },
   "outputs": [],
   "source": [
    "import pandas as pd\n",
    "import numpy as np\n",
    "\n",
    "import requests\n",
    "import json\n",
    "\n",
    "import string\n",
    "import re\n",
    "import nltk\n",
    "from nltk.corpus import stopwords\n",
    "\n",
    "import matplotlib.pyplot as plt\n",
    "import seaborn as sns\n",
    "\n",
    "%matplotlib inline"
   ]
  },
  {
   "cell_type": "code",
   "execution_count": 5,
   "metadata": {
    "ExecuteTime": {
     "end_time": "2020-12-20T07:05:15.507198Z",
     "start_time": "2020-12-20T07:05:15.503787Z"
    }
   },
   "outputs": [],
   "source": [
    "# украшаем графики\n",
    "plt.rcParams[\"figure.figsize\"] = (17,8) # размер\n",
    "plt.style.use('ggplot')                 # модный стиль"
   ]
  },
  {
   "cell_type": "code",
   "execution_count": 6,
   "metadata": {
    "ExecuteTime": {
     "end_time": "2020-12-20T07:05:21.117138Z",
     "start_time": "2020-12-20T07:05:17.769532Z"
    }
   },
   "outputs": [
    {
     "name": "stderr",
     "output_type": "stream",
     "text": [
      "[nltk_data] Downloading package punkt to /home/bubulmet/nltk_data...\n",
      "[nltk_data]   Unzipping tokenizers/punkt.zip.\n",
      "[nltk_data] Downloading package stopwords to\n",
      "[nltk_data]     /home/bubulmet/nltk_data...\n",
      "[nltk_data]   Unzipping corpora/stopwords.zip.\n"
     ]
    },
    {
     "data": {
      "text/plain": [
       "True"
      ]
     },
     "execution_count": 6,
     "metadata": {},
     "output_type": "execute_result"
    }
   ],
   "source": [
    "nltk.download('punkt')\n",
    "nltk.download('stopwords')"
   ]
  },
  {
   "cell_type": "markdown",
   "metadata": {},
   "source": [
    "## Возьмем датку"
   ]
  },
  {
   "cell_type": "markdown",
   "metadata": {},
   "source": [
    "датка [отсюда](https://hubofdata.ru/), вот [эта](https://opengovdata.ru/dataset/mos-nko-2013)"
   ]
  },
  {
   "cell_type": "code",
   "execution_count": 7,
   "metadata": {
    "ExecuteTime": {
     "end_time": "2020-12-20T07:05:30.982726Z",
     "start_time": "2020-12-20T07:05:30.383786Z"
    }
   },
   "outputs": [
    {
     "data": {
      "text/plain": [
       "200"
      ]
     },
     "execution_count": 7,
     "metadata": {},
     "output_type": "execute_result"
    }
   ],
   "source": [
    "url = 'https://hubofdata.ru/storage/f/2013-10-24T12%3A55%3A39.754Z/religion-orgs.json'\n",
    "\n",
    "response = requests.get(url)\n",
    "\n",
    "response.status_code"
   ]
  },
  {
   "cell_type": "code",
   "execution_count": 8,
   "metadata": {
    "ExecuteTime": {
     "end_time": "2020-12-20T07:05:36.956015Z",
     "start_time": "2020-12-20T07:05:34.223643Z"
    }
   },
   "outputs": [
    {
     "data": {
      "text/plain": [
       "'{\\r\\n  \"rows\" : [\\r\\n    {\\r\\n      \"registry\" : \"Религиозные организации\",\\r\\n      \"regnumber\" : \"77110101'"
      ]
     },
     "execution_count": 8,
     "metadata": {},
     "output_type": "execute_result"
    }
   ],
   "source": [
    "response.text[:100]"
   ]
  },
  {
   "cell_type": "code",
   "execution_count": 9,
   "metadata": {
    "ExecuteTime": {
     "end_time": "2020-12-20T07:05:46.324428Z",
     "start_time": "2020-12-20T07:05:43.602016Z"
    }
   },
   "outputs": [
    {
     "data": {
      "text/plain": [
       "dict"
      ]
     },
     "execution_count": 9,
     "metadata": {},
     "output_type": "execute_result"
    }
   ],
   "source": [
    "data_json = json.loads(response.text)\n",
    "\n",
    "type(data_json)"
   ]
  },
  {
   "cell_type": "code",
   "execution_count": 10,
   "metadata": {
    "ExecuteTime": {
     "end_time": "2020-12-20T07:05:53.036049Z",
     "start_time": "2020-12-20T07:05:53.031803Z"
    }
   },
   "outputs": [
    {
     "data": {
      "text/plain": [
       "dict_keys(['rows'])"
      ]
     },
     "execution_count": 10,
     "metadata": {},
     "output_type": "execute_result"
    }
   ],
   "source": [
    "data_json.keys()"
   ]
  },
  {
   "cell_type": "code",
   "execution_count": 11,
   "metadata": {
    "ExecuteTime": {
     "end_time": "2020-12-20T07:05:58.550610Z",
     "start_time": "2020-12-20T07:05:58.546375Z"
    }
   },
   "outputs": [
    {
     "data": {
      "text/plain": [
       "list"
      ]
     },
     "execution_count": 11,
     "metadata": {},
     "output_type": "execute_result"
    }
   ],
   "source": [
    "type(data_json['rows'])"
   ]
  },
  {
   "cell_type": "code",
   "execution_count": 12,
   "metadata": {
    "ExecuteTime": {
     "end_time": "2020-12-20T07:06:08.044103Z",
     "start_time": "2020-12-20T07:06:08.039454Z"
    }
   },
   "outputs": [
    {
     "data": {
      "text/plain": [
       "{'registry': 'Религиозные организации',\n",
       " 'regnumber': '7711010133',\n",
       " 'name': 'Местная религиозная организация Московское общество сознания Кришны',\n",
       " 'ogrn': '1037700213869',\n",
       " 'ogrn_date': '14.02.2003',\n",
       " 'address': '125284,\\xa0Москва,\\xa0ул.\\xa0Беговая,\\xa0д.13',\n",
       " 'orgform': 'Религиозная организация',\n",
       " 'region': 'Москва',\n",
       " 'status': 'Зарегистрирована'}"
      ]
     },
     "execution_count": 12,
     "metadata": {},
     "output_type": "execute_result"
    }
   ],
   "source": [
    "data_json['rows'][0]"
   ]
  },
  {
   "cell_type": "code",
   "execution_count": 13,
   "metadata": {
    "ExecuteTime": {
     "end_time": "2020-12-20T07:07:00.367594Z",
     "start_time": "2020-12-20T07:07:00.337844Z"
    }
   },
   "outputs": [
    {
     "data": {
      "text/html": [
       "<div>\n",
       "<style scoped>\n",
       "    .dataframe tbody tr th:only-of-type {\n",
       "        vertical-align: middle;\n",
       "    }\n",
       "\n",
       "    .dataframe tbody tr th {\n",
       "        vertical-align: top;\n",
       "    }\n",
       "\n",
       "    .dataframe thead th {\n",
       "        text-align: right;\n",
       "    }\n",
       "</style>\n",
       "<table border=\"1\" class=\"dataframe\">\n",
       "  <thead>\n",
       "    <tr style=\"text-align: right;\">\n",
       "      <th></th>\n",
       "      <th>registry</th>\n",
       "      <th>regnumber</th>\n",
       "      <th>name</th>\n",
       "      <th>ogrn</th>\n",
       "      <th>ogrn_date</th>\n",
       "      <th>address</th>\n",
       "      <th>orgform</th>\n",
       "      <th>region</th>\n",
       "      <th>status</th>\n",
       "    </tr>\n",
       "  </thead>\n",
       "  <tbody>\n",
       "    <tr>\n",
       "      <th>0</th>\n",
       "      <td>Религиозные организации</td>\n",
       "      <td>7711010133</td>\n",
       "      <td>Местная религиозная организация Московское общ...</td>\n",
       "      <td>1037700213869</td>\n",
       "      <td>14.02.2003</td>\n",
       "      <td>125284, Москва, ул. Беговая, д.13</td>\n",
       "      <td>Религиозная организация</td>\n",
       "      <td>Москва</td>\n",
       "      <td>Зарегистрирована</td>\n",
       "    </tr>\n",
       "    <tr>\n",
       "      <th>1</th>\n",
       "      <td>Религиозные организации</td>\n",
       "      <td>7711010048</td>\n",
       "      <td>Ахмадийская мусульманская община г.Москвы</td>\n",
       "      <td>None</td>\n",
       "      <td>None</td>\n",
       "      <td>г.Москва, ул. Госпитальный вал, д.5, корп.18, ...</td>\n",
       "      <td>Религиозная организация</td>\n",
       "      <td>Москва</td>\n",
       "      <td>Зарегистрирована</td>\n",
       "    </tr>\n",
       "    <tr>\n",
       "      <th>2</th>\n",
       "      <td>Религиозные организации</td>\n",
       "      <td>7711010655</td>\n",
       "      <td>Буддийский центр Падма Самбава</td>\n",
       "      <td>None</td>\n",
       "      <td>None</td>\n",
       "      <td>None</td>\n",
       "      <td>Религиозная организация</td>\n",
       "      <td>Москва</td>\n",
       "      <td>Зарегистрирована</td>\n",
       "    </tr>\n",
       "    <tr>\n",
       "      <th>3</th>\n",
       "      <td>Религиозные организации</td>\n",
       "      <td>7711010425</td>\n",
       "      <td>Иудейская религиозная организация \"Московская ...</td>\n",
       "      <td>None</td>\n",
       "      <td>None</td>\n",
       "      <td>101000, Москва, Б.Спасоглинищевский пер, д.9/1...</td>\n",
       "      <td>Религиозная организация</td>\n",
       "      <td>Москва</td>\n",
       "      <td>Зарегистрирована</td>\n",
       "    </tr>\n",
       "    <tr>\n",
       "      <th>4</th>\n",
       "      <td>Религиозные организации</td>\n",
       "      <td>7711010030</td>\n",
       "      <td>Корейская пресветерианская Церковь</td>\n",
       "      <td>None</td>\n",
       "      <td>None</td>\n",
       "      <td>Ст. Супруна, 12 - 3 - 38</td>\n",
       "      <td>Религиозная организация</td>\n",
       "      <td>Москва</td>\n",
       "      <td>Зарегистрирована</td>\n",
       "    </tr>\n",
       "  </tbody>\n",
       "</table>\n",
       "</div>"
      ],
      "text/plain": [
       "                  registry   regnumber  \\\n",
       "0  Религиозные организации  7711010133   \n",
       "1  Религиозные организации  7711010048   \n",
       "2  Религиозные организации  7711010655   \n",
       "3  Религиозные организации  7711010425   \n",
       "4  Религиозные организации  7711010030   \n",
       "\n",
       "                                                name           ogrn  \\\n",
       "0  Местная религиозная организация Московское общ...  1037700213869   \n",
       "1          Ахмадийская мусульманская община г.Москвы           None   \n",
       "2                     Буддийский центр Падма Самбава           None   \n",
       "3  Иудейская религиозная организация \"Московская ...           None   \n",
       "4                 Корейская пресветерианская Церковь           None   \n",
       "\n",
       "    ogrn_date                                            address  \\\n",
       "0  14.02.2003                  125284, Москва, ул. Беговая, д.13   \n",
       "1        None  г.Москва, ул. Госпитальный вал, д.5, корп.18, ...   \n",
       "2        None                                               None   \n",
       "3        None  101000, Москва, Б.Спасоглинищевский пер, д.9/1...   \n",
       "4        None                           Ст. Супруна, 12 - 3 - 38   \n",
       "\n",
       "                   orgform  region            status  \n",
       "0  Религиозная организация  Москва  Зарегистрирована  \n",
       "1  Религиозная организация  Москва  Зарегистрирована  \n",
       "2  Религиозная организация  Москва  Зарегистрирована  \n",
       "3  Религиозная организация  Москва  Зарегистрирована  \n",
       "4  Религиозная организация  Москва  Зарегистрирована  "
      ]
     },
     "execution_count": 13,
     "metadata": {},
     "output_type": "execute_result"
    }
   ],
   "source": [
    "df = pd.DataFrame().from_records(data_json['rows'])\n",
    "\n",
    "df.head()"
   ]
  },
  {
   "cell_type": "code",
   "execution_count": 42,
   "metadata": {
    "ExecuteTime": {
     "end_time": "2020-12-20T07:53:53.763391Z",
     "start_time": "2020-12-20T07:53:53.758027Z"
    }
   },
   "outputs": [
    {
     "data": {
      "text/plain": [
       "'125284,\\xa0Москва,\\xa0ул.\\xa0Беговая,\\xa0д.13'"
      ]
     },
     "execution_count": 42,
     "metadata": {},
     "output_type": "execute_result"
    }
   ],
   "source": [
    "df['address'][0]"
   ]
  },
  {
   "cell_type": "code",
   "execution_count": 14,
   "metadata": {
    "ExecuteTime": {
     "end_time": "2020-12-20T07:07:52.248509Z",
     "start_time": "2020-12-20T07:07:52.243972Z"
    }
   },
   "outputs": [
    {
     "data": {
      "text/plain": [
       "(734, 9)"
      ]
     },
     "execution_count": 14,
     "metadata": {},
     "output_type": "execute_result"
    }
   ],
   "source": [
    "df.shape"
   ]
  },
  {
   "cell_type": "code",
   "execution_count": 35,
   "metadata": {
    "ExecuteTime": {
     "end_time": "2020-12-19T16:26:27.531144Z",
     "start_time": "2020-12-19T16:26:27.513686Z"
    }
   },
   "outputs": [],
   "source": [
    "# # на случай недоступности сайта\n",
    "# df.to_pickle('data.pkl')"
   ]
  },
  {
   "cell_type": "code",
   "execution_count": 3,
   "metadata": {
    "ExecuteTime": {
     "end_time": "2020-12-19T19:41:00.195337Z",
     "start_time": "2020-12-19T19:41:00.180033Z"
    }
   },
   "outputs": [],
   "source": [
    "# df = pd.read_pickle('data.pkl')"
   ]
  },
  {
   "cell_type": "markdown",
   "metadata": {},
   "source": [
    "## Работа со строками"
   ]
  },
  {
   "cell_type": "markdown",
   "metadata": {
    "ExecuteTime": {
     "end_time": "2020-12-19T15:59:31.663345Z",
     "start_time": "2020-12-19T15:59:31.658261Z"
    }
   },
   "source": [
    "### разбираем адрес на составляющие"
   ]
  },
  {
   "cell_type": "code",
   "execution_count": 38,
   "metadata": {
    "ExecuteTime": {
     "end_time": "2020-12-20T07:44:59.097301Z",
     "start_time": "2020-12-20T07:44:59.090655Z"
    }
   },
   "outputs": [
    {
     "data": {
      "text/plain": [
       "0                     125284, Москва, ул. Беговая, д.13\n",
       "1     г.Москва, ул. Госпитальный вал, д.5, корп.18, ...\n",
       "2                                                  None\n",
       "3     101000, Москва, Б.Спасоглинищевский пер, д.9/1...\n",
       "4                              Ст. Супруна, 12 - 3 - 38\n",
       "5      Москва, ул.Дмитрия Ульянова, д.17, корп.3 кв. 46\n",
       "6          109428, Москва, ул. Михайлова, д. 13, кв. 40\n",
       "7     111672, Москва, ул. Новокосинская, д. 14, корп...\n",
       "8      129345, Москва, ул. Осташковская, д. 21, кв. 104\n",
       "9       109388, Москва, ул. Шоссейная, д. 26/10, кв. 27\n",
       "10    123308, Москва, Карамышевская наб., д. 32/2, к...\n",
       "11    115184, Москва, Малый Татарский переулок, д. 5...\n",
       "12    115582 Москва, Каширское ш., д.110, корп.2, кв...\n",
       "13    101000, Москва, Б. Спасоглинищеский пер., д.10...\n",
       "14    101000, Москва, Б.Спасоглинищевский пер., 10, ...\n",
       "15         129282, г. Москва, ул. Широкая, д. 7, кор. 6\n",
       "16           119146, Москва, ул. 1-я Фрунзенская, д. 5.\n",
       "17    115516, Москва, ул.Прохладная, д.18, стр.1, 28...\n",
       "18    Карамышевская наб., д. 15, стр. 1, Москва, 123...\n",
       "19    111398, Москва, ул. Плющева, д. 17, корп. 1, к...\n",
       "Name: address, dtype: object"
      ]
     },
     "execution_count": 38,
     "metadata": {},
     "output_type": "execute_result"
    }
   ],
   "source": [
    "df['address'].head(20)"
   ]
  },
  {
   "cell_type": "markdown",
   "metadata": {},
   "source": [
    "Задача непростая: форматы в каждой строке свои, есть пропуски. Но тем интереснее!"
   ]
  },
  {
   "cell_type": "markdown",
   "metadata": {},
   "source": [
    "#### индекс"
   ]
  },
  {
   "cell_type": "markdown",
   "metadata": {},
   "source": [
    "Индекс - это шесть цифр. И больше ничего похожего в адресе быть не должно. Так что тут достаточно регулярки."
   ]
  },
  {
   "cell_type": "code",
   "execution_count": 39,
   "metadata": {
    "ExecuteTime": {
     "end_time": "2020-12-20T07:49:32.317936Z",
     "start_time": "2020-12-20T07:49:32.295469Z"
    }
   },
   "outputs": [
    {
     "data": {
      "text/html": [
       "<div>\n",
       "<style scoped>\n",
       "    .dataframe tbody tr th:only-of-type {\n",
       "        vertical-align: middle;\n",
       "    }\n",
       "\n",
       "    .dataframe tbody tr th {\n",
       "        vertical-align: top;\n",
       "    }\n",
       "\n",
       "    .dataframe thead th {\n",
       "        text-align: right;\n",
       "    }\n",
       "</style>\n",
       "<table border=\"1\" class=\"dataframe\">\n",
       "  <thead>\n",
       "    <tr style=\"text-align: right;\">\n",
       "      <th></th>\n",
       "      <th>address</th>\n",
       "      <th>index</th>\n",
       "    </tr>\n",
       "  </thead>\n",
       "  <tbody>\n",
       "    <tr>\n",
       "      <th>0</th>\n",
       "      <td>125284, Москва, ул. Беговая, д.13</td>\n",
       "      <td>125284</td>\n",
       "    </tr>\n",
       "    <tr>\n",
       "      <th>1</th>\n",
       "      <td>г.Москва, ул. Госпитальный вал, д.5, корп.18, ...</td>\n",
       "      <td>NaN</td>\n",
       "    </tr>\n",
       "    <tr>\n",
       "      <th>2</th>\n",
       "      <td>None</td>\n",
       "      <td>NaN</td>\n",
       "    </tr>\n",
       "    <tr>\n",
       "      <th>3</th>\n",
       "      <td>101000, Москва, Б.Спасоглинищевский пер, д.9/1...</td>\n",
       "      <td>101000</td>\n",
       "    </tr>\n",
       "    <tr>\n",
       "      <th>4</th>\n",
       "      <td>Ст. Супруна, 12 - 3 - 38</td>\n",
       "      <td>NaN</td>\n",
       "    </tr>\n",
       "    <tr>\n",
       "      <th>5</th>\n",
       "      <td>Москва, ул.Дмитрия Ульянова, д.17, корп.3 кв. 46</td>\n",
       "      <td>NaN</td>\n",
       "    </tr>\n",
       "    <tr>\n",
       "      <th>6</th>\n",
       "      <td>109428, Москва, ул. Михайлова, д. 13, кв. 40</td>\n",
       "      <td>109428</td>\n",
       "    </tr>\n",
       "    <tr>\n",
       "      <th>7</th>\n",
       "      <td>111672, Москва, ул. Новокосинская, д. 14, корп...</td>\n",
       "      <td>111672</td>\n",
       "    </tr>\n",
       "    <tr>\n",
       "      <th>8</th>\n",
       "      <td>129345, Москва, ул. Осташковская, д. 21, кв. 104</td>\n",
       "      <td>129345</td>\n",
       "    </tr>\n",
       "    <tr>\n",
       "      <th>9</th>\n",
       "      <td>109388, Москва, ул. Шоссейная, д. 26/10, кв. 27</td>\n",
       "      <td>109388</td>\n",
       "    </tr>\n",
       "  </tbody>\n",
       "</table>\n",
       "</div>"
      ],
      "text/plain": [
       "                                             address   index\n",
       "0                  125284, Москва, ул. Беговая, д.13  125284\n",
       "1  г.Москва, ул. Госпитальный вал, д.5, корп.18, ...     NaN\n",
       "2                                               None     NaN\n",
       "3  101000, Москва, Б.Спасоглинищевский пер, д.9/1...  101000\n",
       "4                           Ст. Супруна, 12 - 3 - 38     NaN\n",
       "5   Москва, ул.Дмитрия Ульянова, д.17, корп.3 кв. 46     NaN\n",
       "6       109428, Москва, ул. Михайлова, д. 13, кв. 40  109428\n",
       "7  111672, Москва, ул. Новокосинская, д. 14, корп...  111672\n",
       "8   129345, Москва, ул. Осташковская, д. 21, кв. 104  129345\n",
       "9    109388, Москва, ул. Шоссейная, д. 26/10, кв. 27  109388"
      ]
     },
     "execution_count": 39,
     "metadata": {},
     "output_type": "execute_result"
    }
   ],
   "source": [
    "df['index'] = df['address'].str.extract(r'(\\d{6})') # скобки вокруг паттерна!\n",
    "\n",
    "df[['address', 'index']].head(10)"
   ]
  },
  {
   "cell_type": "code",
   "execution_count": 40,
   "metadata": {
    "ExecuteTime": {
     "end_time": "2020-12-20T07:50:05.806099Z",
     "start_time": "2020-12-20T07:50:05.800974Z"
    }
   },
   "outputs": [
    {
     "name": "stdout",
     "output_type": "stream",
     "text": [
      "Осталось незаполнено в 6.95% строк\n"
     ]
    }
   ],
   "source": [
    "# проверим степень заполнения\n",
    "print(f\"Осталось незаполнено в {((df['index'].isnull().sum() / df.shape[0]) * 100):.2f}% строк\")"
   ]
  },
  {
   "cell_type": "code",
   "execution_count": 41,
   "metadata": {
    "ExecuteTime": {
     "end_time": "2020-12-20T07:50:32.457913Z",
     "start_time": "2020-12-20T07:50:32.451317Z"
    }
   },
   "outputs": [
    {
     "data": {
      "text/plain": [
       "1     г.Москва, ул. Госпитальный вал, д.5, корп.18, ...\n",
       "2                                                  None\n",
       "4                              Ст. Супруна, 12 - 3 - 38\n",
       "5      Москва, ул.Дмитрия Ульянова, д.17, корп.3 кв. 46\n",
       "35         г. Москва, Волгоградский пр-кт, д. 17, кв. 8\n",
       "48                                                 None\n",
       "50                                                 None\n",
       "73                 г.Москва, ул.Покровка, д.20/1, кв.36\n",
       "74                           ул.Покровка, д.20/1, кв.36\n",
       "82               г.Москва, Новоясеневский пр-т, д.25/20\n",
       "Name: address, dtype: object"
      ]
     },
     "execution_count": 41,
     "metadata": {},
     "output_type": "execute_result"
    }
   ],
   "source": [
    "# проверим, что незаполнено по объективным причинам\n",
    "df['address'].loc[df['index'].isnull()].head(10)"
   ]
  },
  {
   "cell_type": "markdown",
   "metadata": {},
   "source": [
    "#### ищем спец. слова"
   ]
  },
  {
   "cell_type": "markdown",
   "metadata": {},
   "source": [
    "затем разбиваем строку на слова"
   ]
  },
  {
   "cell_type": "code",
   "execution_count": 45,
   "metadata": {
    "ExecuteTime": {
     "end_time": "2020-12-20T07:57:57.951247Z",
     "start_time": "2020-12-20T07:57:57.946388Z"
    }
   },
   "outputs": [
    {
     "data": {
      "text/plain": [
       "['', 'something']"
      ]
     },
     "execution_count": 45,
     "metadata": {},
     "output_type": "execute_result"
    }
   ],
   "source": [
    "' something'.split(' ')"
   ]
  },
  {
   "cell_type": "code",
   "execution_count": 49,
   "metadata": {
    "ExecuteTime": {
     "end_time": "2020-12-20T08:01:53.497915Z",
     "start_time": "2020-12-20T08:01:53.493247Z"
    }
   },
   "outputs": [
    {
     "data": {
      "text/plain": [
       "'something'"
      ]
     },
     "execution_count": 49,
     "metadata": {},
     "output_type": "execute_result"
    }
   ],
   "source": [
    "'    something     '.strip()"
   ]
  },
  {
   "cell_type": "code",
   "execution_count": 46,
   "metadata": {
    "ExecuteTime": {
     "end_time": "2020-12-20T07:58:42.203442Z",
     "start_time": "2020-12-20T07:58:42.198172Z"
    }
   },
   "outputs": [],
   "source": [
    "def tokenize_me(text):\n",
    "    if pd.isnull(text): # это на случай незаполненных адресов\n",
    "        return []\n",
    "    else:\n",
    "        # чтобы избежать проблем с регистром, приведём его к единому\n",
    "        text = text.lower()\n",
    "        \n",
    "        # я эту ошибку потом заметил, но проще её тут решить\n",
    "        text = text.replace('\\xa0', ' ')\n",
    "        \n",
    "        # разбиваем по запятой\n",
    "        tokens_list = text.split(',')\n",
    "        \n",
    "        # разбиваем по пробелу\n",
    "        list_of_tokens_list = [token.split(' ') for token in tokens_list]\n",
    "        tokens_list = sum(list_of_tokens_list, []) # превращаем список списков в одноуровневый список\n",
    "        \n",
    "        # разбиваем по точке\n",
    "        list_of_tokens_list = [token.split('.') for token in tokens_list]\n",
    "        tokens_list = sum(list_of_tokens_list, []) \n",
    "        \n",
    "        # очищаем результат\n",
    "        tokens_list = [token.strip() for token in tokens_list]\n",
    "\n",
    "        # удаляем пустые строки\n",
    "        tokens_list = [token for token in tokens_list if (token != '')]\n",
    "        \n",
    "        return tokens_list"
   ]
  },
  {
   "cell_type": "code",
   "execution_count": 47,
   "metadata": {
    "ExecuteTime": {
     "end_time": "2020-12-20T07:58:48.958482Z",
     "start_time": "2020-12-20T07:58:48.953047Z"
    }
   },
   "outputs": [
    {
     "data": {
      "text/plain": [
       "['101000',\n",
       " 'москва',\n",
       " 'б',\n",
       " 'спасоглинищевский',\n",
       " 'пер',\n",
       " 'д',\n",
       " '9/1',\n",
       " 'стр',\n",
       " '7',\n",
       " '743-05-51']"
      ]
     },
     "execution_count": 47,
     "metadata": {},
     "output_type": "execute_result"
    }
   ],
   "source": [
    "tokenize_me(df['address'][3])"
   ]
  },
  {
   "cell_type": "code",
   "execution_count": 48,
   "metadata": {
    "ExecuteTime": {
     "end_time": "2020-12-20T07:59:48.522475Z",
     "start_time": "2020-12-20T07:59:48.501858Z"
    }
   },
   "outputs": [
    {
     "data": {
      "text/html": [
       "<div>\n",
       "<style scoped>\n",
       "    .dataframe tbody tr th:only-of-type {\n",
       "        vertical-align: middle;\n",
       "    }\n",
       "\n",
       "    .dataframe tbody tr th {\n",
       "        vertical-align: top;\n",
       "    }\n",
       "\n",
       "    .dataframe thead th {\n",
       "        text-align: right;\n",
       "    }\n",
       "</style>\n",
       "<table border=\"1\" class=\"dataframe\">\n",
       "  <thead>\n",
       "    <tr style=\"text-align: right;\">\n",
       "      <th></th>\n",
       "      <th>address</th>\n",
       "      <th>words</th>\n",
       "    </tr>\n",
       "  </thead>\n",
       "  <tbody>\n",
       "    <tr>\n",
       "      <th>0</th>\n",
       "      <td>125284, Москва, ул. Беговая, д.13</td>\n",
       "      <td>[125284, москва, ул, беговая, д, 13]</td>\n",
       "    </tr>\n",
       "    <tr>\n",
       "      <th>1</th>\n",
       "      <td>г.Москва, ул. Госпитальный вал, д.5, корп.18, ...</td>\n",
       "      <td>[г, москва, ул, госпитальный, вал, д, 5, корп,...</td>\n",
       "    </tr>\n",
       "    <tr>\n",
       "      <th>2</th>\n",
       "      <td>None</td>\n",
       "      <td>[]</td>\n",
       "    </tr>\n",
       "    <tr>\n",
       "      <th>3</th>\n",
       "      <td>101000, Москва, Б.Спасоглинищевский пер, д.9/1...</td>\n",
       "      <td>[101000, москва, б, спасоглинищевский, пер, д,...</td>\n",
       "    </tr>\n",
       "    <tr>\n",
       "      <th>4</th>\n",
       "      <td>Ст. Супруна, 12 - 3 - 38</td>\n",
       "      <td>[ст, супруна, 12, -, 3, -, 38]</td>\n",
       "    </tr>\n",
       "  </tbody>\n",
       "</table>\n",
       "</div>"
      ],
      "text/plain": [
       "                                             address  \\\n",
       "0                  125284, Москва, ул. Беговая, д.13   \n",
       "1  г.Москва, ул. Госпитальный вал, д.5, корп.18, ...   \n",
       "2                                               None   \n",
       "3  101000, Москва, Б.Спасоглинищевский пер, д.9/1...   \n",
       "4                           Ст. Супруна, 12 - 3 - 38   \n",
       "\n",
       "                                               words  \n",
       "0               [125284, москва, ул, беговая, д, 13]  \n",
       "1  [г, москва, ул, госпитальный, вал, д, 5, корп,...  \n",
       "2                                                 []  \n",
       "3  [101000, москва, б, спасоглинищевский, пер, д,...  \n",
       "4                     [ст, супруна, 12, -, 3, -, 38]  "
      ]
     },
     "execution_count": 48,
     "metadata": {},
     "output_type": "execute_result"
    }
   ],
   "source": [
    "df['words'] = df['address'].apply(tokenize_me)\n",
    "\n",
    "df[['address', 'words']].head()"
   ]
  },
  {
   "cell_type": "markdown",
   "metadata": {},
   "source": [
    "Отлично, теперь все слова собираем в одну серию"
   ]
  },
  {
   "cell_type": "code",
   "execution_count": 50,
   "metadata": {
    "ExecuteTime": {
     "end_time": "2020-12-20T08:03:00.822852Z",
     "start_time": "2020-12-20T08:03:00.815806Z"
    }
   },
   "outputs": [
    {
     "data": {
      "text/plain": [
       "[1, 2, 3, 4, 5]"
      ]
     },
     "execution_count": 50,
     "metadata": {},
     "output_type": "execute_result"
    }
   ],
   "source": [
    "[1,2] + [3,4,5]"
   ]
  },
  {
   "cell_type": "code",
   "execution_count": 51,
   "metadata": {
    "ExecuteTime": {
     "end_time": "2020-12-20T08:03:09.980990Z",
     "start_time": "2020-12-20T08:03:09.965872Z"
    }
   },
   "outputs": [
    {
     "data": {
      "text/plain": [
       "0     125284\n",
       "1     москва\n",
       "2         ул\n",
       "3    беговая\n",
       "4          д\n",
       "dtype: object"
      ]
     },
     "execution_count": 51,
     "metadata": {},
     "output_type": "execute_result"
    }
   ],
   "source": [
    "words_series = pd.Series(df['words'].sum())\n",
    "\n",
    "words_series.head()"
   ]
  },
  {
   "cell_type": "markdown",
   "metadata": {},
   "source": [
    "Уберем числа:"
   ]
  },
  {
   "cell_type": "code",
   "execution_count": 52,
   "metadata": {
    "ExecuteTime": {
     "end_time": "2020-12-20T08:03:44.969796Z",
     "start_time": "2020-12-20T08:03:44.956661Z"
    }
   },
   "outputs": [
    {
     "data": {
      "text/plain": [
       "1     москва\n",
       "2         ул\n",
       "3    беговая\n",
       "4          д\n",
       "6          г\n",
       "dtype: object"
      ]
     },
     "execution_count": 52,
     "metadata": {},
     "output_type": "execute_result"
    }
   ],
   "source": [
    "words_series = words_series.loc[- words_series.str.fullmatch(r'\\d+')]\n",
    "\n",
    "words_series.head()"
   ]
  },
  {
   "cell_type": "code",
   "execution_count": 53,
   "metadata": {
    "ExecuteTime": {
     "end_time": "2020-12-20T08:03:50.523759Z",
     "start_time": "2020-12-20T08:03:50.519917Z"
    }
   },
   "outputs": [
    {
     "data": {
      "text/plain": [
       "(4152,)"
      ]
     },
     "execution_count": 53,
     "metadata": {},
     "output_type": "execute_result"
    }
   ],
   "source": [
    "words_series.shape"
   ]
  },
  {
   "cell_type": "markdown",
   "metadata": {},
   "source": [
    "и смотрим частоту. Вспомогательные слова должны быть наиболее частотными"
   ]
  },
  {
   "cell_type": "code",
   "execution_count": 54,
   "metadata": {
    "ExecuteTime": {
     "end_time": "2020-12-20T08:03:58.226277Z",
     "start_time": "2020-12-20T08:03:58.213436Z"
    }
   },
   "outputs": [
    {
     "data": {
      "text/plain": [
       "москва               712\n",
       "д                    632\n",
       "ул                   417\n",
       "кв                   191\n",
       "г                    176\n",
       "стр                  149\n",
       "корп                 120\n",
       "пер                   94\n",
       "дом                   56\n",
       "шоссе                 41\n",
       "б                     33\n",
       "кор                   32\n",
       "проспект              22\n",
       "прохладная            22\n",
       "проезд                19\n",
       "к                     18\n",
       "вал                   18\n",
       "т                     17\n",
       "наметкина             16\n",
       "пр-д                  15\n",
       "варшавское            15\n",
       "чистый                14\n",
       "преображенский        12\n",
       "бульвар               12\n",
       "малый                 11\n",
       "большая               11\n",
       "а                     11\n",
       "пр-т                  11\n",
       "2-й                   10\n",
       "переулок              10\n",
       "вернадского           10\n",
       "пр                     9\n",
       "наб                    9\n",
       "ш                      9\n",
       "новоясеневский         9\n",
       "покровка               8\n",
       "спасоглинищевский      8\n",
       "новые                  8\n",
       "измайловский           8\n",
       "-                      8\n",
       "dtype: int64"
      ]
     },
     "execution_count": 54,
     "metadata": {},
     "output_type": "execute_result"
    }
   ],
   "source": [
    "words_series.value_counts()[:40]"
   ]
  },
  {
   "cell_type": "markdown",
   "metadata": {},
   "source": [
    "Эти спец. слова помогут нам вытянуть другие части адреса"
   ]
  },
  {
   "cell_type": "markdown",
   "metadata": {},
   "source": [
    "#### улицы"
   ]
  },
  {
   "cell_type": "markdown",
   "metadata": {},
   "source": [
    "соберем указатели улиц:"
   ]
  },
  {
   "cell_type": "code",
   "execution_count": 56,
   "metadata": {
    "ExecuteTime": {
     "end_time": "2020-12-20T08:15:43.926585Z",
     "start_time": "2020-12-20T08:15:43.923741Z"
    }
   },
   "outputs": [],
   "source": [
    "street_words = [\n",
    "    'ул', 'пер', 'шоссе', 'проспект', 'проезд', 'пр-д', 'бульвар', 'пр-т', 'переулок', 'ш', 'пр', 'наб'\n",
    "]"
   ]
  },
  {
   "cell_type": "markdown",
   "metadata": {},
   "source": [
    "и попытаемся с их помощью вытянуть улицы"
   ]
  },
  {
   "cell_type": "code",
   "execution_count": 66,
   "metadata": {
    "ExecuteTime": {
     "end_time": "2020-12-20T08:25:20.162606Z",
     "start_time": "2020-12-20T08:25:20.156111Z"
    }
   },
   "outputs": [
    {
     "data": {
      "text/plain": [
       "'((,|^)[^,]*(ул|пер|шоссе|проспект|проезд|пр-д|бульвар|пр-т|переулок|ш|пр|наб)[^,]*,)'"
      ]
     },
     "execution_count": 66,
     "metadata": {},
     "output_type": "execute_result"
    }
   ],
   "source": [
    "pattern = f\"((,|^)[^,]*({'|'.join(street_words)})[^,]*,)\"\n",
    "\n",
    "pattern"
   ]
  },
  {
   "cell_type": "code",
   "execution_count": 67,
   "metadata": {
    "ExecuteTime": {
     "end_time": "2020-12-20T08:25:21.034094Z",
     "start_time": "2020-12-20T08:25:21.030614Z"
    }
   },
   "outputs": [
    {
     "name": "stdout",
     "output_type": "stream",
     "text": [
      "a\tb\n"
     ]
    }
   ],
   "source": [
    "print('a\\tb')"
   ]
  },
  {
   "cell_type": "code",
   "execution_count": 68,
   "metadata": {
    "ExecuteTime": {
     "end_time": "2020-12-20T08:25:21.299525Z",
     "start_time": "2020-12-20T08:25:21.296636Z"
    }
   },
   "outputs": [
    {
     "name": "stdout",
     "output_type": "stream",
     "text": [
      "a\\tb\n"
     ]
    }
   ],
   "source": [
    "print(r'a\\tb')"
   ]
  },
  {
   "cell_type": "code",
   "execution_count": 69,
   "metadata": {
    "ExecuteTime": {
     "end_time": "2020-12-20T08:25:21.963512Z",
     "start_time": "2020-12-20T08:25:21.960252Z"
    }
   },
   "outputs": [],
   "source": [
    "street_regexp_pattern = re.compile(pattern, flags=re.I) # re.I - команда игнорировать регистр (ignorecase flag)"
   ]
  },
  {
   "cell_type": "code",
   "execution_count": 70,
   "metadata": {
    "ExecuteTime": {
     "end_time": "2020-12-20T08:25:22.586889Z",
     "start_time": "2020-12-20T08:25:22.564738Z"
    }
   },
   "outputs": [
    {
     "data": {
      "text/html": [
       "<div>\n",
       "<style scoped>\n",
       "    .dataframe tbody tr th:only-of-type {\n",
       "        vertical-align: middle;\n",
       "    }\n",
       "\n",
       "    .dataframe tbody tr th {\n",
       "        vertical-align: top;\n",
       "    }\n",
       "\n",
       "    .dataframe thead th {\n",
       "        text-align: right;\n",
       "    }\n",
       "</style>\n",
       "<table border=\"1\" class=\"dataframe\">\n",
       "  <thead>\n",
       "    <tr style=\"text-align: right;\">\n",
       "      <th></th>\n",
       "      <th>address</th>\n",
       "      <th>street</th>\n",
       "    </tr>\n",
       "  </thead>\n",
       "  <tbody>\n",
       "    <tr>\n",
       "      <th>0</th>\n",
       "      <td>125284, Москва, ул. Беговая, д.13</td>\n",
       "      <td>, ул. Беговая,</td>\n",
       "    </tr>\n",
       "    <tr>\n",
       "      <th>1</th>\n",
       "      <td>г.Москва, ул. Госпитальный вал, д.5, корп.18, ...</td>\n",
       "      <td>, ул. Госпитальный вал,</td>\n",
       "    </tr>\n",
       "    <tr>\n",
       "      <th>2</th>\n",
       "      <td>None</td>\n",
       "      <td>NaN</td>\n",
       "    </tr>\n",
       "    <tr>\n",
       "      <th>3</th>\n",
       "      <td>101000, Москва, Б.Спасоглинищевский пер, д.9/1...</td>\n",
       "      <td>, Б.Спасоглинищевский пер,</td>\n",
       "    </tr>\n",
       "    <tr>\n",
       "      <th>4</th>\n",
       "      <td>Ст. Супруна, 12 - 3 - 38</td>\n",
       "      <td>Ст. Супруна,</td>\n",
       "    </tr>\n",
       "    <tr>\n",
       "      <th>5</th>\n",
       "      <td>Москва, ул.Дмитрия Ульянова, д.17, корп.3 кв. 46</td>\n",
       "      <td>, ул.Дмитрия Ульянова,</td>\n",
       "    </tr>\n",
       "    <tr>\n",
       "      <th>6</th>\n",
       "      <td>109428, Москва, ул. Михайлова, д. 13, кв. 40</td>\n",
       "      <td>, ул. Михайлова,</td>\n",
       "    </tr>\n",
       "    <tr>\n",
       "      <th>7</th>\n",
       "      <td>111672, Москва, ул. Новокосинская, д. 14, корп...</td>\n",
       "      <td>, ул. Новокосинская,</td>\n",
       "    </tr>\n",
       "    <tr>\n",
       "      <th>8</th>\n",
       "      <td>129345, Москва, ул. Осташковская, д. 21, кв. 104</td>\n",
       "      <td>, ул. Осташковская,</td>\n",
       "    </tr>\n",
       "    <tr>\n",
       "      <th>9</th>\n",
       "      <td>109388, Москва, ул. Шоссейная, д. 26/10, кв. 27</td>\n",
       "      <td>, ул. Шоссейная,</td>\n",
       "    </tr>\n",
       "  </tbody>\n",
       "</table>\n",
       "</div>"
      ],
      "text/plain": [
       "                                             address  \\\n",
       "0                  125284, Москва, ул. Беговая, д.13   \n",
       "1  г.Москва, ул. Госпитальный вал, д.5, корп.18, ...   \n",
       "2                                               None   \n",
       "3  101000, Москва, Б.Спасоглинищевский пер, д.9/1...   \n",
       "4                           Ст. Супруна, 12 - 3 - 38   \n",
       "5   Москва, ул.Дмитрия Ульянова, д.17, корп.3 кв. 46   \n",
       "6       109428, Москва, ул. Михайлова, д. 13, кв. 40   \n",
       "7  111672, Москва, ул. Новокосинская, д. 14, корп...   \n",
       "8   129345, Москва, ул. Осташковская, д. 21, кв. 104   \n",
       "9    109388, Москва, ул. Шоссейная, д. 26/10, кв. 27   \n",
       "\n",
       "                       street  \n",
       "0              , ул. Беговая,  \n",
       "1     , ул. Госпитальный вал,  \n",
       "2                         NaN  \n",
       "3  , Б.Спасоглинищевский пер,  \n",
       "4                Ст. Супруна,  \n",
       "5      , ул.Дмитрия Ульянова,  \n",
       "6            , ул. Михайлова,  \n",
       "7        , ул. Новокосинская,  \n",
       "8         , ул. Осташковская,  \n",
       "9            , ул. Шоссейная,  "
      ]
     },
     "execution_count": 70,
     "metadata": {},
     "output_type": "execute_result"
    }
   ],
   "source": [
    "df['street'] = df['address'].str.extract(street_regexp_pattern)[0]\n",
    "\n",
    "df[['address', 'street']].head(10)"
   ]
  },
  {
   "cell_type": "markdown",
   "metadata": {},
   "source": [
    "немного почистим"
   ]
  },
  {
   "cell_type": "code",
   "execution_count": 72,
   "metadata": {
    "ExecuteTime": {
     "end_time": "2020-12-20T08:28:37.639010Z",
     "start_time": "2020-12-20T08:28:37.623788Z"
    }
   },
   "outputs": [
    {
     "data": {
      "text/html": [
       "<div>\n",
       "<style scoped>\n",
       "    .dataframe tbody tr th:only-of-type {\n",
       "        vertical-align: middle;\n",
       "    }\n",
       "\n",
       "    .dataframe tbody tr th {\n",
       "        vertical-align: top;\n",
       "    }\n",
       "\n",
       "    .dataframe thead th {\n",
       "        text-align: right;\n",
       "    }\n",
       "</style>\n",
       "<table border=\"1\" class=\"dataframe\">\n",
       "  <thead>\n",
       "    <tr style=\"text-align: right;\">\n",
       "      <th></th>\n",
       "      <th>address</th>\n",
       "      <th>street</th>\n",
       "    </tr>\n",
       "  </thead>\n",
       "  <tbody>\n",
       "    <tr>\n",
       "      <th>0</th>\n",
       "      <td>125284, Москва, ул. Беговая, д.13</td>\n",
       "      <td>ул. Беговая</td>\n",
       "    </tr>\n",
       "    <tr>\n",
       "      <th>1</th>\n",
       "      <td>г.Москва, ул. Госпитальный вал, д.5, корп.18, ...</td>\n",
       "      <td>ул. Госпитальный вал</td>\n",
       "    </tr>\n",
       "    <tr>\n",
       "      <th>2</th>\n",
       "      <td>None</td>\n",
       "      <td>NaN</td>\n",
       "    </tr>\n",
       "    <tr>\n",
       "      <th>3</th>\n",
       "      <td>101000, Москва, Б.Спасоглинищевский пер, д.9/1...</td>\n",
       "      <td>Б.Спасоглинищевский пер</td>\n",
       "    </tr>\n",
       "    <tr>\n",
       "      <th>4</th>\n",
       "      <td>Ст. Супруна, 12 - 3 - 38</td>\n",
       "      <td>Ст. Супруна</td>\n",
       "    </tr>\n",
       "    <tr>\n",
       "      <th>5</th>\n",
       "      <td>Москва, ул.Дмитрия Ульянова, д.17, корп.3 кв. 46</td>\n",
       "      <td>ул.Дмитрия Ульянова</td>\n",
       "    </tr>\n",
       "    <tr>\n",
       "      <th>6</th>\n",
       "      <td>109428, Москва, ул. Михайлова, д. 13, кв. 40</td>\n",
       "      <td>ул. Михайлова</td>\n",
       "    </tr>\n",
       "    <tr>\n",
       "      <th>7</th>\n",
       "      <td>111672, Москва, ул. Новокосинская, д. 14, корп...</td>\n",
       "      <td>ул. Новокосинская</td>\n",
       "    </tr>\n",
       "    <tr>\n",
       "      <th>8</th>\n",
       "      <td>129345, Москва, ул. Осташковская, д. 21, кв. 104</td>\n",
       "      <td>ул. Осташковская</td>\n",
       "    </tr>\n",
       "    <tr>\n",
       "      <th>9</th>\n",
       "      <td>109388, Москва, ул. Шоссейная, д. 26/10, кв. 27</td>\n",
       "      <td>ул. Шоссейная</td>\n",
       "    </tr>\n",
       "  </tbody>\n",
       "</table>\n",
       "</div>"
      ],
      "text/plain": [
       "                                             address                   street\n",
       "0                  125284, Москва, ул. Беговая, д.13              ул. Беговая\n",
       "1  г.Москва, ул. Госпитальный вал, д.5, корп.18, ...     ул. Госпитальный вал\n",
       "2                                               None                      NaN\n",
       "3  101000, Москва, Б.Спасоглинищевский пер, д.9/1...  Б.Спасоглинищевский пер\n",
       "4                           Ст. Супруна, 12 - 3 - 38              Ст. Супруна\n",
       "5   Москва, ул.Дмитрия Ульянова, д.17, корп.3 кв. 46      ул.Дмитрия Ульянова\n",
       "6       109428, Москва, ул. Михайлова, д. 13, кв. 40            ул. Михайлова\n",
       "7  111672, Москва, ул. Новокосинская, д. 14, корп...        ул. Новокосинская\n",
       "8   129345, Москва, ул. Осташковская, д. 21, кв. 104         ул. Осташковская\n",
       "9    109388, Москва, ул. Шоссейная, д. 26/10, кв. 27            ул. Шоссейная"
      ]
     },
     "execution_count": 72,
     "metadata": {},
     "output_type": "execute_result"
    }
   ],
   "source": [
    "df['street'] = df['street'].str.replace(',', '').str.strip()\n",
    "\n",
    "df[['address', 'street']].head(10)"
   ]
  },
  {
   "cell_type": "code",
   "execution_count": 73,
   "metadata": {
    "ExecuteTime": {
     "end_time": "2020-12-20T08:28:41.144975Z",
     "start_time": "2020-12-20T08:28:41.140837Z"
    }
   },
   "outputs": [
    {
     "name": "stdout",
     "output_type": "stream",
     "text": [
      "Осталось незаполнено в 24.25% строк\n"
     ]
    }
   ],
   "source": [
    "# проверим степень заполнения\n",
    "print(f\"Осталось незаполнено в {((df['street'].isnull().sum() / df.shape[0]) * 100):.2f}% строк\")"
   ]
  },
  {
   "cell_type": "code",
   "execution_count": 74,
   "metadata": {
    "ExecuteTime": {
     "end_time": "2020-12-20T08:28:45.583681Z",
     "start_time": "2020-12-20T08:28:45.577321Z"
    }
   },
   "outputs": [
    {
     "data": {
      "text/plain": [
       "2                                                  None\n",
       "24       117437 Москва, ул.Академика Волгина д.25 кор.1\n",
       "31    101000 Москва, Старосадский пер. д.7/10  924-5...\n",
       "33    103617, г. Москва, г. Зеленоград, кор. 1449, к...\n",
       "39    117449 Москва, ул.Дм.Ульянова д.25а корп. 1 12...\n",
       "48                                                 None\n",
       "50                                                 None\n",
       "51                107066, Москва,Спартаковская ул. д.15\n",
       "57                     101000 Москва,пер.Никитников д.3\n",
       "60                       119034 Москва, Чистый пер. д.5\n",
       "Name: address, dtype: object"
      ]
     },
     "execution_count": 74,
     "metadata": {},
     "output_type": "execute_result"
    }
   ],
   "source": [
    "# проверим, что незаполнено по объективным причинам\n",
    "df['address'].loc[df['street'].isnull()].head(10)"
   ]
  },
  {
   "cell_type": "markdown",
   "metadata": {},
   "source": [
    "Есть проблемы со случаями, когда нет запятой после улицы. И когда улица без указания типа (просто `Ст. Супруна`). Но уже неплохо :)"
   ]
  },
  {
   "cell_type": "markdown",
   "metadata": {},
   "source": [
    "#### дом"
   ]
  },
  {
   "cell_type": "markdown",
   "metadata": {},
   "source": [
    "тут попробуем следующую хитрость: берем первую цифру после улицы"
   ]
  },
  {
   "cell_type": "code",
   "execution_count": 77,
   "metadata": {
    "ExecuteTime": {
     "end_time": "2020-12-20T08:44:55.215421Z",
     "start_time": "2020-12-20T08:44:55.209676Z"
    }
   },
   "outputs": [],
   "source": [
    "def house_finder(row_string):\n",
    "    adress = row_string['address']\n",
    "    street = row_string['street']\n",
    "    \n",
    "    if pd.isnull(street):# защитимся от проблем с незаполненными адресами\n",
    "        return np.nan\n",
    "    else:\n",
    "        after_street = adress.split(street)[1]\n",
    "        return re.search(r'\\d+', after_street)[0]"
   ]
  },
  {
   "cell_type": "code",
   "execution_count": 75,
   "metadata": {
    "ExecuteTime": {
     "end_time": "2020-12-20T08:43:46.158527Z",
     "start_time": "2020-12-20T08:43:46.150667Z"
    }
   },
   "outputs": [
    {
     "data": {
      "text/plain": [
       "registry                               Религиозные организации\n",
       "regnumber                                           7711010133\n",
       "name         Местная религиозная организация Московское общ...\n",
       "ogrn                                             1037700213869\n",
       "ogrn_date                                           14.02.2003\n",
       "address                      125284, Москва, ул. Беговая, д.13\n",
       "orgform                                Религиозная организация\n",
       "region                                                  Москва\n",
       "status                                        Зарегистрирована\n",
       "index                                                   125284\n",
       "words                     [125284, москва, ул, беговая, д, 13]\n",
       "street                                             ул. Беговая\n",
       "Name: 0, dtype: object"
      ]
     },
     "execution_count": 75,
     "metadata": {},
     "output_type": "execute_result"
    }
   ],
   "source": [
    "df.loc[0]"
   ]
  },
  {
   "cell_type": "code",
   "execution_count": 78,
   "metadata": {
    "ExecuteTime": {
     "end_time": "2020-12-20T08:44:57.684019Z",
     "start_time": "2020-12-20T08:44:57.678599Z"
    }
   },
   "outputs": [
    {
     "data": {
      "text/plain": [
       "'13'"
      ]
     },
     "execution_count": 78,
     "metadata": {},
     "output_type": "execute_result"
    }
   ],
   "source": [
    "house_finder(df.loc[0])"
   ]
  },
  {
   "cell_type": "code",
   "execution_count": 79,
   "metadata": {
    "ExecuteTime": {
     "end_time": "2020-12-20T08:45:17.670042Z",
     "start_time": "2020-12-20T08:45:17.620154Z"
    }
   },
   "outputs": [
    {
     "data": {
      "text/html": [
       "<div>\n",
       "<style scoped>\n",
       "    .dataframe tbody tr th:only-of-type {\n",
       "        vertical-align: middle;\n",
       "    }\n",
       "\n",
       "    .dataframe tbody tr th {\n",
       "        vertical-align: top;\n",
       "    }\n",
       "\n",
       "    .dataframe thead th {\n",
       "        text-align: right;\n",
       "    }\n",
       "</style>\n",
       "<table border=\"1\" class=\"dataframe\">\n",
       "  <thead>\n",
       "    <tr style=\"text-align: right;\">\n",
       "      <th></th>\n",
       "      <th>address</th>\n",
       "      <th>house</th>\n",
       "    </tr>\n",
       "  </thead>\n",
       "  <tbody>\n",
       "    <tr>\n",
       "      <th>0</th>\n",
       "      <td>125284, Москва, ул. Беговая, д.13</td>\n",
       "      <td>13</td>\n",
       "    </tr>\n",
       "    <tr>\n",
       "      <th>1</th>\n",
       "      <td>г.Москва, ул. Госпитальный вал, д.5, корп.18, ...</td>\n",
       "      <td>5</td>\n",
       "    </tr>\n",
       "    <tr>\n",
       "      <th>2</th>\n",
       "      <td>None</td>\n",
       "      <td>NaN</td>\n",
       "    </tr>\n",
       "    <tr>\n",
       "      <th>3</th>\n",
       "      <td>101000, Москва, Б.Спасоглинищевский пер, д.9/1...</td>\n",
       "      <td>9</td>\n",
       "    </tr>\n",
       "    <tr>\n",
       "      <th>4</th>\n",
       "      <td>Ст. Супруна, 12 - 3 - 38</td>\n",
       "      <td>12</td>\n",
       "    </tr>\n",
       "    <tr>\n",
       "      <th>5</th>\n",
       "      <td>Москва, ул.Дмитрия Ульянова, д.17, корп.3 кв. 46</td>\n",
       "      <td>17</td>\n",
       "    </tr>\n",
       "    <tr>\n",
       "      <th>6</th>\n",
       "      <td>109428, Москва, ул. Михайлова, д. 13, кв. 40</td>\n",
       "      <td>13</td>\n",
       "    </tr>\n",
       "    <tr>\n",
       "      <th>7</th>\n",
       "      <td>111672, Москва, ул. Новокосинская, д. 14, корп...</td>\n",
       "      <td>14</td>\n",
       "    </tr>\n",
       "    <tr>\n",
       "      <th>8</th>\n",
       "      <td>129345, Москва, ул. Осташковская, д. 21, кв. 104</td>\n",
       "      <td>21</td>\n",
       "    </tr>\n",
       "    <tr>\n",
       "      <th>9</th>\n",
       "      <td>109388, Москва, ул. Шоссейная, д. 26/10, кв. 27</td>\n",
       "      <td>26</td>\n",
       "    </tr>\n",
       "  </tbody>\n",
       "</table>\n",
       "</div>"
      ],
      "text/plain": [
       "                                             address house\n",
       "0                  125284, Москва, ул. Беговая, д.13    13\n",
       "1  г.Москва, ул. Госпитальный вал, д.5, корп.18, ...     5\n",
       "2                                               None   NaN\n",
       "3  101000, Москва, Б.Спасоглинищевский пер, д.9/1...     9\n",
       "4                           Ст. Супруна, 12 - 3 - 38    12\n",
       "5   Москва, ул.Дмитрия Ульянова, д.17, корп.3 кв. 46    17\n",
       "6       109428, Москва, ул. Михайлова, д. 13, кв. 40    13\n",
       "7  111672, Москва, ул. Новокосинская, д. 14, корп...    14\n",
       "8   129345, Москва, ул. Осташковская, д. 21, кв. 104    21\n",
       "9    109388, Москва, ул. Шоссейная, д. 26/10, кв. 27    26"
      ]
     },
     "execution_count": 79,
     "metadata": {},
     "output_type": "execute_result"
    }
   ],
   "source": [
    "df['house'] = df.apply(house_finder, axis=1)\n",
    "\n",
    "df[['address', 'house']].head(10)"
   ]
  },
  {
   "cell_type": "code",
   "execution_count": 80,
   "metadata": {
    "ExecuteTime": {
     "end_time": "2020-12-20T08:46:00.880933Z",
     "start_time": "2020-12-20T08:46:00.876195Z"
    }
   },
   "outputs": [
    {
     "name": "stdout",
     "output_type": "stream",
     "text": [
      "Осталось незаполнено в 24.25% строк\n"
     ]
    }
   ],
   "source": [
    "# проверим степень заполнения\n",
    "print(f\"Осталось незаполнено в {((df['house'].isnull().sum() / df.shape[0]) * 100):.2f}% строк\")"
   ]
  },
  {
   "cell_type": "markdown",
   "metadata": {},
   "source": [
    "Столько же проблем, сколько и с улицами. Проверим этот момент."
   ]
  },
  {
   "cell_type": "code",
   "execution_count": 81,
   "metadata": {
    "ExecuteTime": {
     "end_time": "2020-12-20T08:46:24.941055Z",
     "start_time": "2020-12-20T08:46:24.928929Z"
    }
   },
   "outputs": [
    {
     "data": {
      "text/html": [
       "<div>\n",
       "<style scoped>\n",
       "    .dataframe tbody tr th:only-of-type {\n",
       "        vertical-align: middle;\n",
       "    }\n",
       "\n",
       "    .dataframe tbody tr th {\n",
       "        vertical-align: top;\n",
       "    }\n",
       "\n",
       "    .dataframe thead th {\n",
       "        text-align: right;\n",
       "    }\n",
       "</style>\n",
       "<table border=\"1\" class=\"dataframe\">\n",
       "  <thead>\n",
       "    <tr style=\"text-align: right;\">\n",
       "      <th></th>\n",
       "      <th>address</th>\n",
       "      <th>street</th>\n",
       "    </tr>\n",
       "  </thead>\n",
       "  <tbody>\n",
       "    <tr>\n",
       "      <th>2</th>\n",
       "      <td>None</td>\n",
       "      <td>NaN</td>\n",
       "    </tr>\n",
       "    <tr>\n",
       "      <th>24</th>\n",
       "      <td>117437 Москва, ул.Академика Волгина д.25 кор.1</td>\n",
       "      <td>NaN</td>\n",
       "    </tr>\n",
       "    <tr>\n",
       "      <th>31</th>\n",
       "      <td>101000 Москва, Старосадский пер. д.7/10  924-5...</td>\n",
       "      <td>NaN</td>\n",
       "    </tr>\n",
       "    <tr>\n",
       "      <th>33</th>\n",
       "      <td>103617, г. Москва, г. Зеленоград, кор. 1449, к...</td>\n",
       "      <td>NaN</td>\n",
       "    </tr>\n",
       "    <tr>\n",
       "      <th>39</th>\n",
       "      <td>117449 Москва, ул.Дм.Ульянова д.25а корп. 1 12...</td>\n",
       "      <td>NaN</td>\n",
       "    </tr>\n",
       "    <tr>\n",
       "      <th>48</th>\n",
       "      <td>None</td>\n",
       "      <td>NaN</td>\n",
       "    </tr>\n",
       "    <tr>\n",
       "      <th>50</th>\n",
       "      <td>None</td>\n",
       "      <td>NaN</td>\n",
       "    </tr>\n",
       "    <tr>\n",
       "      <th>51</th>\n",
       "      <td>107066, Москва,Спартаковская ул. д.15</td>\n",
       "      <td>NaN</td>\n",
       "    </tr>\n",
       "    <tr>\n",
       "      <th>57</th>\n",
       "      <td>101000 Москва,пер.Никитников д.3</td>\n",
       "      <td>NaN</td>\n",
       "    </tr>\n",
       "    <tr>\n",
       "      <th>60</th>\n",
       "      <td>119034 Москва, Чистый пер. д.5</td>\n",
       "      <td>NaN</td>\n",
       "    </tr>\n",
       "  </tbody>\n",
       "</table>\n",
       "</div>"
      ],
      "text/plain": [
       "                                              address street\n",
       "2                                                None    NaN\n",
       "24     117437 Москва, ул.Академика Волгина д.25 кор.1    NaN\n",
       "31  101000 Москва, Старосадский пер. д.7/10  924-5...    NaN\n",
       "33  103617, г. Москва, г. Зеленоград, кор. 1449, к...    NaN\n",
       "39  117449 Москва, ул.Дм.Ульянова д.25а корп. 1 12...    NaN\n",
       "48                                               None    NaN\n",
       "50                                               None    NaN\n",
       "51              107066, Москва,Спартаковская ул. д.15    NaN\n",
       "57                   101000 Москва,пер.Никитников д.3    NaN\n",
       "60                     119034 Москва, Чистый пер. д.5    NaN"
      ]
     },
     "execution_count": 81,
     "metadata": {},
     "output_type": "execute_result"
    }
   ],
   "source": [
    "# проверим, что незаполнено по объективным причинам\n",
    "df[['address', 'street']].loc[df['house'].isnull()].head(10)"
   ]
  },
  {
   "cell_type": "markdown",
   "metadata": {},
   "source": [
    "Ну и так далее..."
   ]
  },
  {
   "cell_type": "markdown",
   "metadata": {},
   "source": [
    "### Ищем похожие строки"
   ]
  },
  {
   "cell_type": "markdown",
   "metadata": {},
   "source": [
    "Теперь поразбираемся с организациями. Это к вопросу о поиске заведений из одной сети."
   ]
  },
  {
   "cell_type": "code",
   "execution_count": 136,
   "metadata": {
    "ExecuteTime": {
     "end_time": "2020-12-19T20:34:01.935384Z",
     "start_time": "2020-12-19T20:34:01.923234Z"
    }
   },
   "outputs": [
    {
     "data": {
      "text/plain": [
       "0    Местная религиозная организация Московское общ...\n",
       "1            Ахмадийская мусульманская община г.Москвы\n",
       "2                       Буддийский центр Падма Самбава\n",
       "3    Иудейская религиозная организация \"Московская ...\n",
       "4                   Корейская пресветерианская Церковь\n",
       "5    Местная  религиозная организация Церковь Христ...\n",
       "6    Местная буддистская религиозная организация \"О...\n",
       "7    Местная исламская религиозная организация  \"Да...\n",
       "8    Местная исламская религиозная организация  Сев...\n",
       "9    Местная исламская религиозная организация горо...\n",
       "Name: name, dtype: object"
      ]
     },
     "execution_count": 136,
     "metadata": {},
     "output_type": "execute_result"
    }
   ],
   "source": [
    "df['name'].head(10)"
   ]
  },
  {
   "cell_type": "markdown",
   "metadata": {},
   "source": [
    "#### множества букв"
   ]
  },
  {
   "cell_type": "code",
   "execution_count": 91,
   "metadata": {
    "ExecuteTime": {
     "end_time": "2020-12-20T08:56:23.788879Z",
     "start_time": "2020-12-20T08:56:23.782626Z"
    }
   },
   "outputs": [],
   "source": [
    "def letter_set_closeness(text_a, text_b):\n",
    "    # берем множество букв, единый регистр сразу же\n",
    "    a_letter_set = set(text_a.lower()) \n",
    "    b_letter_set = set(text_b.lower()) \n",
    "    \n",
    "    # очищаем от пунктуации\n",
    "    a_letter_set = a_letter_set - set(string.punctuation)\n",
    "    b_letter_set = b_letter_set - set(string.punctuation)\n",
    "    \n",
    "    # очищаем от пробелов\n",
    "    a_letter_set = a_letter_set - set(string.whitespace)\n",
    "    b_letter_set = b_letter_set - set(string.whitespace)\n",
    "    \n",
    "    intersection = a_letter_set & b_letter_set\n",
    "    \n",
    "    return len(intersection) / len(b_letter_set)"
   ]
  },
  {
   "cell_type": "code",
   "execution_count": 92,
   "metadata": {
    "ExecuteTime": {
     "end_time": "2020-12-20T08:56:24.332648Z",
     "start_time": "2020-12-20T08:56:24.325023Z"
    }
   },
   "outputs": [
    {
     "data": {
      "text/plain": [
       "1.0"
      ]
     },
     "execution_count": 92,
     "metadata": {},
     "output_type": "execute_result"
    }
   ],
   "source": [
    "letter_set_closeness('Местная буддистская религиозная организация', 'Местная исламская религиозная организация')"
   ]
  },
  {
   "cell_type": "code",
   "execution_count": 93,
   "metadata": {
    "ExecuteTime": {
     "end_time": "2020-12-20T08:56:24.781596Z",
     "start_time": "2020-12-20T08:56:24.776576Z"
    }
   },
   "outputs": [
    {
     "data": {
      "text/plain": [
       "0.8125"
      ]
     },
     "execution_count": 93,
     "metadata": {},
     "output_type": "execute_result"
    }
   ],
   "source": [
    "letter_set_closeness('Местная буддистская религиозная организация', 'Буддийский центр Падма Самбава')"
   ]
  },
  {
   "cell_type": "code",
   "execution_count": 94,
   "metadata": {
    "ExecuteTime": {
     "end_time": "2020-12-20T08:56:25.271103Z",
     "start_time": "2020-12-20T08:56:25.267412Z"
    }
   },
   "outputs": [],
   "source": [
    "# обеспечиваем поведение \"чем больше - тем менее похоже\"\n",
    "def letter_set_distance(text_a, text_b):\n",
    "    return 1 - letter_set_closeness(text_a, text_b)"
   ]
  },
  {
   "cell_type": "markdown",
   "metadata": {},
   "source": [
    "#### Расстояние Левенштейна"
   ]
  },
  {
   "cell_type": "markdown",
   "metadata": {},
   "source": [
    "реализация подсмотрена [тут](https://ru.wikibooks.org/wiki/%D0%A0%D0%B5%D0%B0%D0%BB%D0%B8%D0%B7%D0%B0%D1%86%D0%B8%D0%B8_%D0%B0%D0%BB%D0%B3%D0%BE%D1%80%D0%B8%D1%82%D0%BC%D0%BE%D0%B2/%D0%A0%D0%B0%D1%81%D1%81%D1%82%D0%BE%D1%8F%D0%BD%D0%B8%D0%B5_%D0%9B%D0%B5%D0%B2%D0%B5%D0%BD%D1%88%D1%82%D0%B5%D0%B9%D0%BD%D0%B0#Python) (чтоб целый пакет ради этого не качать)"
   ]
  },
  {
   "cell_type": "code",
   "execution_count": 95,
   "metadata": {
    "ExecuteTime": {
     "end_time": "2020-12-20T08:56:26.569731Z",
     "start_time": "2020-12-20T08:56:26.564261Z"
    }
   },
   "outputs": [],
   "source": [
    "def levenshtein_distance(a, b):\n",
    "    \"Calculates the Levenshtein distance between a and b.\"\n",
    "    n, m = len(a), len(b)\n",
    "    if n > m:\n",
    "        # Make sure n <= m, to use O(min(n, m)) space\n",
    "        a, b = b, a\n",
    "        n, m = m, n\n",
    "\n",
    "    current_row = range(n + 1)  # Keep current and previous row, not entire matrix\n",
    "    for i in range(1, m + 1):\n",
    "        previous_row, current_row = current_row, [i] + [0] * n\n",
    "        for j in range(1, n + 1):\n",
    "            add, delete, change = previous_row[j] + 1, current_row[j - 1] + 1, previous_row[j - 1]\n",
    "            if a[j - 1] != b[i - 1]:\n",
    "                change += 1\n",
    "            current_row[j] = min(add, delete, change)\n",
    "\n",
    "    return current_row[n]"
   ]
  },
  {
   "cell_type": "code",
   "execution_count": 96,
   "metadata": {
    "ExecuteTime": {
     "end_time": "2020-12-20T08:56:27.228710Z",
     "start_time": "2020-12-20T08:56:27.222972Z"
    }
   },
   "outputs": [
    {
     "data": {
      "text/plain": [
       "7"
      ]
     },
     "execution_count": 96,
     "metadata": {},
     "output_type": "execute_result"
    }
   ],
   "source": [
    "levenshtein_distance('Местная буддистская религиозная организация', 'Местная исламская религиозная организация')"
   ]
  },
  {
   "cell_type": "code",
   "execution_count": 97,
   "metadata": {
    "ExecuteTime": {
     "end_time": "2020-12-20T08:56:27.540820Z",
     "start_time": "2020-12-20T08:56:27.535796Z"
    }
   },
   "outputs": [
    {
     "data": {
      "text/plain": [
       "32"
      ]
     },
     "execution_count": 97,
     "metadata": {},
     "output_type": "execute_result"
    }
   ],
   "source": [
    "levenshtein_distance('Местная буддистская религиозная организация', 'Буддийский центр Падма Самбава')"
   ]
  },
  {
   "cell_type": "markdown",
   "metadata": {},
   "source": [
    "#### поиск групп"
   ]
  },
  {
   "cell_type": "code",
   "execution_count": 89,
   "metadata": {
    "ExecuteTime": {
     "end_time": "2020-12-20T08:56:16.841894Z",
     "start_time": "2020-12-20T08:56:16.826944Z"
    }
   },
   "outputs": [],
   "source": [
    "def group_finder(names_series, distance_function, distance_threshold):\n",
    "    result_df = pd.DataFrame({'name': names_series})\n",
    "    result_df['name_len'] = result_df['name'].str.len()\n",
    "    result_df['group_center'] = np.nan\n",
    "    result_df['distance'] = np.nan\n",
    "    result_df['group'] = np.nan\n",
    "    \n",
    "    group_counter = 1\n",
    "    \n",
    "    while len(result_df.loc[result_df['group'].isnull()]) > 1: # если == 1 - это группа из одного имени осталась\n",
    "        group_center = result_df.loc[result_df['group'].isnull()] \\\n",
    "            .sort_values('name_len', ascending=True) \\\n",
    "            ['name'].iat[0]\n",
    "        \n",
    "        result_df.loc[result_df['group'].isnull(), 'distance'] = \\\n",
    "            result_df.loc[result_df['group'].isnull(), 'name'].apply(lambda x: distance_function(x, group_center))\n",
    "        \n",
    "        result_df.loc[\n",
    "            result_df['group'].isnull() & (result_df['distance'] < distance_threshold), \n",
    "            'group_center'\n",
    "        ] = group_center\n",
    "        \n",
    "        result_df.loc[\n",
    "            result_df['group'].isnull() & (result_df['distance'] < distance_threshold), \n",
    "            'group'\n",
    "        ] = group_counter\n",
    "        \n",
    "        group_counter += 1\n",
    "    \n",
    "    # если len(ungrupped_names_set) == 1\n",
    "    result_df['group'] = result_df['group'].fillna(group_counter) \n",
    "    result_df['group_center'] = result_df['group_center'].fillna(group_counter) \n",
    "    \n",
    "    result_df['group'] = result_df['group'].astype(int)\n",
    "    \n",
    "    return result_df"
   ]
  },
  {
   "cell_type": "code",
   "execution_count": 98,
   "metadata": {
    "ExecuteTime": {
     "end_time": "2020-12-20T08:56:31.809351Z",
     "start_time": "2020-12-20T08:56:31.654304Z"
    }
   },
   "outputs": [
    {
     "data": {
      "text/plain": [
       "1     351\n",
       "2     113\n",
       "3     120\n",
       "4      30\n",
       "5      43\n",
       "6       5\n",
       "7       1\n",
       "8       1\n",
       "9       1\n",
       "10     43\n",
       "11      1\n",
       "12     11\n",
       "13      8\n",
       "14      1\n",
       "15      1\n",
       "16      2\n",
       "17      1\n",
       "18      1\n",
       "Name: group, dtype: int64"
      ]
     },
     "execution_count": 98,
     "metadata": {},
     "output_type": "execute_result"
    }
   ],
   "source": [
    "res = group_finder(df['name'], letter_set_distance, 0.1)\n",
    "\n",
    "res['group'].value_counts().sort_index()"
   ]
  },
  {
   "cell_type": "code",
   "execution_count": 99,
   "metadata": {
    "ExecuteTime": {
     "end_time": "2020-12-20T08:57:02.973153Z",
     "start_time": "2020-12-20T08:57:02.956642Z"
    }
   },
   "outputs": [
    {
     "data": {
      "text/html": [
       "<div>\n",
       "<style scoped>\n",
       "    .dataframe tbody tr th:only-of-type {\n",
       "        vertical-align: middle;\n",
       "    }\n",
       "\n",
       "    .dataframe tbody tr th {\n",
       "        vertical-align: top;\n",
       "    }\n",
       "\n",
       "    .dataframe thead th {\n",
       "        text-align: right;\n",
       "    }\n",
       "</style>\n",
       "<table border=\"1\" class=\"dataframe\">\n",
       "  <thead>\n",
       "    <tr style=\"text-align: right;\">\n",
       "      <th></th>\n",
       "      <th>name</th>\n",
       "      <th>name_len</th>\n",
       "      <th>group_center</th>\n",
       "      <th>distance</th>\n",
       "      <th>group</th>\n",
       "    </tr>\n",
       "  </thead>\n",
       "  <tbody>\n",
       "    <tr>\n",
       "      <th>91</th>\n",
       "      <td>Местная религиозная организация - Церковь еван...</td>\n",
       "      <td>75</td>\n",
       "      <td>Молодежная миссия христиан-евангелистов</td>\n",
       "      <td>0.0625</td>\n",
       "      <td>6</td>\n",
       "    </tr>\n",
       "    <tr>\n",
       "      <th>133</th>\n",
       "      <td>Местная религиозная организация Евангельских х...</td>\n",
       "      <td>87</td>\n",
       "      <td>Молодежная миссия христиан-евангелистов</td>\n",
       "      <td>0.0625</td>\n",
       "      <td>6</td>\n",
       "    </tr>\n",
       "    <tr>\n",
       "      <th>494</th>\n",
       "      <td>Местная религиозная организация христиан Христ...</td>\n",
       "      <td>97</td>\n",
       "      <td>Молодежная миссия христиан-евангелистов</td>\n",
       "      <td>0.0625</td>\n",
       "      <td>6</td>\n",
       "    </tr>\n",
       "    <tr>\n",
       "      <th>508</th>\n",
       "      <td>Местная религиозная организация Церковь Адвент...</td>\n",
       "      <td>89</td>\n",
       "      <td>Молодежная миссия христиан-евангелистов</td>\n",
       "      <td>0.0625</td>\n",
       "      <td>6</td>\n",
       "    </tr>\n",
       "    <tr>\n",
       "      <th>569</th>\n",
       "      <td>Молодежная миссия христиан-евангелистов</td>\n",
       "      <td>39</td>\n",
       "      <td>Молодежная миссия христиан-евангелистов</td>\n",
       "      <td>0.0000</td>\n",
       "      <td>6</td>\n",
       "    </tr>\n",
       "  </tbody>\n",
       "</table>\n",
       "</div>"
      ],
      "text/plain": [
       "                                                  name  name_len  \\\n",
       "91   Местная религиозная организация - Церковь еван...        75   \n",
       "133  Местная религиозная организация Евангельских х...        87   \n",
       "494  Местная религиозная организация христиан Христ...        97   \n",
       "508  Местная религиозная организация Церковь Адвент...        89   \n",
       "569            Молодежная миссия христиан-евангелистов        39   \n",
       "\n",
       "                                group_center  distance  group  \n",
       "91   Молодежная миссия христиан-евангелистов    0.0625      6  \n",
       "133  Молодежная миссия христиан-евангелистов    0.0625      6  \n",
       "494  Молодежная миссия христиан-евангелистов    0.0625      6  \n",
       "508  Молодежная миссия христиан-евангелистов    0.0625      6  \n",
       "569  Молодежная миссия христиан-евангелистов    0.0000      6  "
      ]
     },
     "execution_count": 99,
     "metadata": {},
     "output_type": "execute_result"
    }
   ],
   "source": [
    "res.loc[res['group'] == 6]"
   ]
  },
  {
   "cell_type": "code",
   "execution_count": 210,
   "metadata": {
    "ExecuteTime": {
     "end_time": "2020-12-19T22:09:11.299709Z",
     "start_time": "2020-12-19T22:09:11.286984Z"
    }
   },
   "outputs": [
    {
     "data": {
      "text/plain": [
       "array(['Местная религиозная организация - Церковь евангельских христиан \"Река Жизни',\n",
       "       'Местная религиозная организация Евангельских христиан \"Христианская миссия \"Новая жизнь',\n",
       "       'Местная религиозная организация христиан Христианская миссия \"Евангелическое Лютеранское Служение',\n",
       "       'Местная религиозная организация Церковь Адвентистов Седьмого Дня Реформационного Движения',\n",
       "       'Молодежная миссия христиан-евангелистов'], dtype=object)"
      ]
     },
     "execution_count": 210,
     "metadata": {},
     "output_type": "execute_result"
    }
   ],
   "source": [
    "res.loc[res['group'] == 6]['name'].values"
   ]
  },
  {
   "cell_type": "code",
   "execution_count": null,
   "metadata": {},
   "outputs": [],
   "source": []
  },
  {
   "cell_type": "code",
   "execution_count": 100,
   "metadata": {
    "ExecuteTime": {
     "end_time": "2020-12-20T08:58:37.746397Z",
     "start_time": "2020-12-20T08:58:29.857530Z"
    }
   },
   "outputs": [
    {
     "data": {
      "text/plain": [
       "1    454\n",
       "2     64\n",
       "3    159\n",
       "4      2\n",
       "5     52\n",
       "6      1\n",
       "7      1\n",
       "8      1\n",
       "Name: group, dtype: int64"
      ]
     },
     "execution_count": 100,
     "metadata": {},
     "output_type": "execute_result"
    }
   ],
   "source": [
    "res = group_finder(df['name'], levenshtein_distance, 100)\n",
    "\n",
    "res['group'].value_counts().sort_index()"
   ]
  },
  {
   "cell_type": "code",
   "execution_count": 216,
   "metadata": {
    "ExecuteTime": {
     "end_time": "2020-12-19T22:14:23.356183Z",
     "start_time": "2020-12-19T22:14:23.342094Z"
    }
   },
   "outputs": [
    {
     "data": {
      "text/plain": [
       "array(['Религиозная организация - Православная религиозная община Великомученника и Целителя Пантелеймона Украинской православной церкви Киевского Патриархата',\n",
       "       'Религиозная организация Первая Московская Христианская Миссионерская Церковь Полного Евангелия Христианского миссионерского центра \"Вселенная - Иисусу'],\n",
       "      dtype=object)"
      ]
     },
     "execution_count": 216,
     "metadata": {},
     "output_type": "execute_result"
    }
   ],
   "source": [
    "res.loc[res['group'] == 4]['name'].values"
   ]
  },
  {
   "cell_type": "code",
   "execution_count": null,
   "metadata": {},
   "outputs": [],
   "source": []
  },
  {
   "cell_type": "code",
   "execution_count": null,
   "metadata": {},
   "outputs": [],
   "source": []
  },
  {
   "cell_type": "markdown",
   "metadata": {},
   "source": [
    "#### а если выбросить частотные слова?"
   ]
  },
  {
   "cell_type": "code",
   "execution_count": 101,
   "metadata": {
    "ExecuteTime": {
     "end_time": "2020-12-20T09:00:35.092686Z",
     "start_time": "2020-12-20T09:00:34.896446Z"
    }
   },
   "outputs": [
    {
     "data": {
      "text/plain": [
       "религиозная     715\n",
       "организация     661\n",
       "местная         564\n",
       "``              504\n",
       "церкви          295\n",
       "приход          258\n",
       "православной    256\n",
       "московской      253\n",
       "русской         249\n",
       "епархии         248\n",
       "храма           244\n",
       ")               243\n",
       "(               243\n",
       "москвы          240\n",
       "православный    233\n",
       "церковь         214\n",
       "московский      201\n",
       "в               199\n",
       "христиан        196\n",
       "гор.            192\n",
       "патриархат      191\n",
       "евангельских    117\n",
       "-                98\n",
       "веры             91\n",
       "община           91\n",
       "московская       90\n",
       "евангельской     84\n",
       "''               75\n",
       "на               75\n",
       ",                60\n",
       "dtype: int64"
      ]
     },
     "execution_count": 101,
     "metadata": {},
     "output_type": "execute_result"
    }
   ],
   "source": [
    "tokenized_names = df['name'].str.lower().apply(nltk.word_tokenize, language=\"russian\")\n",
    "\n",
    "tokens = pd.Series(tokenized_names.sum())\n",
    "\n",
    "tokens.value_counts().head(30)"
   ]
  },
  {
   "cell_type": "code",
   "execution_count": 102,
   "metadata": {
    "ExecuteTime": {
     "end_time": "2020-12-20T09:02:00.929931Z",
     "start_time": "2020-12-20T09:02:00.922244Z"
    }
   },
   "outputs": [
    {
     "data": {
      "text/plain": [
       "['и', 'в', 'во', 'не', 'что', 'он', 'на', 'я', 'с', 'со']"
      ]
     },
     "execution_count": 102,
     "metadata": {},
     "output_type": "execute_result"
    }
   ],
   "source": [
    "russian_stopwords = stopwords.words(\"russian\")\n",
    "\n",
    "russian_stopwords[:10]"
   ]
  },
  {
   "cell_type": "code",
   "execution_count": 103,
   "metadata": {
    "ExecuteTime": {
     "end_time": "2020-12-20T09:02:30.433012Z",
     "start_time": "2020-12-20T09:02:30.428961Z"
    }
   },
   "outputs": [
    {
     "data": {
      "text/plain": [
       "151"
      ]
     },
     "execution_count": 103,
     "metadata": {},
     "output_type": "execute_result"
    }
   ],
   "source": [
    "len(russian_stopwords)"
   ]
  },
  {
   "cell_type": "code",
   "execution_count": 104,
   "metadata": {
    "ExecuteTime": {
     "end_time": "2020-12-20T09:03:06.630686Z",
     "start_time": "2020-12-20T09:03:06.627512Z"
    }
   },
   "outputs": [],
   "source": [
    "russian_stopwords += list(string.punctuation)\n",
    "russian_stopwords += ['местная', 'религиозная', 'организация', 'московской', 'гор.', 'москвы', 'московский']"
   ]
  },
  {
   "cell_type": "code",
   "execution_count": 105,
   "metadata": {
    "ExecuteTime": {
     "end_time": "2020-12-20T09:03:14.585999Z",
     "start_time": "2020-12-20T09:03:14.571892Z"
    }
   },
   "outputs": [
    {
     "data": {
      "text/plain": [
       "``                  504\n",
       "церкви              295\n",
       "приход              258\n",
       "православной        256\n",
       "русской             249\n",
       "епархии             248\n",
       "храма               244\n",
       "православный        233\n",
       "церковь             214\n",
       "христиан            196\n",
       "патриархат          191\n",
       "евангельских        117\n",
       "община               91\n",
       "веры                 91\n",
       "московская           90\n",
       "евангельской         84\n",
       "''                   75\n",
       "христианская         51\n",
       "божией               45\n",
       "матери               43\n",
       "иконы                40\n",
       "пресвитерианская     40\n",
       "святителя            36\n",
       "богородицы           33\n",
       "пресвятой            32\n",
       "миссия               32\n",
       "центр                30\n",
       "пятидесятников       29\n",
       "святого              27\n",
       "методистская         26\n",
       "dtype: int64"
      ]
     },
     "execution_count": 105,
     "metadata": {},
     "output_type": "execute_result"
    }
   ],
   "source": [
    "tokens.loc[- tokens.isin(russian_stopwords)].value_counts().head(30)"
   ]
  },
  {
   "cell_type": "code",
   "execution_count": 106,
   "metadata": {
    "ExecuteTime": {
     "end_time": "2020-12-20T09:03:22.121655Z",
     "start_time": "2020-12-20T09:03:22.118858Z"
    }
   },
   "outputs": [],
   "source": [
    "russian_stopwords += ['``', \"''\"]"
   ]
  },
  {
   "cell_type": "code",
   "execution_count": 107,
   "metadata": {
    "ExecuteTime": {
     "end_time": "2020-12-20T09:05:29.060470Z",
     "start_time": "2020-12-20T09:05:29.015092Z"
    }
   },
   "outputs": [
    {
     "data": {
      "text/html": [
       "<div>\n",
       "<style scoped>\n",
       "    .dataframe tbody tr th:only-of-type {\n",
       "        vertical-align: middle;\n",
       "    }\n",
       "\n",
       "    .dataframe tbody tr th {\n",
       "        vertical-align: top;\n",
       "    }\n",
       "\n",
       "    .dataframe thead th {\n",
       "        text-align: right;\n",
       "    }\n",
       "</style>\n",
       "<table border=\"1\" class=\"dataframe\">\n",
       "  <thead>\n",
       "    <tr style=\"text-align: right;\">\n",
       "      <th></th>\n",
       "      <th>name</th>\n",
       "      <th>filtered_name</th>\n",
       "    </tr>\n",
       "  </thead>\n",
       "  <tbody>\n",
       "    <tr>\n",
       "      <th>0</th>\n",
       "      <td>Местная религиозная организация Московское общ...</td>\n",
       "      <td>кришнымосковскоеобществосознания</td>\n",
       "    </tr>\n",
       "    <tr>\n",
       "      <th>1</th>\n",
       "      <td>Ахмадийская мусульманская община г.Москвы</td>\n",
       "      <td>ахмадийскаяг.москвымусульманскаяобщина</td>\n",
       "    </tr>\n",
       "    <tr>\n",
       "      <th>2</th>\n",
       "      <td>Буддийский центр Падма Самбава</td>\n",
       "      <td>буддийскийпадмасамбавацентр</td>\n",
       "    </tr>\n",
       "    <tr>\n",
       "      <th>3</th>\n",
       "      <td>Иудейская религиозная организация \"Московская ...</td>\n",
       "      <td>грузинскихевреевиудейскаямосковскаяобщинасефардов</td>\n",
       "    </tr>\n",
       "    <tr>\n",
       "      <th>4</th>\n",
       "      <td>Корейская пресветерианская Церковь</td>\n",
       "      <td>корейскаяпресветерианскаяцерковь</td>\n",
       "    </tr>\n",
       "  </tbody>\n",
       "</table>\n",
       "</div>"
      ],
      "text/plain": [
       "                                                name  \\\n",
       "0  Местная религиозная организация Московское общ...   \n",
       "1          Ахмадийская мусульманская община г.Москвы   \n",
       "2                     Буддийский центр Падма Самбава   \n",
       "3  Иудейская религиозная организация \"Московская ...   \n",
       "4                 Корейская пресветерианская Церковь   \n",
       "\n",
       "                                       filtered_name  \n",
       "0                   кришнымосковскоеобществосознания  \n",
       "1             ахмадийскаяг.москвымусульманскаяобщина  \n",
       "2                        буддийскийпадмасамбавацентр  \n",
       "3  грузинскихевреевиудейскаямосковскаяобщинасефардов  \n",
       "4                   корейскаяпресветерианскаяцерковь  "
      ]
     },
     "execution_count": 107,
     "metadata": {},
     "output_type": "execute_result"
    }
   ],
   "source": [
    "df['filtered_name'] = tokenized_names.apply(\n",
    "    lambda x: ''.join(np.sort([y for y in x if y not in russian_stopwords]))\n",
    ")\n",
    "\n",
    "df[['name', 'filtered_name']].head()"
   ]
  },
  {
   "cell_type": "code",
   "execution_count": null,
   "metadata": {},
   "outputs": [],
   "source": []
  },
  {
   "cell_type": "code",
   "execution_count": null,
   "metadata": {},
   "outputs": [],
   "source": []
  },
  {
   "cell_type": "code",
   "execution_count": 109,
   "metadata": {
    "ExecuteTime": {
     "end_time": "2020-12-20T09:06:12.747442Z",
     "start_time": "2020-12-20T09:06:12.656664Z"
    }
   },
   "outputs": [
    {
     "data": {
      "text/plain": [
       "1     458\n",
       "2     103\n",
       "3      46\n",
       "4      24\n",
       "5       6\n",
       "6      33\n",
       "7      54\n",
       "8       1\n",
       "9       5\n",
       "10      2\n",
       "11      1\n",
       "12      1\n",
       "Name: group, dtype: int64"
      ]
     },
     "execution_count": 109,
     "metadata": {},
     "output_type": "execute_result"
    }
   ],
   "source": [
    "res = group_finder(df['filtered_name'], letter_set_distance, 0.2)\n",
    "\n",
    "res['group'].value_counts().sort_index()"
   ]
  },
  {
   "cell_type": "code",
   "execution_count": 110,
   "metadata": {
    "ExecuteTime": {
     "end_time": "2020-12-20T09:06:15.689203Z",
     "start_time": "2020-12-20T09:06:15.680952Z"
    }
   },
   "outputs": [
    {
     "data": {
      "text/plain": [
       "array(['Местная религиозная организация Армянская Апостольская Церковь \"Сурб Арутюн\"(\"Святое Воскресенье\") г.Москвы',\n",
       "       'Местная религиозная организация Армянская Апостольская Церковь \"Сурб Ованес Мкртыч',\n",
       "       'Местная религиозная организация мусульман \"Прямой путь',\n",
       "       'Местная религиозная организация Пресвитерианская Церковь \"Семья Иисуса',\n",
       "       'Местная религиозная организация-Московская Пресвитерианская Церковь \"Вечный Камень',\n",
       "       'Религиозная организация - Община Святой Апостольской Ассирийской Церкви Востока'],\n",
       "      dtype=object)"
      ]
     },
     "execution_count": 110,
     "metadata": {},
     "output_type": "execute_result"
    }
   ],
   "source": [
    "df.loc[res['group'] == 5]['name'].values"
   ]
  },
  {
   "cell_type": "code",
   "execution_count": 111,
   "metadata": {
    "ExecuteTime": {
     "end_time": "2020-12-20T09:07:27.544542Z",
     "start_time": "2020-12-20T09:07:23.271207Z"
    }
   },
   "outputs": [
    {
     "data": {
      "text/plain": [
       "1     461\n",
       "2      23\n",
       "3       1\n",
       "4     231\n",
       "5       1\n",
       "6       1\n",
       "7       4\n",
       "8       1\n",
       "9       1\n",
       "10      1\n",
       "11      1\n",
       "12      2\n",
       "13      1\n",
       "14      2\n",
       "15      1\n",
       "16      1\n",
       "17      1\n",
       "Name: group, dtype: int64"
      ]
     },
     "execution_count": 111,
     "metadata": {},
     "output_type": "execute_result"
    }
   ],
   "source": [
    "res = group_finder(df['filtered_name'], levenshtein_distance, 70)\n",
    "\n",
    "res['group'].value_counts().sort_index()"
   ]
  },
  {
   "cell_type": "code",
   "execution_count": 112,
   "metadata": {
    "ExecuteTime": {
     "end_time": "2020-12-20T09:07:39.415729Z",
     "start_time": "2020-12-20T09:07:39.409267Z"
    }
   },
   "outputs": [
    {
     "data": {
      "text/plain": [
       "array(['Местная религиозная организация - православное Сестричество святых бессребренников Космы и Дамиана в Космодемьянском, г. Москвы, Московской епархии Русской Православной церкви (Московский Патриархат)',\n",
       "       'Местная религиозная организация - Православный приход Во имя Покрова Пресвятой Богородицы в граде Зеленограде Московской Архиепископии Православной Кафолической церкви',\n",
       "       'Местная религиозная организация Православный приход храма Вознесения Господня на Большой Никитиской (Малое Вознесение) гор. Москвы Московской епархии Русской Православной Церкви (Московский Патриархат)',\n",
       "       'Религиозная организация - Православная религиозная община Великомученника и Целителя Пантелеймона Украинской православной церкви Киевского Патриархата'],\n",
       "      dtype=object)"
      ]
     },
     "execution_count": 112,
     "metadata": {},
     "output_type": "execute_result"
    }
   ],
   "source": [
    "df.loc[res['group'] == 7]['name'].values"
   ]
  },
  {
   "cell_type": "code",
   "execution_count": null,
   "metadata": {},
   "outputs": [],
   "source": []
  },
  {
   "cell_type": "markdown",
   "metadata": {},
   "source": [
    "## Несколько графиков на одной картинке"
   ]
  },
  {
   "cell_type": "markdown",
   "metadata": {},
   "source": [
    "### несколько графиков на одних осях"
   ]
  },
  {
   "cell_type": "code",
   "execution_count": null,
   "metadata": {},
   "outputs": [],
   "source": [
    "ax = df.plot()"
   ]
  },
  {
   "cell_type": "code",
   "execution_count": 15,
   "metadata": {
    "ExecuteTime": {
     "end_time": "2020-12-20T07:12:28.594252Z",
     "start_time": "2020-12-20T07:12:28.393103Z"
    }
   },
   "outputs": [
    {
     "data": {
      "image/png": "[encoded data removed]",
      "text/plain": [
       "<Figure size 1224x576 with 1 Axes>"
      ]
     },
     "metadata": {},
     "output_type": "display_data"
    }
   ],
   "source": [
    "ax = plt.axes()\n",
    "\n",
    "ax.plot([0, 6], [500, 700], color='g')\n",
    "ax.bar([1, 3, 5], [600, 750, 400])\n",
    "\n",
    "plt.show();"
   ]
  },
  {
   "cell_type": "markdown",
   "metadata": {},
   "source": [
    "### несколько наборов осей на одной картинке"
   ]
  },
  {
   "cell_type": "code",
   "execution_count": 21,
   "metadata": {
    "ExecuteTime": {
     "end_time": "2020-12-20T07:14:53.745825Z",
     "start_time": "2020-12-20T07:14:53.698689Z"
    }
   },
   "outputs": [],
   "source": [
    "plt.subplots?"
   ]
  },
  {
   "cell_type": "code",
   "execution_count": 27,
   "metadata": {
    "ExecuteTime": {
     "end_time": "2020-12-20T07:21:19.333699Z",
     "start_time": "2020-12-20T07:21:19.091856Z"
    }
   },
   "outputs": [
    {
     "data": {
      "image/png": "[encoded data removed]",
      "text/plain": [
       "<Figure size 1224x432 with 2 Axes>"
      ]
     },
     "metadata": {},
     "output_type": "display_data"
    }
   ],
   "source": [
    "fig, (ax1, ax2) = plt.subplots(1, 2, figsize=(17,6), sharey=True)\n",
    "\n",
    "ax1.plot([0, 6], [500, 700])\n",
    "ax2.bar([1, 3, 5], [600, 750, 400])\n",
    "\n",
    "# ax1.set_ylim((0,725))\n",
    "\n",
    "plt.show();"
   ]
  },
  {
   "cell_type": "markdown",
   "metadata": {},
   "source": [
    "### несколько осей на один график"
   ]
  },
  {
   "cell_type": "code",
   "execution_count": 34,
   "metadata": {
    "ExecuteTime": {
     "end_time": "2020-12-20T07:29:03.272801Z",
     "start_time": "2020-12-20T07:29:03.267099Z"
    }
   },
   "outputs": [
    {
     "data": {
      "text/plain": [
       "range(0, 10)"
      ]
     },
     "execution_count": 34,
     "metadata": {},
     "output_type": "execute_result"
    }
   ],
   "source": [
    "range(0, 10, 1)"
   ]
  },
  {
   "cell_type": "code",
   "execution_count": 33,
   "metadata": {
    "ExecuteTime": {
     "end_time": "2020-12-20T07:28:47.881563Z",
     "start_time": "2020-12-20T07:28:47.875946Z"
    }
   },
   "outputs": [
    {
     "data": {
      "text/plain": [
       "array([0. , 0.1, 0.2, 0.3, 0.4, 0.5, 0.6, 0.7, 0.8, 0.9])"
      ]
     },
     "execution_count": 33,
     "metadata": {},
     "output_type": "execute_result"
    }
   ],
   "source": [
    "np.arange(0,1,0.1)"
   ]
  },
  {
   "cell_type": "code",
   "execution_count": 36,
   "metadata": {
    "ExecuteTime": {
     "end_time": "2020-12-20T07:29:56.559260Z",
     "start_time": "2020-12-20T07:29:56.335597Z"
    }
   },
   "outputs": [
    {
     "data": {
      "image/png": "[encoded data removed]",
      "text/plain": [
       "<Figure size 1224x576 with 2 Axes>"
      ]
     },
     "metadata": {},
     "output_type": "display_data"
    }
   ],
   "source": [
    "ax1 = plt.axes()\n",
    "\n",
    "ax2 = ax1.twinx()\n",
    "\n",
    "ax1.plot([0, 6], [500, 700], color='g')\n",
    "ax1.set_ylabel('y1', color='g')\n",
    "\n",
    "ax2.bar([1, 3, 5], [0.5, 0.3, 0.8], color='b')\n",
    "ax2.set_ylabel('y2', color='b')\n",
    "ax2.set_yticks(np.arange(0, 10, 2))\n",
    "ax2.set_yticklabels(np.arange(0, 1, 0.2), color='b')\n",
    "\n",
    "plt.show();"
   ]
  },
  {
   "cell_type": "code",
   "execution_count": 37,
   "metadata": {
    "ExecuteTime": {
     "end_time": "2020-12-20T07:37:58.608009Z",
     "start_time": "2020-12-20T07:37:58.142004Z"
    }
   },
   "outputs": [
    {
     "data": {
      "image/png": "[encoded data removed]",
      "text/plain": [
       "<Figure size 1224x576 with 2 Axes>"
      ]
     },
     "metadata": {},
     "output_type": "display_data"
    }
   ],
   "source": [
    "ax1 = plt.axes()\n",
    "\n",
    "ax2 = ax1.twiny()\n",
    "\n",
    "ax1.plot([100, 600], [500, 700])\n",
    "ax2.bar([1, 3, 5], [600, 750, 400])\n",
    "\n",
    "plt.show();"
   ]
  },
  {
   "cell_type": "code",
   "execution_count": null,
   "metadata": {},
   "outputs": [],
   "source": []
  }
 ],
 "metadata": {
  "kernelspec": {
   "display_name": "Python 3",
   "language": "python",
   "name": "python3"
  },
  "language_info": {
   "codemirror_mode": {
    "name": "ipython",
    "version": 3
   },
   "file_extension": ".py",
   "mimetype": "text/x-python",
   "name": "python",
   "nbconvert_exporter": "python",
   "pygments_lexer": "ipython3",
   "version": "3.7.6"
  },
  "toc": {
   "base_numbering": 1,
   "nav_menu": {},
   "number_sections": true,
   "sideBar": true,
   "skip_h1_title": true,
   "title_cell": "Содержание",
   "title_sidebar": "Contents",
   "toc_cell": true,
   "toc_position": {
    "height": "calc(100% - 180px)",
    "left": "10px",
    "top": "150px",
    "width": "312.986px"
   },
   "toc_section_display": true,
   "toc_window_display": true
  },
  "varInspector": {
   "cols": {
    "lenName": 16,
    "lenType": 16,
    "lenVar": 40
   },
   "kernels_config": {
    "python": {
     "delete_cmd_postfix": "",
     "delete_cmd_prefix": "del ",
     "library": "var_list.py",
     "varRefreshCmd": "print(var_dic_list())"
    },
    "r": {
     "delete_cmd_postfix": ") ",
     "delete_cmd_prefix": "rm(",
     "library": "var_list.r",
     "varRefreshCmd": "cat(var_dic_list()) "
    }
   },
   "types_to_exclude": [
    "module",
    "function",
    "builtin_function_or_method",
    "instance",
    "_Feature"
   ],
   "window_display": false
  }
 },
 "nbformat": 4,
 "nbformat_minor": 4
}
